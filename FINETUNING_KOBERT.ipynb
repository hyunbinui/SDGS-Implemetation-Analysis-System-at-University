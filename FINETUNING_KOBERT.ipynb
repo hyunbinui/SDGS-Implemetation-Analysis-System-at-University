{
  "cells": [
    {
      "cell_type": "markdown",
      "source": [
        "# Fine-tuning koBERT on the University SDGS multi-class classification \n",
        "\n",
        "- *data_augmentation(Back-Translation)* \n",
        "- *split train/validation data*\n",
        "- *load pretrained model*\n",
        "- *fine-tuning on calssification task* \n",
        "- *test for new_data*\n"
      ],
      "metadata": {
        "id": "-vO8J-NJJRln"
      }
    },
    {
      "cell_type": "markdown",
      "source": [
        "### Getting all the libraries + build the environment"
      ],
      "metadata": {
        "id": "YpTaiqgysXEZ"
      }
    },
    {
      "cell_type": "code",
      "execution_count": null,
      "metadata": {
        "id": "tpnCV8d0-l4y",
        "colab": {
          "base_uri": "https://localhost:8080/"
        },
        "outputId": "5c118444-9a97-4b7e-d2fc-33c7b056b38d"
      },
      "outputs": [
        {
          "output_type": "stream",
          "name": "stdout",
          "text": [
            "Mounted at /content/drive\n"
          ]
        }
      ],
      "source": [
        "#구글드라이브 연동\n",
        "from google.colab import drive\n",
        "drive.mount('/content/drive')"
      ]
    },
    {
      "cell_type": "markdown",
      "metadata": {
        "id": "f4A0MO2782rO"
      },
      "source": [
        "- Python >= 3.6\n",
        "- PyTorch >= 1.70\n",
        "- Transformers = 3.0.2\n"
      ]
    },
    {
      "cell_type": "code",
      "execution_count": null,
      "metadata": {
        "colab": {
          "base_uri": "https://localhost:8080/"
        },
        "id": "JXn8dPIC81Ak",
        "outputId": "6088fc2b-8e10-4c16-f33c-fac51de14187"
      },
      "outputs": [
        {
          "output_type": "stream",
          "name": "stdout",
          "text": [
            "Looking in indexes: https://pypi.org/simple, https://us-python.pkg.dev/colab-wheels/public/simple/\n",
            "Collecting mxnet\n",
            "  Downloading mxnet-1.9.1-py3-none-manylinux2014_x86_64.whl (49.1 MB)\n",
            "\u001b[K     |████████████████████████████████| 49.1 MB 138 kB/s \n",
            "\u001b[?25hRequirement already satisfied: requests<3,>=2.20.0 in /usr/local/lib/python3.7/dist-packages (from mxnet) (2.23.0)\n",
            "Collecting graphviz<0.9.0,>=0.8.1\n",
            "  Downloading graphviz-0.8.4-py2.py3-none-any.whl (16 kB)\n",
            "Requirement already satisfied: numpy<2.0.0,>1.16.0 in /usr/local/lib/python3.7/dist-packages (from mxnet) (1.21.6)\n",
            "Requirement already satisfied: urllib3!=1.25.0,!=1.25.1,<1.26,>=1.21.1 in /usr/local/lib/python3.7/dist-packages (from requests<3,>=2.20.0->mxnet) (1.24.3)\n",
            "Requirement already satisfied: certifi>=2017.4.17 in /usr/local/lib/python3.7/dist-packages (from requests<3,>=2.20.0->mxnet) (2022.9.24)\n",
            "Requirement already satisfied: chardet<4,>=3.0.2 in /usr/local/lib/python3.7/dist-packages (from requests<3,>=2.20.0->mxnet) (3.0.4)\n",
            "Requirement already satisfied: idna<3,>=2.5 in /usr/local/lib/python3.7/dist-packages (from requests<3,>=2.20.0->mxnet) (2.10)\n",
            "Installing collected packages: graphviz, mxnet\n",
            "  Attempting uninstall: graphviz\n",
            "    Found existing installation: graphviz 0.10.1\n",
            "    Uninstalling graphviz-0.10.1:\n",
            "      Successfully uninstalled graphviz-0.10.1\n",
            "Successfully installed graphviz-0.8.4 mxnet-1.9.1\n",
            "Looking in indexes: https://pypi.org/simple, https://us-python.pkg.dev/colab-wheels/public/simple/\n",
            "Collecting gluonnlp\n",
            "  Downloading gluonnlp-0.10.0.tar.gz (344 kB)\n",
            "\u001b[K     |████████████████████████████████| 344 kB 4.2 MB/s \n",
            "\u001b[?25hRequirement already satisfied: pandas in /usr/local/lib/python3.7/dist-packages (1.3.5)\n",
            "Collecting tqdm===4.63.2\n",
            "  Downloading tqdm-4.63.2-py2.py3-none-any.whl (76 kB)\n",
            "\u001b[K     |████████████████████████████████| 76 kB 5.5 MB/s \n",
            "\u001b[?25hRequirement already satisfied: numpy>=1.16.0 in /usr/local/lib/python3.7/dist-packages (from gluonnlp) (1.21.6)\n",
            "Requirement already satisfied: cython in /usr/local/lib/python3.7/dist-packages (from gluonnlp) (0.29.32)\n",
            "Requirement already satisfied: packaging in /usr/local/lib/python3.7/dist-packages (from gluonnlp) (21.3)\n",
            "Requirement already satisfied: python-dateutil>=2.7.3 in /usr/local/lib/python3.7/dist-packages (from pandas) (2.8.2)\n",
            "Requirement already satisfied: pytz>=2017.3 in /usr/local/lib/python3.7/dist-packages (from pandas) (2022.5)\n",
            "Requirement already satisfied: six>=1.5 in /usr/local/lib/python3.7/dist-packages (from python-dateutil>=2.7.3->pandas) (1.15.0)\n",
            "Requirement already satisfied: pyparsing!=3.0.5,>=2.0.2 in /usr/local/lib/python3.7/dist-packages (from packaging->gluonnlp) (3.0.9)\n",
            "Building wheels for collected packages: gluonnlp\n",
            "  Building wheel for gluonnlp (setup.py) ... \u001b[?25l\u001b[?25hdone\n",
            "  Created wheel for gluonnlp: filename=gluonnlp-0.10.0-cp37-cp37m-linux_x86_64.whl size=595738 sha256=b86df0aca3d4633f9e5498ae3b8ff5babf3588c4e835d73093d113087c867133\n",
            "  Stored in directory: /root/.cache/pip/wheels/be/b4/06/7f3fdfaf707e6b5e98b79c041e023acffbe395d78a527eae00\n",
            "Successfully built gluonnlp\n",
            "Installing collected packages: tqdm, gluonnlp\n",
            "  Attempting uninstall: tqdm\n",
            "    Found existing installation: tqdm 4.64.1\n",
            "    Uninstalling tqdm-4.64.1:\n",
            "      Successfully uninstalled tqdm-4.64.1\n",
            "Successfully installed gluonnlp-0.10.0 tqdm-4.63.2\n",
            "Looking in indexes: https://pypi.org/simple, https://us-python.pkg.dev/colab-wheels/public/simple/\n",
            "Collecting sentencepiece\n",
            "  Downloading sentencepiece-0.1.97-cp37-cp37m-manylinux_2_17_x86_64.manylinux2014_x86_64.whl (1.3 MB)\n",
            "\u001b[K     |████████████████████████████████| 1.3 MB 4.2 MB/s \n",
            "\u001b[?25hInstalling collected packages: sentencepiece\n",
            "Successfully installed sentencepiece-0.1.97\n",
            "Looking in indexes: https://pypi.org/simple, https://us-python.pkg.dev/colab-wheels/public/simple/\n",
            "Collecting transformers==3.0.2\n",
            "  Downloading transformers-3.0.2-py3-none-any.whl (769 kB)\n",
            "\u001b[K     |████████████████████████████████| 769 kB 4.3 MB/s \n",
            "\u001b[?25hRequirement already satisfied: filelock in /usr/local/lib/python3.7/dist-packages (from transformers==3.0.2) (3.8.0)\n",
            "Requirement already satisfied: regex!=2019.12.17 in /usr/local/lib/python3.7/dist-packages (from transformers==3.0.2) (2022.6.2)\n",
            "Collecting sacremoses\n",
            "  Downloading sacremoses-0.0.53.tar.gz (880 kB)\n",
            "\u001b[K     |████████████████████████████████| 880 kB 34.5 MB/s \n",
            "\u001b[?25hRequirement already satisfied: packaging in /usr/local/lib/python3.7/dist-packages (from transformers==3.0.2) (21.3)\n",
            "Requirement already satisfied: sentencepiece!=0.1.92 in /usr/local/lib/python3.7/dist-packages (from transformers==3.0.2) (0.1.97)\n",
            "Collecting tokenizers==0.8.1.rc1\n",
            "  Downloading tokenizers-0.8.1rc1-cp37-cp37m-manylinux1_x86_64.whl (3.0 MB)\n",
            "\u001b[K     |████████████████████████████████| 3.0 MB 36.0 MB/s \n",
            "\u001b[?25hRequirement already satisfied: requests in /usr/local/lib/python3.7/dist-packages (from transformers==3.0.2) (2.23.0)\n",
            "Requirement already satisfied: tqdm>=4.27 in /usr/local/lib/python3.7/dist-packages (from transformers==3.0.2) (4.63.2)\n",
            "Requirement already satisfied: numpy in /usr/local/lib/python3.7/dist-packages (from transformers==3.0.2) (1.21.6)\n",
            "Requirement already satisfied: pyparsing!=3.0.5,>=2.0.2 in /usr/local/lib/python3.7/dist-packages (from packaging->transformers==3.0.2) (3.0.9)\n",
            "Requirement already satisfied: chardet<4,>=3.0.2 in /usr/local/lib/python3.7/dist-packages (from requests->transformers==3.0.2) (3.0.4)\n",
            "Requirement already satisfied: idna<3,>=2.5 in /usr/local/lib/python3.7/dist-packages (from requests->transformers==3.0.2) (2.10)\n",
            "Requirement already satisfied: certifi>=2017.4.17 in /usr/local/lib/python3.7/dist-packages (from requests->transformers==3.0.2) (2022.9.24)\n",
            "Requirement already satisfied: urllib3!=1.25.0,!=1.25.1,<1.26,>=1.21.1 in /usr/local/lib/python3.7/dist-packages (from requests->transformers==3.0.2) (1.24.3)\n",
            "Requirement already satisfied: six in /usr/local/lib/python3.7/dist-packages (from sacremoses->transformers==3.0.2) (1.15.0)\n",
            "Requirement already satisfied: click in /usr/local/lib/python3.7/dist-packages (from sacremoses->transformers==3.0.2) (7.1.2)\n",
            "Requirement already satisfied: joblib in /usr/local/lib/python3.7/dist-packages (from sacremoses->transformers==3.0.2) (1.2.0)\n",
            "Building wheels for collected packages: sacremoses\n",
            "  Building wheel for sacremoses (setup.py) ... \u001b[?25l\u001b[?25hdone\n",
            "  Created wheel for sacremoses: filename=sacremoses-0.0.53-py3-none-any.whl size=895260 sha256=2664fa7849769a85ebabd10ad6a72e36832e7124e65e18597ad250aef8107d24\n",
            "  Stored in directory: /root/.cache/pip/wheels/87/39/dd/a83eeef36d0bf98e7a4d1933a4ad2d660295a40613079bafc9\n",
            "Successfully built sacremoses\n",
            "Installing collected packages: tokenizers, sacremoses, transformers\n",
            "Successfully installed sacremoses-0.0.53 tokenizers-0.8.1rc1 transformers-3.0.2\n",
            "Looking in indexes: https://pypi.org/simple, https://us-python.pkg.dev/colab-wheels/public/simple/\n",
            "Requirement already satisfied: torch in /usr/local/lib/python3.7/dist-packages (1.12.1+cu113)\n",
            "Requirement already satisfied: typing-extensions in /usr/local/lib/python3.7/dist-packages (from torch) (4.1.1)\n"
          ]
        }
      ],
      "source": [
        "!pip install mxnet\n",
        "!pip install gluonnlp pandas tqdm===4.63.2\n",
        "!pip install sentencepiece\n",
        "!pip install transformers==3.0.2\n",
        "!pip install torch"
      ]
    },
    {
      "cell_type": "code",
      "execution_count": null,
      "metadata": {
        "colab": {
          "base_uri": "https://localhost:8080/"
        },
        "id": "FOdt9w9f-l9n",
        "outputId": "3d5a151f-8456-40d6-e9fe-aa66509dbf00"
      },
      "outputs": [
        {
          "output_type": "stream",
          "name": "stdout",
          "text": [
            "Looking in indexes: https://pypi.org/simple, https://us-python.pkg.dev/colab-wheels/public/simple/\n",
            "Collecting git+https://****@github.com/SKTBrain/KoBERT.git@master\n",
            "  Cloning https://****@github.com/SKTBrain/KoBERT.git (to revision master) to /tmp/pip-req-build-q4l_h7jr\n",
            "  Running command git clone -q 'https://****@github.com/SKTBrain/KoBERT.git' /tmp/pip-req-build-q4l_h7jr\n",
            "Collecting boto3<=1.15.18\n",
            "  Downloading boto3-1.15.18-py2.py3-none-any.whl (129 kB)\n",
            "\u001b[K     |████████████████████████████████| 129 kB 4.3 MB/s \n",
            "\u001b[?25hRequirement already satisfied: gluonnlp<=0.10.0,>=0.6.0 in /usr/local/lib/python3.7/dist-packages (from kobert==0.2.3) (0.10.0)\n",
            "Collecting mxnet<=1.7.0.post2,>=1.4.0\n",
            "  Downloading mxnet-1.7.0.post2-py2.py3-none-manylinux2014_x86_64.whl (54.7 MB)\n",
            "\u001b[K     |████████████████████████████████| 54.7 MB 1.7 MB/s \n",
            "\u001b[?25hCollecting onnxruntime<=1.8.0,==1.8.0\n",
            "  Downloading onnxruntime-1.8.0-cp37-cp37m-manylinux_2_17_x86_64.manylinux2014_x86_64.whl (4.5 MB)\n",
            "\u001b[K     |████████████████████████████████| 4.5 MB 40.3 MB/s \n",
            "\u001b[?25hCollecting sentencepiece<=0.1.96,>=0.1.6\n",
            "  Downloading sentencepiece-0.1.96-cp37-cp37m-manylinux_2_17_x86_64.manylinux2014_x86_64.whl (1.2 MB)\n",
            "\u001b[K     |████████████████████████████████| 1.2 MB 27.4 MB/s \n",
            "\u001b[?25hCollecting torch<=1.10.1,>=1.7.0\n",
            "  Downloading torch-1.10.1-cp37-cp37m-manylinux1_x86_64.whl (881.9 MB)\n",
            "\u001b[K     |██████████████████████████████▎ | 834.1 MB 1.2 MB/s eta 0:00:41tcmalloc: large alloc 1147494400 bytes == 0x39eb4000 @  0x7faa67e8e615 0x58ead6 0x4f355e 0x4d222f 0x51041f 0x5b4ee6 0x58ff2e 0x510325 0x5b4ee6 0x58ff2e 0x50d482 0x4d00fb 0x50cb8d 0x4d00fb 0x50cb8d 0x4d00fb 0x50cb8d 0x4bac0a 0x538a76 0x590ae5 0x510280 0x5b4ee6 0x58ff2e 0x50d482 0x5b4ee6 0x58ff2e 0x50c4fc 0x58fd37 0x50ca37 0x5b4ee6 0x58ff2e\n",
            "\u001b[K     |████████████████████████████████| 881.9 MB 14 kB/s \n",
            "\u001b[?25hCollecting transformers<=4.8.1,>=4.8.1\n",
            "  Downloading transformers-4.8.1-py3-none-any.whl (2.5 MB)\n",
            "\u001b[K     |████████████████████████████████| 2.5 MB 32.0 MB/s \n",
            "\u001b[?25hRequirement already satisfied: protobuf in /usr/local/lib/python3.7/dist-packages (from onnxruntime<=1.8.0,==1.8.0->kobert==0.2.3) (3.17.3)\n",
            "Requirement already satisfied: numpy>=1.16.6 in /usr/local/lib/python3.7/dist-packages (from onnxruntime<=1.8.0,==1.8.0->kobert==0.2.3) (1.21.6)\n",
            "Requirement already satisfied: flatbuffers in /usr/local/lib/python3.7/dist-packages (from onnxruntime<=1.8.0,==1.8.0->kobert==0.2.3) (1.12)\n",
            "Collecting s3transfer<0.4.0,>=0.3.0\n",
            "  Downloading s3transfer-0.3.7-py2.py3-none-any.whl (73 kB)\n",
            "\u001b[K     |████████████████████████████████| 73 kB 2.2 MB/s \n",
            "\u001b[?25hCollecting jmespath<1.0.0,>=0.7.1\n",
            "  Downloading jmespath-0.10.0-py2.py3-none-any.whl (24 kB)\n",
            "Collecting botocore<1.19.0,>=1.18.18\n",
            "  Downloading botocore-1.18.18-py2.py3-none-any.whl (6.7 MB)\n",
            "\u001b[K     |████████████████████████████████| 6.7 MB 28.2 MB/s \n",
            "\u001b[?25hRequirement already satisfied: urllib3<1.26,>=1.20 in /usr/local/lib/python3.7/dist-packages (from botocore<1.19.0,>=1.18.18->boto3<=1.15.18->kobert==0.2.3) (1.24.3)\n",
            "Requirement already satisfied: python-dateutil<3.0.0,>=2.1 in /usr/local/lib/python3.7/dist-packages (from botocore<1.19.0,>=1.18.18->boto3<=1.15.18->kobert==0.2.3) (2.8.2)\n",
            "Requirement already satisfied: cython in /usr/local/lib/python3.7/dist-packages (from gluonnlp<=0.10.0,>=0.6.0->kobert==0.2.3) (0.29.32)\n",
            "Requirement already satisfied: packaging in /usr/local/lib/python3.7/dist-packages (from gluonnlp<=0.10.0,>=0.6.0->kobert==0.2.3) (21.3)\n",
            "Requirement already satisfied: requests<3,>=2.20.0 in /usr/local/lib/python3.7/dist-packages (from mxnet<=1.7.0.post2,>=1.4.0->kobert==0.2.3) (2.23.0)\n",
            "Requirement already satisfied: graphviz<0.9.0,>=0.8.1 in /usr/local/lib/python3.7/dist-packages (from mxnet<=1.7.0.post2,>=1.4.0->kobert==0.2.3) (0.8.4)\n",
            "Requirement already satisfied: six>=1.5 in /usr/local/lib/python3.7/dist-packages (from python-dateutil<3.0.0,>=2.1->botocore<1.19.0,>=1.18.18->boto3<=1.15.18->kobert==0.2.3) (1.15.0)\n",
            "Requirement already satisfied: chardet<4,>=3.0.2 in /usr/local/lib/python3.7/dist-packages (from requests<3,>=2.20.0->mxnet<=1.7.0.post2,>=1.4.0->kobert==0.2.3) (3.0.4)\n",
            "Requirement already satisfied: certifi>=2017.4.17 in /usr/local/lib/python3.7/dist-packages (from requests<3,>=2.20.0->mxnet<=1.7.0.post2,>=1.4.0->kobert==0.2.3) (2022.9.24)\n",
            "Requirement already satisfied: idna<3,>=2.5 in /usr/local/lib/python3.7/dist-packages (from requests<3,>=2.20.0->mxnet<=1.7.0.post2,>=1.4.0->kobert==0.2.3) (2.10)\n",
            "Requirement already satisfied: typing-extensions in /usr/local/lib/python3.7/dist-packages (from torch<=1.10.1,>=1.7.0->kobert==0.2.3) (4.1.1)\n",
            "Collecting tokenizers<0.11,>=0.10.1\n",
            "  Downloading tokenizers-0.10.3-cp37-cp37m-manylinux_2_5_x86_64.manylinux1_x86_64.manylinux_2_12_x86_64.manylinux2010_x86_64.whl (3.3 MB)\n",
            "\u001b[K     |████████████████████████████████| 3.3 MB 18.2 MB/s \n",
            "\u001b[?25hRequirement already satisfied: filelock in /usr/local/lib/python3.7/dist-packages (from transformers<=4.8.1,>=4.8.1->kobert==0.2.3) (3.8.0)\n",
            "Requirement already satisfied: regex!=2019.12.17 in /usr/local/lib/python3.7/dist-packages (from transformers<=4.8.1,>=4.8.1->kobert==0.2.3) (2022.6.2)\n",
            "Requirement already satisfied: importlib-metadata in /usr/local/lib/python3.7/dist-packages (from transformers<=4.8.1,>=4.8.1->kobert==0.2.3) (4.13.0)\n",
            "Requirement already satisfied: tqdm>=4.27 in /usr/local/lib/python3.7/dist-packages (from transformers<=4.8.1,>=4.8.1->kobert==0.2.3) (4.63.2)\n",
            "Requirement already satisfied: pyyaml in /usr/local/lib/python3.7/dist-packages (from transformers<=4.8.1,>=4.8.1->kobert==0.2.3) (6.0)\n",
            "Requirement already satisfied: sacremoses in /usr/local/lib/python3.7/dist-packages (from transformers<=4.8.1,>=4.8.1->kobert==0.2.3) (0.0.53)\n",
            "Collecting huggingface-hub==0.0.12\n",
            "  Downloading huggingface_hub-0.0.12-py3-none-any.whl (37 kB)\n",
            "Requirement already satisfied: pyparsing!=3.0.5,>=2.0.2 in /usr/local/lib/python3.7/dist-packages (from packaging->gluonnlp<=0.10.0,>=0.6.0->kobert==0.2.3) (3.0.9)\n",
            "Requirement already satisfied: zipp>=0.5 in /usr/local/lib/python3.7/dist-packages (from importlib-metadata->transformers<=4.8.1,>=4.8.1->kobert==0.2.3) (3.10.0)\n",
            "Requirement already satisfied: click in /usr/local/lib/python3.7/dist-packages (from sacremoses->transformers<=4.8.1,>=4.8.1->kobert==0.2.3) (7.1.2)\n",
            "Requirement already satisfied: joblib in /usr/local/lib/python3.7/dist-packages (from sacremoses->transformers<=4.8.1,>=4.8.1->kobert==0.2.3) (1.2.0)\n",
            "Building wheels for collected packages: kobert\n",
            "  Building wheel for kobert (setup.py) ... \u001b[?25l\u001b[?25hdone\n",
            "  Created wheel for kobert: filename=kobert-0.2.3-py3-none-any.whl size=15708 sha256=37138ef8e567f700e567152d56748694af2a2fb53485dff93234a06dad3553a5\n",
            "  Stored in directory: /tmp/pip-ephem-wheel-cache-jhxox5cg/wheels/d3/68/ca/334747dfb038313b49cf71f84832a33372f3470d9ddfd051c0\n",
            "Successfully built kobert\n",
            "Installing collected packages: jmespath, botocore, tokenizers, s3transfer, huggingface-hub, transformers, torch, sentencepiece, onnxruntime, mxnet, boto3, kobert\n",
            "  Attempting uninstall: tokenizers\n",
            "    Found existing installation: tokenizers 0.8.1rc1\n",
            "    Uninstalling tokenizers-0.8.1rc1:\n",
            "      Successfully uninstalled tokenizers-0.8.1rc1\n",
            "  Attempting uninstall: transformers\n",
            "    Found existing installation: transformers 3.0.2\n",
            "    Uninstalling transformers-3.0.2:\n",
            "      Successfully uninstalled transformers-3.0.2\n",
            "  Attempting uninstall: torch\n",
            "    Found existing installation: torch 1.12.1+cu113\n",
            "    Uninstalling torch-1.12.1+cu113:\n",
            "      Successfully uninstalled torch-1.12.1+cu113\n",
            "  Attempting uninstall: sentencepiece\n",
            "    Found existing installation: sentencepiece 0.1.97\n",
            "    Uninstalling sentencepiece-0.1.97:\n",
            "      Successfully uninstalled sentencepiece-0.1.97\n",
            "  Attempting uninstall: mxnet\n",
            "    Found existing installation: mxnet 1.9.1\n",
            "    Uninstalling mxnet-1.9.1:\n",
            "      Successfully uninstalled mxnet-1.9.1\n",
            "\u001b[31mERROR: pip's dependency resolver does not currently take into account all the packages that are installed. This behaviour is the source of the following dependency conflicts.\n",
            "torchvision 0.13.1+cu113 requires torch==1.12.1, but you have torch 1.10.1 which is incompatible.\n",
            "torchtext 0.13.1 requires torch==1.12.1, but you have torch 1.10.1 which is incompatible.\n",
            "torchaudio 0.12.1+cu113 requires torch==1.12.1, but you have torch 1.10.1 which is incompatible.\u001b[0m\n",
            "Successfully installed boto3-1.15.18 botocore-1.18.18 huggingface-hub-0.0.12 jmespath-0.10.0 kobert-0.2.3 mxnet-1.7.0.post2 onnxruntime-1.8.0 s3transfer-0.3.7 sentencepiece-0.1.96 tokenizers-0.10.3 torch-1.10.1 transformers-4.8.1\n"
          ]
        }
      ],
      "source": [
        "#Load Pretrained Model : KoBERT\n",
        "!pip install git+https://git@github.com/SKTBrain/KoBERT.git@master"
      ]
    },
    {
      "cell_type": "code",
      "execution_count": null,
      "metadata": {
        "colab": {
          "base_uri": "https://localhost:8080/"
        },
        "id": "Mjmhkr9o-l6U",
        "outputId": "df84decd-29d7-45bf-9b46-522aa25f8a8a"
      },
      "outputs": [
        {
          "output_type": "stream",
          "name": "stdout",
          "text": [
            "/content/.cache/kobert_v1.zip[██████████████████████████████████████████████████]\n",
            "/content/.cache/kobert_news_wiki_ko_cased-1087f8699e.spiece[██████████████████████████████████████████████████]\n"
          ]
        }
      ],
      "source": [
        "import torch\n",
        "from torch import nn\n",
        "import torch.nn.functional as F\n",
        "import torch.optim as optim\n",
        "from torch.utils.data import Dataset, DataLoader\n",
        "import gluonnlp as nlp\n",
        "import numpy as np\n",
        "from tqdm import tqdm, tqdm_notebook\n",
        "\n",
        "#kobert\n",
        "from kobert.utils import get_tokenizer\n",
        "from kobert.pytorch_kobert import get_pytorch_kobert_model\n",
        "\n",
        "#transformers\n",
        "from transformers import AdamW\n",
        "from transformers.optimization import get_cosine_schedule_with_warmup\n",
        "\n",
        "#GPU 사용\n",
        "# device = torch.device(\"cuda:0\")\n",
        "device = torch.device(\"cuda:0\" if torch.cuda.is_available() else \"cpu\")\n",
        "\n",
        "#BERT 모델, Vocabulary 불러오기\n",
        "bertmodel, vocab = get_pytorch_kobert_model()"
      ]
    },
    {
      "cell_type": "code",
      "source": [
        "import seaborn as sns\n",
        "import pandas as pd"
      ],
      "metadata": {
        "id": "yZdbXfWVrxyN"
      },
      "execution_count": null,
      "outputs": []
    },
    {
      "cell_type": "markdown",
      "source": [
        "### Getting datasets"
      ],
      "metadata": {
        "id": "lp_lqgVfbfKW"
      }
    },
    {
      "cell_type": "code",
      "source": [
        "# 크롤링으로 수집한 대학의 SDGS활동 라벨 데이터 로드\n",
        "df= pd.read_csv('preprocessed_kor.csv')  \n",
        "df_ktextaug = df[['국가','대학교명','분류','영한_재번역']]\n",
        "df_ktextaug"
      ],
      "metadata": {
        "id": "y4s1el2xtRkm",
        "colab": {
          "base_uri": "https://localhost:8080/",
          "height": 424
        },
        "outputId": "ff747d92-fd78-45fb-826b-89bf0c631ef0"
      },
      "execution_count": null,
      "outputs": [
        {
          "output_type": "execute_result",
          "data": {
            "text/plain": [
              "      국가                       대학교명  분류  \\\n",
              "0     영국                  Leicester   1   \n",
              "1     영국                  Leicester   2   \n",
              "2     영국                  Leicester   3   \n",
              "3     영국                  Leicester   4   \n",
              "4     영국                  Leicester   5   \n",
              "...   ..                        ...  ..   \n",
              "7065  영국  University of East Anglia  17   \n",
              "7066  영국  University of East Anglia  17   \n",
              "7067  영국  University of East Anglia  17   \n",
              "7068  영국  University of East Anglia  17   \n",
              "7069  영국  University of East Anglia  17   \n",
              "\n",
              "                                                 영한_재번역  \n",
              "0     Vostanis의 연구 (심리학) 교수는 특히 저소득 국가에 중점을 둔 아동 정신 ...  \n",
              "1     Leicester University Royal Botanic Gardens Kew...  \n",
              "2     Sally Singh 교수는 저소득 및 중간 소득 국가에서 적절한 폐 재활 프로그램...  \n",
              "3     런던에서 레스터 파트너십 제도는 학생 Polar 우편 번호를 기반으로 한 Great...  \n",
              "4     레스터 로스쿨 (Leicester Law School)의 Eugenia Caracc...  \n",
              "...                                                 ...  \n",
              "7065  Aurora Students Organization UEA는 오로라 학생회의 현재 ...  \n",
              "7066  SU 파트너십 우리의 SU는 여러 NGO 및 모든 사람들을위한 건강 포용성 및 번영...  \n",
              "7067  운영 SDG Accord UEA는 2019 년부터 SDG Accord의 서명자였습니...  \n",
              "7068  Aurora Sustainability Working Group Aurora Net...  \n",
              "7069  파트너십 파트너십은 UEA의 중심에 있습니다우리의 파트너십의 예로는 노리치 시의회와...  \n",
              "\n",
              "[7070 rows x 4 columns]"
            ],
            "text/html": [
              "\n",
              "  <div id=\"df-1537bc54-cbd9-41fe-897f-dc34a1922f58\">\n",
              "    <div class=\"colab-df-container\">\n",
              "      <div>\n",
              "<style scoped>\n",
              "    .dataframe tbody tr th:only-of-type {\n",
              "        vertical-align: middle;\n",
              "    }\n",
              "\n",
              "    .dataframe tbody tr th {\n",
              "        vertical-align: top;\n",
              "    }\n",
              "\n",
              "    .dataframe thead th {\n",
              "        text-align: right;\n",
              "    }\n",
              "</style>\n",
              "<table border=\"1\" class=\"dataframe\">\n",
              "  <thead>\n",
              "    <tr style=\"text-align: right;\">\n",
              "      <th></th>\n",
              "      <th>국가</th>\n",
              "      <th>대학교명</th>\n",
              "      <th>분류</th>\n",
              "      <th>영한_재번역</th>\n",
              "    </tr>\n",
              "  </thead>\n",
              "  <tbody>\n",
              "    <tr>\n",
              "      <th>0</th>\n",
              "      <td>영국</td>\n",
              "      <td>Leicester</td>\n",
              "      <td>1</td>\n",
              "      <td>Vostanis의 연구 (심리학) 교수는 특히 저소득 국가에 중점을 둔 아동 정신 ...</td>\n",
              "    </tr>\n",
              "    <tr>\n",
              "      <th>1</th>\n",
              "      <td>영국</td>\n",
              "      <td>Leicester</td>\n",
              "      <td>2</td>\n",
              "      <td>Leicester University Royal Botanic Gardens Kew...</td>\n",
              "    </tr>\n",
              "    <tr>\n",
              "      <th>2</th>\n",
              "      <td>영국</td>\n",
              "      <td>Leicester</td>\n",
              "      <td>3</td>\n",
              "      <td>Sally Singh 교수는 저소득 및 중간 소득 국가에서 적절한 폐 재활 프로그램...</td>\n",
              "    </tr>\n",
              "    <tr>\n",
              "      <th>3</th>\n",
              "      <td>영국</td>\n",
              "      <td>Leicester</td>\n",
              "      <td>4</td>\n",
              "      <td>런던에서 레스터 파트너십 제도는 학생 Polar 우편 번호를 기반으로 한 Great...</td>\n",
              "    </tr>\n",
              "    <tr>\n",
              "      <th>4</th>\n",
              "      <td>영국</td>\n",
              "      <td>Leicester</td>\n",
              "      <td>5</td>\n",
              "      <td>레스터 로스쿨 (Leicester Law School)의 Eugenia Caracc...</td>\n",
              "    </tr>\n",
              "    <tr>\n",
              "      <th>...</th>\n",
              "      <td>...</td>\n",
              "      <td>...</td>\n",
              "      <td>...</td>\n",
              "      <td>...</td>\n",
              "    </tr>\n",
              "    <tr>\n",
              "      <th>7065</th>\n",
              "      <td>영국</td>\n",
              "      <td>University of East Anglia</td>\n",
              "      <td>17</td>\n",
              "      <td>Aurora Students Organization UEA는 오로라 학생회의 현재 ...</td>\n",
              "    </tr>\n",
              "    <tr>\n",
              "      <th>7066</th>\n",
              "      <td>영국</td>\n",
              "      <td>University of East Anglia</td>\n",
              "      <td>17</td>\n",
              "      <td>SU 파트너십 우리의 SU는 여러 NGO 및 모든 사람들을위한 건강 포용성 및 번영...</td>\n",
              "    </tr>\n",
              "    <tr>\n",
              "      <th>7067</th>\n",
              "      <td>영국</td>\n",
              "      <td>University of East Anglia</td>\n",
              "      <td>17</td>\n",
              "      <td>운영 SDG Accord UEA는 2019 년부터 SDG Accord의 서명자였습니...</td>\n",
              "    </tr>\n",
              "    <tr>\n",
              "      <th>7068</th>\n",
              "      <td>영국</td>\n",
              "      <td>University of East Anglia</td>\n",
              "      <td>17</td>\n",
              "      <td>Aurora Sustainability Working Group Aurora Net...</td>\n",
              "    </tr>\n",
              "    <tr>\n",
              "      <th>7069</th>\n",
              "      <td>영국</td>\n",
              "      <td>University of East Anglia</td>\n",
              "      <td>17</td>\n",
              "      <td>파트너십 파트너십은 UEA의 중심에 있습니다우리의 파트너십의 예로는 노리치 시의회와...</td>\n",
              "    </tr>\n",
              "  </tbody>\n",
              "</table>\n",
              "<p>7070 rows × 4 columns</p>\n",
              "</div>\n",
              "      <button class=\"colab-df-convert\" onclick=\"convertToInteractive('df-1537bc54-cbd9-41fe-897f-dc34a1922f58')\"\n",
              "              title=\"Convert this dataframe to an interactive table.\"\n",
              "              style=\"display:none;\">\n",
              "        \n",
              "  <svg xmlns=\"http://www.w3.org/2000/svg\" height=\"24px\"viewBox=\"0 0 24 24\"\n",
              "       width=\"24px\">\n",
              "    <path d=\"M0 0h24v24H0V0z\" fill=\"none\"/>\n",
              "    <path d=\"M18.56 5.44l.94 2.06.94-2.06 2.06-.94-2.06-.94-.94-2.06-.94 2.06-2.06.94zm-11 1L8.5 8.5l.94-2.06 2.06-.94-2.06-.94L8.5 2.5l-.94 2.06-2.06.94zm10 10l.94 2.06.94-2.06 2.06-.94-2.06-.94-.94-2.06-.94 2.06-2.06.94z\"/><path d=\"M17.41 7.96l-1.37-1.37c-.4-.4-.92-.59-1.43-.59-.52 0-1.04.2-1.43.59L10.3 9.45l-7.72 7.72c-.78.78-.78 2.05 0 2.83L4 21.41c.39.39.9.59 1.41.59.51 0 1.02-.2 1.41-.59l7.78-7.78 2.81-2.81c.8-.78.8-2.07 0-2.86zM5.41 20L4 18.59l7.72-7.72 1.47 1.35L5.41 20z\"/>\n",
              "  </svg>\n",
              "      </button>\n",
              "      \n",
              "  <style>\n",
              "    .colab-df-container {\n",
              "      display:flex;\n",
              "      flex-wrap:wrap;\n",
              "      gap: 12px;\n",
              "    }\n",
              "\n",
              "    .colab-df-convert {\n",
              "      background-color: #E8F0FE;\n",
              "      border: none;\n",
              "      border-radius: 50%;\n",
              "      cursor: pointer;\n",
              "      display: none;\n",
              "      fill: #1967D2;\n",
              "      height: 32px;\n",
              "      padding: 0 0 0 0;\n",
              "      width: 32px;\n",
              "    }\n",
              "\n",
              "    .colab-df-convert:hover {\n",
              "      background-color: #E2EBFA;\n",
              "      box-shadow: 0px 1px 2px rgba(60, 64, 67, 0.3), 0px 1px 3px 1px rgba(60, 64, 67, 0.15);\n",
              "      fill: #174EA6;\n",
              "    }\n",
              "\n",
              "    [theme=dark] .colab-df-convert {\n",
              "      background-color: #3B4455;\n",
              "      fill: #D2E3FC;\n",
              "    }\n",
              "\n",
              "    [theme=dark] .colab-df-convert:hover {\n",
              "      background-color: #434B5C;\n",
              "      box-shadow: 0px 1px 3px 1px rgba(0, 0, 0, 0.15);\n",
              "      filter: drop-shadow(0px 1px 2px rgba(0, 0, 0, 0.3));\n",
              "      fill: #FFFFFF;\n",
              "    }\n",
              "  </style>\n",
              "\n",
              "      <script>\n",
              "        const buttonEl =\n",
              "          document.querySelector('#df-1537bc54-cbd9-41fe-897f-dc34a1922f58 button.colab-df-convert');\n",
              "        buttonEl.style.display =\n",
              "          google.colab.kernel.accessAllowed ? 'block' : 'none';\n",
              "\n",
              "        async function convertToInteractive(key) {\n",
              "          const element = document.querySelector('#df-1537bc54-cbd9-41fe-897f-dc34a1922f58');\n",
              "          const dataTable =\n",
              "            await google.colab.kernel.invokeFunction('convertToInteractive',\n",
              "                                                     [key], {});\n",
              "          if (!dataTable) return;\n",
              "\n",
              "          const docLinkHtml = 'Like what you see? Visit the ' +\n",
              "            '<a target=\"_blank\" href=https://colab.research.google.com/notebooks/data_table.ipynb>data table notebook</a>'\n",
              "            + ' to learn more about interactive tables.';\n",
              "          element.innerHTML = '';\n",
              "          dataTable['output_type'] = 'display_data';\n",
              "          await google.colab.output.renderOutput(dataTable, element);\n",
              "          const docLink = document.createElement('div');\n",
              "          docLink.innerHTML = docLinkHtml;\n",
              "          element.appendChild(docLink);\n",
              "        }\n",
              "      </script>\n",
              "    </div>\n",
              "  </div>\n",
              "  "
            ]
          },
          "metadata": {},
          "execution_count": 5
        }
      ]
    },
    {
      "cell_type": "code",
      "source": [
        "# 새로운 분류라벨 달아주기\n",
        "SDGS = df_ktextaug['분류'].values\n",
        "p5 = SDGS.tolist()\n",
        "len(p5)"
      ],
      "metadata": {
        "colab": {
          "base_uri": "https://localhost:8080/"
        },
        "id": "tO4CSb8ocVRb",
        "outputId": "b53467bf-01ce-4209-c5c2-8f59a972a753"
      },
      "execution_count": null,
      "outputs": [
        {
          "output_type": "execute_result",
          "data": {
            "text/plain": [
              "7070"
            ]
          },
          "metadata": {},
          "execution_count": 7
        }
      ]
    },
    {
      "cell_type": "code",
      "source": [
        "new_label=[]\n",
        "for i in p5:\n",
        "  if i in [1,2,3,4,5,6]:\n",
        "    new_label.append(1)\n",
        "  elif i in [7,12,13,14,15]:\n",
        "    new_label.append(2)\n",
        "  elif i in [8,9,10,11]:\n",
        "    new_label.append(3)\n",
        "  elif i in [16]:\n",
        "    new_label.append(4)\n",
        "  else:\n",
        "    new_label.append(5)\n"
      ],
      "metadata": {
        "id": "3YM2-iKpdOId"
      },
      "execution_count": null,
      "outputs": []
    },
    {
      "cell_type": "code",
      "source": [
        "len(new_label)"
      ],
      "metadata": {
        "colab": {
          "base_uri": "https://localhost:8080/"
        },
        "id": "GiAw1ZB7epeB",
        "outputId": "3edbce32-fcae-4bd8-a0b8-cf1301fb7a11"
      },
      "execution_count": null,
      "outputs": [
        {
          "output_type": "execute_result",
          "data": {
            "text/plain": [
              "7070"
            ]
          },
          "metadata": {},
          "execution_count": 9
        }
      ]
    },
    {
      "cell_type": "code",
      "source": [
        "new_lb = pd.DataFrame(new_label,columns=['new_label'])\n",
        "new_lb"
      ],
      "metadata": {
        "colab": {
          "base_uri": "https://localhost:8080/",
          "height": 424
        },
        "id": "ymOHAM4CfSJr",
        "outputId": "39cc1444-6b39-4945-aaaf-5831fe1edd43"
      },
      "execution_count": null,
      "outputs": [
        {
          "output_type": "execute_result",
          "data": {
            "text/plain": [
              "      new_label\n",
              "0             1\n",
              "1             1\n",
              "2             1\n",
              "3             1\n",
              "4             1\n",
              "...         ...\n",
              "7065          5\n",
              "7066          5\n",
              "7067          5\n",
              "7068          5\n",
              "7069          5\n",
              "\n",
              "[7070 rows x 1 columns]"
            ],
            "text/html": [
              "\n",
              "  <div id=\"df-9760ae3e-7250-4e8f-94c0-c00c3d409921\">\n",
              "    <div class=\"colab-df-container\">\n",
              "      <div>\n",
              "<style scoped>\n",
              "    .dataframe tbody tr th:only-of-type {\n",
              "        vertical-align: middle;\n",
              "    }\n",
              "\n",
              "    .dataframe tbody tr th {\n",
              "        vertical-align: top;\n",
              "    }\n",
              "\n",
              "    .dataframe thead th {\n",
              "        text-align: right;\n",
              "    }\n",
              "</style>\n",
              "<table border=\"1\" class=\"dataframe\">\n",
              "  <thead>\n",
              "    <tr style=\"text-align: right;\">\n",
              "      <th></th>\n",
              "      <th>new_label</th>\n",
              "    </tr>\n",
              "  </thead>\n",
              "  <tbody>\n",
              "    <tr>\n",
              "      <th>0</th>\n",
              "      <td>1</td>\n",
              "    </tr>\n",
              "    <tr>\n",
              "      <th>1</th>\n",
              "      <td>1</td>\n",
              "    </tr>\n",
              "    <tr>\n",
              "      <th>2</th>\n",
              "      <td>1</td>\n",
              "    </tr>\n",
              "    <tr>\n",
              "      <th>3</th>\n",
              "      <td>1</td>\n",
              "    </tr>\n",
              "    <tr>\n",
              "      <th>4</th>\n",
              "      <td>1</td>\n",
              "    </tr>\n",
              "    <tr>\n",
              "      <th>...</th>\n",
              "      <td>...</td>\n",
              "    </tr>\n",
              "    <tr>\n",
              "      <th>7065</th>\n",
              "      <td>5</td>\n",
              "    </tr>\n",
              "    <tr>\n",
              "      <th>7066</th>\n",
              "      <td>5</td>\n",
              "    </tr>\n",
              "    <tr>\n",
              "      <th>7067</th>\n",
              "      <td>5</td>\n",
              "    </tr>\n",
              "    <tr>\n",
              "      <th>7068</th>\n",
              "      <td>5</td>\n",
              "    </tr>\n",
              "    <tr>\n",
              "      <th>7069</th>\n",
              "      <td>5</td>\n",
              "    </tr>\n",
              "  </tbody>\n",
              "</table>\n",
              "<p>7070 rows × 1 columns</p>\n",
              "</div>\n",
              "      <button class=\"colab-df-convert\" onclick=\"convertToInteractive('df-9760ae3e-7250-4e8f-94c0-c00c3d409921')\"\n",
              "              title=\"Convert this dataframe to an interactive table.\"\n",
              "              style=\"display:none;\">\n",
              "        \n",
              "  <svg xmlns=\"http://www.w3.org/2000/svg\" height=\"24px\"viewBox=\"0 0 24 24\"\n",
              "       width=\"24px\">\n",
              "    <path d=\"M0 0h24v24H0V0z\" fill=\"none\"/>\n",
              "    <path d=\"M18.56 5.44l.94 2.06.94-2.06 2.06-.94-2.06-.94-.94-2.06-.94 2.06-2.06.94zm-11 1L8.5 8.5l.94-2.06 2.06-.94-2.06-.94L8.5 2.5l-.94 2.06-2.06.94zm10 10l.94 2.06.94-2.06 2.06-.94-2.06-.94-.94-2.06-.94 2.06-2.06.94z\"/><path d=\"M17.41 7.96l-1.37-1.37c-.4-.4-.92-.59-1.43-.59-.52 0-1.04.2-1.43.59L10.3 9.45l-7.72 7.72c-.78.78-.78 2.05 0 2.83L4 21.41c.39.39.9.59 1.41.59.51 0 1.02-.2 1.41-.59l7.78-7.78 2.81-2.81c.8-.78.8-2.07 0-2.86zM5.41 20L4 18.59l7.72-7.72 1.47 1.35L5.41 20z\"/>\n",
              "  </svg>\n",
              "      </button>\n",
              "      \n",
              "  <style>\n",
              "    .colab-df-container {\n",
              "      display:flex;\n",
              "      flex-wrap:wrap;\n",
              "      gap: 12px;\n",
              "    }\n",
              "\n",
              "    .colab-df-convert {\n",
              "      background-color: #E8F0FE;\n",
              "      border: none;\n",
              "      border-radius: 50%;\n",
              "      cursor: pointer;\n",
              "      display: none;\n",
              "      fill: #1967D2;\n",
              "      height: 32px;\n",
              "      padding: 0 0 0 0;\n",
              "      width: 32px;\n",
              "    }\n",
              "\n",
              "    .colab-df-convert:hover {\n",
              "      background-color: #E2EBFA;\n",
              "      box-shadow: 0px 1px 2px rgba(60, 64, 67, 0.3), 0px 1px 3px 1px rgba(60, 64, 67, 0.15);\n",
              "      fill: #174EA6;\n",
              "    }\n",
              "\n",
              "    [theme=dark] .colab-df-convert {\n",
              "      background-color: #3B4455;\n",
              "      fill: #D2E3FC;\n",
              "    }\n",
              "\n",
              "    [theme=dark] .colab-df-convert:hover {\n",
              "      background-color: #434B5C;\n",
              "      box-shadow: 0px 1px 3px 1px rgba(0, 0, 0, 0.15);\n",
              "      filter: drop-shadow(0px 1px 2px rgba(0, 0, 0, 0.3));\n",
              "      fill: #FFFFFF;\n",
              "    }\n",
              "  </style>\n",
              "\n",
              "      <script>\n",
              "        const buttonEl =\n",
              "          document.querySelector('#df-9760ae3e-7250-4e8f-94c0-c00c3d409921 button.colab-df-convert');\n",
              "        buttonEl.style.display =\n",
              "          google.colab.kernel.accessAllowed ? 'block' : 'none';\n",
              "\n",
              "        async function convertToInteractive(key) {\n",
              "          const element = document.querySelector('#df-9760ae3e-7250-4e8f-94c0-c00c3d409921');\n",
              "          const dataTable =\n",
              "            await google.colab.kernel.invokeFunction('convertToInteractive',\n",
              "                                                     [key], {});\n",
              "          if (!dataTable) return;\n",
              "\n",
              "          const docLinkHtml = 'Like what you see? Visit the ' +\n",
              "            '<a target=\"_blank\" href=https://colab.research.google.com/notebooks/data_table.ipynb>data table notebook</a>'\n",
              "            + ' to learn more about interactive tables.';\n",
              "          element.innerHTML = '';\n",
              "          dataTable['output_type'] = 'display_data';\n",
              "          await google.colab.output.renderOutput(dataTable, element);\n",
              "          const docLink = document.createElement('div');\n",
              "          docLink.innerHTML = docLinkHtml;\n",
              "          element.appendChild(docLink);\n",
              "        }\n",
              "      </script>\n",
              "    </div>\n",
              "  </div>\n",
              "  "
            ]
          },
          "metadata": {},
          "execution_count": 10
        }
      ]
    },
    {
      "cell_type": "code",
      "source": [
        "df_ktextaug['new_label'] = new_lb['new_label']\n",
        "\n",
        "df_ktextaug"
      ],
      "metadata": {
        "colab": {
          "base_uri": "https://localhost:8080/",
          "height": 531
        },
        "id": "_vD_fsXDesSK",
        "outputId": "85e1b298-901c-4016-b611-b523c8f5a10d"
      },
      "execution_count": null,
      "outputs": [
        {
          "output_type": "stream",
          "name": "stderr",
          "text": [
            "/usr/local/lib/python3.7/dist-packages/ipykernel_launcher.py:1: SettingWithCopyWarning: \n",
            "A value is trying to be set on a copy of a slice from a DataFrame.\n",
            "Try using .loc[row_indexer,col_indexer] = value instead\n",
            "\n",
            "See the caveats in the documentation: https://pandas.pydata.org/pandas-docs/stable/user_guide/indexing.html#returning-a-view-versus-a-copy\n",
            "  \"\"\"Entry point for launching an IPython kernel.\n"
          ]
        },
        {
          "output_type": "execute_result",
          "data": {
            "text/plain": [
              "      국가                       대학교명  분류  \\\n",
              "0     영국                  Leicester   1   \n",
              "1     영국                  Leicester   2   \n",
              "2     영국                  Leicester   3   \n",
              "3     영국                  Leicester   4   \n",
              "4     영국                  Leicester   5   \n",
              "...   ..                        ...  ..   \n",
              "7065  영국  University of East Anglia  17   \n",
              "7066  영국  University of East Anglia  17   \n",
              "7067  영국  University of East Anglia  17   \n",
              "7068  영국  University of East Anglia  17   \n",
              "7069  영국  University of East Anglia  17   \n",
              "\n",
              "                                                 영한_재번역  new_label  \n",
              "0     Vostanis의 연구 (심리학) 교수는 특히 저소득 국가에 중점을 둔 아동 정신 ...          1  \n",
              "1     Leicester University Royal Botanic Gardens Kew...          1  \n",
              "2     Sally Singh 교수는 저소득 및 중간 소득 국가에서 적절한 폐 재활 프로그램...          1  \n",
              "3     런던에서 레스터 파트너십 제도는 학생 Polar 우편 번호를 기반으로 한 Great...          1  \n",
              "4     레스터 로스쿨 (Leicester Law School)의 Eugenia Caracc...          1  \n",
              "...                                                 ...        ...  \n",
              "7065  Aurora Students Organization UEA는 오로라 학생회의 현재 ...          5  \n",
              "7066  SU 파트너십 우리의 SU는 여러 NGO 및 모든 사람들을위한 건강 포용성 및 번영...          5  \n",
              "7067  운영 SDG Accord UEA는 2019 년부터 SDG Accord의 서명자였습니...          5  \n",
              "7068  Aurora Sustainability Working Group Aurora Net...          5  \n",
              "7069  파트너십 파트너십은 UEA의 중심에 있습니다우리의 파트너십의 예로는 노리치 시의회와...          5  \n",
              "\n",
              "[7070 rows x 5 columns]"
            ],
            "text/html": [
              "\n",
              "  <div id=\"df-51d28f68-019a-4a9b-b557-8534f67629a3\">\n",
              "    <div class=\"colab-df-container\">\n",
              "      <div>\n",
              "<style scoped>\n",
              "    .dataframe tbody tr th:only-of-type {\n",
              "        vertical-align: middle;\n",
              "    }\n",
              "\n",
              "    .dataframe tbody tr th {\n",
              "        vertical-align: top;\n",
              "    }\n",
              "\n",
              "    .dataframe thead th {\n",
              "        text-align: right;\n",
              "    }\n",
              "</style>\n",
              "<table border=\"1\" class=\"dataframe\">\n",
              "  <thead>\n",
              "    <tr style=\"text-align: right;\">\n",
              "      <th></th>\n",
              "      <th>국가</th>\n",
              "      <th>대학교명</th>\n",
              "      <th>분류</th>\n",
              "      <th>영한_재번역</th>\n",
              "      <th>new_label</th>\n",
              "    </tr>\n",
              "  </thead>\n",
              "  <tbody>\n",
              "    <tr>\n",
              "      <th>0</th>\n",
              "      <td>영국</td>\n",
              "      <td>Leicester</td>\n",
              "      <td>1</td>\n",
              "      <td>Vostanis의 연구 (심리학) 교수는 특히 저소득 국가에 중점을 둔 아동 정신 ...</td>\n",
              "      <td>1</td>\n",
              "    </tr>\n",
              "    <tr>\n",
              "      <th>1</th>\n",
              "      <td>영국</td>\n",
              "      <td>Leicester</td>\n",
              "      <td>2</td>\n",
              "      <td>Leicester University Royal Botanic Gardens Kew...</td>\n",
              "      <td>1</td>\n",
              "    </tr>\n",
              "    <tr>\n",
              "      <th>2</th>\n",
              "      <td>영국</td>\n",
              "      <td>Leicester</td>\n",
              "      <td>3</td>\n",
              "      <td>Sally Singh 교수는 저소득 및 중간 소득 국가에서 적절한 폐 재활 프로그램...</td>\n",
              "      <td>1</td>\n",
              "    </tr>\n",
              "    <tr>\n",
              "      <th>3</th>\n",
              "      <td>영국</td>\n",
              "      <td>Leicester</td>\n",
              "      <td>4</td>\n",
              "      <td>런던에서 레스터 파트너십 제도는 학생 Polar 우편 번호를 기반으로 한 Great...</td>\n",
              "      <td>1</td>\n",
              "    </tr>\n",
              "    <tr>\n",
              "      <th>4</th>\n",
              "      <td>영국</td>\n",
              "      <td>Leicester</td>\n",
              "      <td>5</td>\n",
              "      <td>레스터 로스쿨 (Leicester Law School)의 Eugenia Caracc...</td>\n",
              "      <td>1</td>\n",
              "    </tr>\n",
              "    <tr>\n",
              "      <th>...</th>\n",
              "      <td>...</td>\n",
              "      <td>...</td>\n",
              "      <td>...</td>\n",
              "      <td>...</td>\n",
              "      <td>...</td>\n",
              "    </tr>\n",
              "    <tr>\n",
              "      <th>7065</th>\n",
              "      <td>영국</td>\n",
              "      <td>University of East Anglia</td>\n",
              "      <td>17</td>\n",
              "      <td>Aurora Students Organization UEA는 오로라 학생회의 현재 ...</td>\n",
              "      <td>5</td>\n",
              "    </tr>\n",
              "    <tr>\n",
              "      <th>7066</th>\n",
              "      <td>영국</td>\n",
              "      <td>University of East Anglia</td>\n",
              "      <td>17</td>\n",
              "      <td>SU 파트너십 우리의 SU는 여러 NGO 및 모든 사람들을위한 건강 포용성 및 번영...</td>\n",
              "      <td>5</td>\n",
              "    </tr>\n",
              "    <tr>\n",
              "      <th>7067</th>\n",
              "      <td>영국</td>\n",
              "      <td>University of East Anglia</td>\n",
              "      <td>17</td>\n",
              "      <td>운영 SDG Accord UEA는 2019 년부터 SDG Accord의 서명자였습니...</td>\n",
              "      <td>5</td>\n",
              "    </tr>\n",
              "    <tr>\n",
              "      <th>7068</th>\n",
              "      <td>영국</td>\n",
              "      <td>University of East Anglia</td>\n",
              "      <td>17</td>\n",
              "      <td>Aurora Sustainability Working Group Aurora Net...</td>\n",
              "      <td>5</td>\n",
              "    </tr>\n",
              "    <tr>\n",
              "      <th>7069</th>\n",
              "      <td>영국</td>\n",
              "      <td>University of East Anglia</td>\n",
              "      <td>17</td>\n",
              "      <td>파트너십 파트너십은 UEA의 중심에 있습니다우리의 파트너십의 예로는 노리치 시의회와...</td>\n",
              "      <td>5</td>\n",
              "    </tr>\n",
              "  </tbody>\n",
              "</table>\n",
              "<p>7070 rows × 5 columns</p>\n",
              "</div>\n",
              "      <button class=\"colab-df-convert\" onclick=\"convertToInteractive('df-51d28f68-019a-4a9b-b557-8534f67629a3')\"\n",
              "              title=\"Convert this dataframe to an interactive table.\"\n",
              "              style=\"display:none;\">\n",
              "        \n",
              "  <svg xmlns=\"http://www.w3.org/2000/svg\" height=\"24px\"viewBox=\"0 0 24 24\"\n",
              "       width=\"24px\">\n",
              "    <path d=\"M0 0h24v24H0V0z\" fill=\"none\"/>\n",
              "    <path d=\"M18.56 5.44l.94 2.06.94-2.06 2.06-.94-2.06-.94-.94-2.06-.94 2.06-2.06.94zm-11 1L8.5 8.5l.94-2.06 2.06-.94-2.06-.94L8.5 2.5l-.94 2.06-2.06.94zm10 10l.94 2.06.94-2.06 2.06-.94-2.06-.94-.94-2.06-.94 2.06-2.06.94z\"/><path d=\"M17.41 7.96l-1.37-1.37c-.4-.4-.92-.59-1.43-.59-.52 0-1.04.2-1.43.59L10.3 9.45l-7.72 7.72c-.78.78-.78 2.05 0 2.83L4 21.41c.39.39.9.59 1.41.59.51 0 1.02-.2 1.41-.59l7.78-7.78 2.81-2.81c.8-.78.8-2.07 0-2.86zM5.41 20L4 18.59l7.72-7.72 1.47 1.35L5.41 20z\"/>\n",
              "  </svg>\n",
              "      </button>\n",
              "      \n",
              "  <style>\n",
              "    .colab-df-container {\n",
              "      display:flex;\n",
              "      flex-wrap:wrap;\n",
              "      gap: 12px;\n",
              "    }\n",
              "\n",
              "    .colab-df-convert {\n",
              "      background-color: #E8F0FE;\n",
              "      border: none;\n",
              "      border-radius: 50%;\n",
              "      cursor: pointer;\n",
              "      display: none;\n",
              "      fill: #1967D2;\n",
              "      height: 32px;\n",
              "      padding: 0 0 0 0;\n",
              "      width: 32px;\n",
              "    }\n",
              "\n",
              "    .colab-df-convert:hover {\n",
              "      background-color: #E2EBFA;\n",
              "      box-shadow: 0px 1px 2px rgba(60, 64, 67, 0.3), 0px 1px 3px 1px rgba(60, 64, 67, 0.15);\n",
              "      fill: #174EA6;\n",
              "    }\n",
              "\n",
              "    [theme=dark] .colab-df-convert {\n",
              "      background-color: #3B4455;\n",
              "      fill: #D2E3FC;\n",
              "    }\n",
              "\n",
              "    [theme=dark] .colab-df-convert:hover {\n",
              "      background-color: #434B5C;\n",
              "      box-shadow: 0px 1px 3px 1px rgba(0, 0, 0, 0.15);\n",
              "      filter: drop-shadow(0px 1px 2px rgba(0, 0, 0, 0.3));\n",
              "      fill: #FFFFFF;\n",
              "    }\n",
              "  </style>\n",
              "\n",
              "      <script>\n",
              "        const buttonEl =\n",
              "          document.querySelector('#df-51d28f68-019a-4a9b-b557-8534f67629a3 button.colab-df-convert');\n",
              "        buttonEl.style.display =\n",
              "          google.colab.kernel.accessAllowed ? 'block' : 'none';\n",
              "\n",
              "        async function convertToInteractive(key) {\n",
              "          const element = document.querySelector('#df-51d28f68-019a-4a9b-b557-8534f67629a3');\n",
              "          const dataTable =\n",
              "            await google.colab.kernel.invokeFunction('convertToInteractive',\n",
              "                                                     [key], {});\n",
              "          if (!dataTable) return;\n",
              "\n",
              "          const docLinkHtml = 'Like what you see? Visit the ' +\n",
              "            '<a target=\"_blank\" href=https://colab.research.google.com/notebooks/data_table.ipynb>data table notebook</a>'\n",
              "            + ' to learn more about interactive tables.';\n",
              "          element.innerHTML = '';\n",
              "          dataTable['output_type'] = 'display_data';\n",
              "          await google.colab.output.renderOutput(dataTable, element);\n",
              "          const docLink = document.createElement('div');\n",
              "          docLink.innerHTML = docLinkHtml;\n",
              "          element.appendChild(docLink);\n",
              "        }\n",
              "      </script>\n",
              "    </div>\n",
              "  </div>\n",
              "  "
            ]
          },
          "metadata": {},
          "execution_count": 11
        }
      ]
    },
    {
      "cell_type": "markdown",
      "source": [
        "### Data augmentation"
      ],
      "metadata": {
        "id": "sXQXiwPxgQXe"
      }
    },
    {
      "cell_type": "markdown",
      "source": [
        "BackTranslation "
      ],
      "metadata": {
        "id": "buoG7zl3chZa"
      }
    },
    {
      "cell_type": "code",
      "source": [
        "!pip uninstall googletrans\n",
        "!pip install googletrans==4.0.0-rc1\n",
        "\n",
        "from googletrans import Translator\n",
        "from tqdm import tqdm \n",
        "import time\n",
        "\n",
        "trans = Translator()"
      ],
      "metadata": {
        "id": "SZt96OARcjPZ"
      },
      "execution_count": null,
      "outputs": []
    },
    {
      "cell_type": "code",
      "source": [
        "# 전처리된 원문, 한국어, 재번역 데이터 로드 \n",
        "df_pp = pd.read_csv('retrans_final.csv')"
      ],
      "metadata": {
        "id": "fJ6mThPEcjtC"
      },
      "execution_count": null,
      "outputs": []
    },
    {
      "cell_type": "code",
      "source": [
        "# 추가적인 영어 원문 전처리 \n",
        "\n",
        "from gc import enable\n",
        "# 줄바꿈 제거 \n",
        "df['내용']= df['내용'].str.replace(pat=r'\\n',repl=r' ',regex=True)\n",
        "\n",
        "\n",
        "#url 제거\n",
        " # http로 시작되는 url\n",
        " # http로 시작되지 않는 url\n",
        "df['내용']= df['내용'].str.replace(pat=r'http[s]?://(?:[a-zA-Z]|[0-9]|[$-_@.&+]|[!*\\(\\),]|(?:%[0-9a-fA-F][0-9a-fA-F]))+',repl=r' ',regex=True)\n",
        "df['내용']= df['내용'].str.replace(pat=r'[-a-zA-Z0-9@:%._\\+~#=]{1,256}\\.[a-zA-Z0-9()]{2,6}\\b([-a-zA-Z0-9()@:%_\\+.~#?&//=]*)',repl=r' ',regex=True)\n",
        "\n",
        "# 공백 두칸 한칸으로 붙이기\n",
        "df['내용']= df['내용'].str.replace(pat=r'  ',repl=r' ',regex=True)"
      ],
      "metadata": {
        "id": "LQNtpP4KcjoH"
      },
      "execution_count": null,
      "outputs": []
    },
    {
      "cell_type": "code",
      "source": [
        "df_pp"
      ],
      "metadata": {
        "id": "sl-cnwrPcjjh"
      },
      "execution_count": null,
      "outputs": []
    },
    {
      "cell_type": "markdown",
      "source": [
        "en-ja-ko BackTranslation \n",
        " - 전처리된 데이터의 '내용' column 가져와서 English -> Japanese -> Korean으로 데이터 변형"
      ],
      "metadata": {
        "id": "wx8Jq7m2C6Ls"
      }
    },
    {
      "cell_type": "code",
      "source": [
        "clean_text=[]\n",
        "for s in df['내용']:\n",
        "    clean_text.append(s)"
      ],
      "metadata": {
        "id": "AxzKNlY4cjgl"
      },
      "execution_count": null,
      "outputs": []
    },
    {
      "cell_type": "code",
      "source": [
        "import time\n",
        "\n",
        "#en-ja-ko\n",
        "\n",
        "jako= []\n",
        "\n",
        "for i in tqdm(clean_text):\n",
        "  \n",
        "  result = trans.translate(i, src = 'auto', dest='ja')\n",
        "  time.sleep(0.6)\n",
        "  result = trans.translate(result.text, src = 'ja', dest='ko')\n",
        "  \n",
        "  jako.append(result.text)"
      ],
      "metadata": {
        "id": "moO7PAB_DEse"
      },
      "execution_count": null,
      "outputs": []
    },
    {
      "cell_type": "code",
      "source": [
        "jako[:5]"
      ],
      "metadata": {
        "id": "GZClTH5-DElX"
      },
      "execution_count": null,
      "outputs": []
    },
    {
      "cell_type": "code",
      "source": [
        "#Back Translation완료된 데이터 가져와서 기존 훈련데이터에 합쳐주기 \n",
        "\n",
        "BT_jp = pd.read_csv('jako_BackTrans.csv',index_col=0)\n",
        "BT_jp.rename(columns = {'jako':'번역_jp'},inplace=True)\n",
        "BT_jp\n",
        " \n",
        "\n",
        "BT_jp = BT_jp.reset_index()\n",
        "BT_jp.drop(BT_jp.tail(246).index,inplace=True)\n",
        "BT_jp= BT_jp.drop(['index'],axis=1)\n",
        "BT_jp"
      ],
      "metadata": {
        "colab": {
          "base_uri": "https://localhost:8080/",
          "height": 424
        },
        "id": "wjR1FYISaNIo",
        "outputId": "a802a938-4bf6-4e23-b200-13ab8821413e"
      },
      "execution_count": null,
      "outputs": [
        {
          "output_type": "execute_result",
          "data": {
            "text/plain": [
              "                                                  번역_jp  분류\n",
              "0     보스타니스 교수의 연구 (심리학)는 특히 저소득 국가에서 아동 정신 건강에 대한 외...   1\n",
              "1     지속 가능한 작물 개발을 개선하기위한 이니셔티브는 레스터 대학교, 왕립 식물원, Q...   2\n",
              "2     Sally Singh 교수는 Richarging에게 저소득 및 중간 소득 국가에서 ...   3\n",
              "3     런던에서 레스터까지의 파트너십 제도는 학생 Polar3의 우편 규범을 기반으로 런던...   4\n",
              "4     Leicester Law School 박사 Dr. Karakchoro di Trel...   5\n",
              "...                                                 ...  ..\n",
              "7065  오로라의 학생 조직 UEA는 오로라 학생회의 현재 사법 기관입니다.이 그룹은 Aur...  17\n",
              "7066  SU 파트너십 우리의 SU는 모든 NGO 및 영향력있는 조직과의 파트너십을 통해 모...  17\n",
              "7067  운영 SDG Accord UEA는 2019 년부터 SDG Accord 서명자였습니다...  17\n",
              "7068  Aurora Network Aurora Sustainability Working G...  17\n",
              "7069  파트너십 파트너십은 UEA의 중심에 있으며 SDG를 향해 노력하고 있습니다.우리의 ...  17\n",
              "\n",
              "[7070 rows x 2 columns]"
            ],
            "text/html": [
              "\n",
              "  <div id=\"df-48cdbed1-2ee1-4ee1-bb71-1265649b782c\">\n",
              "    <div class=\"colab-df-container\">\n",
              "      <div>\n",
              "<style scoped>\n",
              "    .dataframe tbody tr th:only-of-type {\n",
              "        vertical-align: middle;\n",
              "    }\n",
              "\n",
              "    .dataframe tbody tr th {\n",
              "        vertical-align: top;\n",
              "    }\n",
              "\n",
              "    .dataframe thead th {\n",
              "        text-align: right;\n",
              "    }\n",
              "</style>\n",
              "<table border=\"1\" class=\"dataframe\">\n",
              "  <thead>\n",
              "    <tr style=\"text-align: right;\">\n",
              "      <th></th>\n",
              "      <th>번역_jp</th>\n",
              "      <th>분류</th>\n",
              "    </tr>\n",
              "  </thead>\n",
              "  <tbody>\n",
              "    <tr>\n",
              "      <th>0</th>\n",
              "      <td>보스타니스 교수의 연구 (심리학)는 특히 저소득 국가에서 아동 정신 건강에 대한 외...</td>\n",
              "      <td>1</td>\n",
              "    </tr>\n",
              "    <tr>\n",
              "      <th>1</th>\n",
              "      <td>지속 가능한 작물 개발을 개선하기위한 이니셔티브는 레스터 대학교, 왕립 식물원, Q...</td>\n",
              "      <td>2</td>\n",
              "    </tr>\n",
              "    <tr>\n",
              "      <th>2</th>\n",
              "      <td>Sally Singh 교수는 Richarging에게 저소득 및 중간 소득 국가에서 ...</td>\n",
              "      <td>3</td>\n",
              "    </tr>\n",
              "    <tr>\n",
              "      <th>3</th>\n",
              "      <td>런던에서 레스터까지의 파트너십 제도는 학생 Polar3의 우편 규범을 기반으로 런던...</td>\n",
              "      <td>4</td>\n",
              "    </tr>\n",
              "    <tr>\n",
              "      <th>4</th>\n",
              "      <td>Leicester Law School 박사 Dr. Karakchoro di Trel...</td>\n",
              "      <td>5</td>\n",
              "    </tr>\n",
              "    <tr>\n",
              "      <th>...</th>\n",
              "      <td>...</td>\n",
              "      <td>...</td>\n",
              "    </tr>\n",
              "    <tr>\n",
              "      <th>7065</th>\n",
              "      <td>오로라의 학생 조직 UEA는 오로라 학생회의 현재 사법 기관입니다.이 그룹은 Aur...</td>\n",
              "      <td>17</td>\n",
              "    </tr>\n",
              "    <tr>\n",
              "      <th>7066</th>\n",
              "      <td>SU 파트너십 우리의 SU는 모든 NGO 및 영향력있는 조직과의 파트너십을 통해 모...</td>\n",
              "      <td>17</td>\n",
              "    </tr>\n",
              "    <tr>\n",
              "      <th>7067</th>\n",
              "      <td>운영 SDG Accord UEA는 2019 년부터 SDG Accord 서명자였습니다...</td>\n",
              "      <td>17</td>\n",
              "    </tr>\n",
              "    <tr>\n",
              "      <th>7068</th>\n",
              "      <td>Aurora Network Aurora Sustainability Working G...</td>\n",
              "      <td>17</td>\n",
              "    </tr>\n",
              "    <tr>\n",
              "      <th>7069</th>\n",
              "      <td>파트너십 파트너십은 UEA의 중심에 있으며 SDG를 향해 노력하고 있습니다.우리의 ...</td>\n",
              "      <td>17</td>\n",
              "    </tr>\n",
              "  </tbody>\n",
              "</table>\n",
              "<p>7070 rows × 2 columns</p>\n",
              "</div>\n",
              "      <button class=\"colab-df-convert\" onclick=\"convertToInteractive('df-48cdbed1-2ee1-4ee1-bb71-1265649b782c')\"\n",
              "              title=\"Convert this dataframe to an interactive table.\"\n",
              "              style=\"display:none;\">\n",
              "        \n",
              "  <svg xmlns=\"http://www.w3.org/2000/svg\" height=\"24px\"viewBox=\"0 0 24 24\"\n",
              "       width=\"24px\">\n",
              "    <path d=\"M0 0h24v24H0V0z\" fill=\"none\"/>\n",
              "    <path d=\"M18.56 5.44l.94 2.06.94-2.06 2.06-.94-2.06-.94-.94-2.06-.94 2.06-2.06.94zm-11 1L8.5 8.5l.94-2.06 2.06-.94-2.06-.94L8.5 2.5l-.94 2.06-2.06.94zm10 10l.94 2.06.94-2.06 2.06-.94-2.06-.94-.94-2.06-.94 2.06-2.06.94z\"/><path d=\"M17.41 7.96l-1.37-1.37c-.4-.4-.92-.59-1.43-.59-.52 0-1.04.2-1.43.59L10.3 9.45l-7.72 7.72c-.78.78-.78 2.05 0 2.83L4 21.41c.39.39.9.59 1.41.59.51 0 1.02-.2 1.41-.59l7.78-7.78 2.81-2.81c.8-.78.8-2.07 0-2.86zM5.41 20L4 18.59l7.72-7.72 1.47 1.35L5.41 20z\"/>\n",
              "  </svg>\n",
              "      </button>\n",
              "      \n",
              "  <style>\n",
              "    .colab-df-container {\n",
              "      display:flex;\n",
              "      flex-wrap:wrap;\n",
              "      gap: 12px;\n",
              "    }\n",
              "\n",
              "    .colab-df-convert {\n",
              "      background-color: #E8F0FE;\n",
              "      border: none;\n",
              "      border-radius: 50%;\n",
              "      cursor: pointer;\n",
              "      display: none;\n",
              "      fill: #1967D2;\n",
              "      height: 32px;\n",
              "      padding: 0 0 0 0;\n",
              "      width: 32px;\n",
              "    }\n",
              "\n",
              "    .colab-df-convert:hover {\n",
              "      background-color: #E2EBFA;\n",
              "      box-shadow: 0px 1px 2px rgba(60, 64, 67, 0.3), 0px 1px 3px 1px rgba(60, 64, 67, 0.15);\n",
              "      fill: #174EA6;\n",
              "    }\n",
              "\n",
              "    [theme=dark] .colab-df-convert {\n",
              "      background-color: #3B4455;\n",
              "      fill: #D2E3FC;\n",
              "    }\n",
              "\n",
              "    [theme=dark] .colab-df-convert:hover {\n",
              "      background-color: #434B5C;\n",
              "      box-shadow: 0px 1px 3px 1px rgba(0, 0, 0, 0.15);\n",
              "      filter: drop-shadow(0px 1px 2px rgba(0, 0, 0, 0.3));\n",
              "      fill: #FFFFFF;\n",
              "    }\n",
              "  </style>\n",
              "\n",
              "      <script>\n",
              "        const buttonEl =\n",
              "          document.querySelector('#df-48cdbed1-2ee1-4ee1-bb71-1265649b782c button.colab-df-convert');\n",
              "        buttonEl.style.display =\n",
              "          google.colab.kernel.accessAllowed ? 'block' : 'none';\n",
              "\n",
              "        async function convertToInteractive(key) {\n",
              "          const element = document.querySelector('#df-48cdbed1-2ee1-4ee1-bb71-1265649b782c');\n",
              "          const dataTable =\n",
              "            await google.colab.kernel.invokeFunction('convertToInteractive',\n",
              "                                                     [key], {});\n",
              "          if (!dataTable) return;\n",
              "\n",
              "          const docLinkHtml = 'Like what you see? Visit the ' +\n",
              "            '<a target=\"_blank\" href=https://colab.research.google.com/notebooks/data_table.ipynb>data table notebook</a>'\n",
              "            + ' to learn more about interactive tables.';\n",
              "          element.innerHTML = '';\n",
              "          dataTable['output_type'] = 'display_data';\n",
              "          await google.colab.output.renderOutput(dataTable, element);\n",
              "          const docLink = document.createElement('div');\n",
              "          docLink.innerHTML = docLinkHtml;\n",
              "          element.appendChild(docLink);\n",
              "        }\n",
              "      </script>\n",
              "    </div>\n",
              "  </div>\n",
              "  "
            ]
          },
          "metadata": {},
          "execution_count": 12
        }
      ]
    },
    {
      "cell_type": "markdown",
      "source": [
        "기존 데이터와 합쳐주기 "
      ],
      "metadata": {
        "id": "8bFqQq8BWBfF"
      }
    },
    {
      "cell_type": "markdown",
      "source": [
        "- '영한 재번역' = 크롤링한 원문데이터에 대해 번역후 전처리한 데이터\n",
        "- '번역_JP' = '영한 재번역'데이터를 BackTranslation을 사용하여 증강한 데이터 (영-일-한) "
      ],
      "metadata": {
        "id": "YBnOkKSSs3Yx"
      }
    },
    {
      "cell_type": "code",
      "execution_count": null,
      "metadata": {
        "id": "S-fZa4cs-l25",
        "colab": {
          "base_uri": "https://localhost:8080/",
          "height": 639
        },
        "outputId": "0d7c9240-8915-4f4a-8578-e66494e8e191"
      },
      "outputs": [
        {
          "output_type": "stream",
          "name": "stderr",
          "text": [
            "/usr/local/lib/python3.7/dist-packages/ipykernel_launcher.py:8: SettingWithCopyWarning: \n",
            "A value is trying to be set on a copy of a slice from a DataFrame.\n",
            "Try using .loc[row_indexer,col_indexer] = value instead\n",
            "\n",
            "See the caveats in the documentation: https://pandas.pydata.org/pandas-docs/stable/user_guide/indexing.html#returning-a-view-versus-a-copy\n",
            "  \n",
            "/usr/local/lib/python3.7/dist-packages/ipykernel_launcher.py:11: SettingWithCopyWarning: \n",
            "A value is trying to be set on a copy of a slice from a DataFrame.\n",
            "Try using .loc[row_indexer,col_indexer] = value instead\n",
            "\n",
            "See the caveats in the documentation: https://pandas.pydata.org/pandas-docs/stable/user_guide/indexing.html#returning-a-view-versus-a-copy\n",
            "  # This is added back by InteractiveShellApp.init_path()\n"
          ]
        },
        {
          "output_type": "execute_result",
          "data": {
            "text/plain": [
              "                                                 영한_재번역  new_label  \\\n",
              "0     Vostanis의 연구 (심리학) 교수는 특히 저소득 국가에 중점을 둔 아동 정신 ...          0   \n",
              "1     Leicester University Royal Botanic Gardens Kew...          0   \n",
              "2     Sally Singh 교수는 저소득 및 중간 소득 국가에서 적절한 폐 재활 프로그램...          0   \n",
              "3     런던에서 레스터 파트너십 제도는 학생 Polar 우편 번호를 기반으로 한 Great...          0   \n",
              "4     레스터 로스쿨 (Leicester Law School)의 Eugenia Caracc...          0   \n",
              "...                                                 ...        ...   \n",
              "7065  Aurora Students Organization UEA는 오로라 학생회의 현재 ...          4   \n",
              "7066  SU 파트너십 우리의 SU는 여러 NGO 및 모든 사람들을위한 건강 포용성 및 번영...          4   \n",
              "7067  운영 SDG Accord UEA는 2019 년부터 SDG Accord의 서명자였습니...          4   \n",
              "7068  Aurora Sustainability Working Group Aurora Net...          4   \n",
              "7069  파트너십 파트너십은 UEA의 중심에 있습니다우리의 파트너십의 예로는 노리치 시의회와...          4   \n",
              "\n",
              "                                                  번역_jp  \n",
              "0     보스타니스 교수의 연구 (심리학)는 특히 저소득 국가에서 아동 정신 건강에 대한 외...  \n",
              "1     지속 가능한 작물 개발을 개선하기위한 이니셔티브는 레스터 대학교, 왕립 식물원, Q...  \n",
              "2     Sally Singh 교수는 Richarging에게 저소득 및 중간 소득 국가에서 ...  \n",
              "3     런던에서 레스터까지의 파트너십 제도는 학생 Polar3의 우편 규범을 기반으로 런던...  \n",
              "4     Leicester Law School 박사 Dr. Karakchoro di Trel...  \n",
              "...                                                 ...  \n",
              "7065  오로라의 학생 조직 UEA는 오로라 학생회의 현재 사법 기관입니다.이 그룹은 Aur...  \n",
              "7066  SU 파트너십 우리의 SU는 모든 NGO 및 영향력있는 조직과의 파트너십을 통해 모...  \n",
              "7067  운영 SDG Accord UEA는 2019 년부터 SDG Accord 서명자였습니다...  \n",
              "7068  Aurora Network Aurora Sustainability Working G...  \n",
              "7069  파트너십 파트너십은 UEA의 중심에 있으며 SDG를 향해 노력하고 있습니다.우리의 ...  \n",
              "\n",
              "[7070 rows x 3 columns]"
            ],
            "text/html": [
              "\n",
              "  <div id=\"df-8a5a9762-4b39-4230-9605-401643e0f760\">\n",
              "    <div class=\"colab-df-container\">\n",
              "      <div>\n",
              "<style scoped>\n",
              "    .dataframe tbody tr th:only-of-type {\n",
              "        vertical-align: middle;\n",
              "    }\n",
              "\n",
              "    .dataframe tbody tr th {\n",
              "        vertical-align: top;\n",
              "    }\n",
              "\n",
              "    .dataframe thead th {\n",
              "        text-align: right;\n",
              "    }\n",
              "</style>\n",
              "<table border=\"1\" class=\"dataframe\">\n",
              "  <thead>\n",
              "    <tr style=\"text-align: right;\">\n",
              "      <th></th>\n",
              "      <th>영한_재번역</th>\n",
              "      <th>new_label</th>\n",
              "      <th>번역_jp</th>\n",
              "    </tr>\n",
              "  </thead>\n",
              "  <tbody>\n",
              "    <tr>\n",
              "      <th>0</th>\n",
              "      <td>Vostanis의 연구 (심리학) 교수는 특히 저소득 국가에 중점을 둔 아동 정신 ...</td>\n",
              "      <td>0</td>\n",
              "      <td>보스타니스 교수의 연구 (심리학)는 특히 저소득 국가에서 아동 정신 건강에 대한 외...</td>\n",
              "    </tr>\n",
              "    <tr>\n",
              "      <th>1</th>\n",
              "      <td>Leicester University Royal Botanic Gardens Kew...</td>\n",
              "      <td>0</td>\n",
              "      <td>지속 가능한 작물 개발을 개선하기위한 이니셔티브는 레스터 대학교, 왕립 식물원, Q...</td>\n",
              "    </tr>\n",
              "    <tr>\n",
              "      <th>2</th>\n",
              "      <td>Sally Singh 교수는 저소득 및 중간 소득 국가에서 적절한 폐 재활 프로그램...</td>\n",
              "      <td>0</td>\n",
              "      <td>Sally Singh 교수는 Richarging에게 저소득 및 중간 소득 국가에서 ...</td>\n",
              "    </tr>\n",
              "    <tr>\n",
              "      <th>3</th>\n",
              "      <td>런던에서 레스터 파트너십 제도는 학생 Polar 우편 번호를 기반으로 한 Great...</td>\n",
              "      <td>0</td>\n",
              "      <td>런던에서 레스터까지의 파트너십 제도는 학생 Polar3의 우편 규범을 기반으로 런던...</td>\n",
              "    </tr>\n",
              "    <tr>\n",
              "      <th>4</th>\n",
              "      <td>레스터 로스쿨 (Leicester Law School)의 Eugenia Caracc...</td>\n",
              "      <td>0</td>\n",
              "      <td>Leicester Law School 박사 Dr. Karakchoro di Trel...</td>\n",
              "    </tr>\n",
              "    <tr>\n",
              "      <th>...</th>\n",
              "      <td>...</td>\n",
              "      <td>...</td>\n",
              "      <td>...</td>\n",
              "    </tr>\n",
              "    <tr>\n",
              "      <th>7065</th>\n",
              "      <td>Aurora Students Organization UEA는 오로라 학생회의 현재 ...</td>\n",
              "      <td>4</td>\n",
              "      <td>오로라의 학생 조직 UEA는 오로라 학생회의 현재 사법 기관입니다.이 그룹은 Aur...</td>\n",
              "    </tr>\n",
              "    <tr>\n",
              "      <th>7066</th>\n",
              "      <td>SU 파트너십 우리의 SU는 여러 NGO 및 모든 사람들을위한 건강 포용성 및 번영...</td>\n",
              "      <td>4</td>\n",
              "      <td>SU 파트너십 우리의 SU는 모든 NGO 및 영향력있는 조직과의 파트너십을 통해 모...</td>\n",
              "    </tr>\n",
              "    <tr>\n",
              "      <th>7067</th>\n",
              "      <td>운영 SDG Accord UEA는 2019 년부터 SDG Accord의 서명자였습니...</td>\n",
              "      <td>4</td>\n",
              "      <td>운영 SDG Accord UEA는 2019 년부터 SDG Accord 서명자였습니다...</td>\n",
              "    </tr>\n",
              "    <tr>\n",
              "      <th>7068</th>\n",
              "      <td>Aurora Sustainability Working Group Aurora Net...</td>\n",
              "      <td>4</td>\n",
              "      <td>Aurora Network Aurora Sustainability Working G...</td>\n",
              "    </tr>\n",
              "    <tr>\n",
              "      <th>7069</th>\n",
              "      <td>파트너십 파트너십은 UEA의 중심에 있습니다우리의 파트너십의 예로는 노리치 시의회와...</td>\n",
              "      <td>4</td>\n",
              "      <td>파트너십 파트너십은 UEA의 중심에 있으며 SDG를 향해 노력하고 있습니다.우리의 ...</td>\n",
              "    </tr>\n",
              "  </tbody>\n",
              "</table>\n",
              "<p>7070 rows × 3 columns</p>\n",
              "</div>\n",
              "      <button class=\"colab-df-convert\" onclick=\"convertToInteractive('df-8a5a9762-4b39-4230-9605-401643e0f760')\"\n",
              "              title=\"Convert this dataframe to an interactive table.\"\n",
              "              style=\"display:none;\">\n",
              "        \n",
              "  <svg xmlns=\"http://www.w3.org/2000/svg\" height=\"24px\"viewBox=\"0 0 24 24\"\n",
              "       width=\"24px\">\n",
              "    <path d=\"M0 0h24v24H0V0z\" fill=\"none\"/>\n",
              "    <path d=\"M18.56 5.44l.94 2.06.94-2.06 2.06-.94-2.06-.94-.94-2.06-.94 2.06-2.06.94zm-11 1L8.5 8.5l.94-2.06 2.06-.94-2.06-.94L8.5 2.5l-.94 2.06-2.06.94zm10 10l.94 2.06.94-2.06 2.06-.94-2.06-.94-.94-2.06-.94 2.06-2.06.94z\"/><path d=\"M17.41 7.96l-1.37-1.37c-.4-.4-.92-.59-1.43-.59-.52 0-1.04.2-1.43.59L10.3 9.45l-7.72 7.72c-.78.78-.78 2.05 0 2.83L4 21.41c.39.39.9.59 1.41.59.51 0 1.02-.2 1.41-.59l7.78-7.78 2.81-2.81c.8-.78.8-2.07 0-2.86zM5.41 20L4 18.59l7.72-7.72 1.47 1.35L5.41 20z\"/>\n",
              "  </svg>\n",
              "      </button>\n",
              "      \n",
              "  <style>\n",
              "    .colab-df-container {\n",
              "      display:flex;\n",
              "      flex-wrap:wrap;\n",
              "      gap: 12px;\n",
              "    }\n",
              "\n",
              "    .colab-df-convert {\n",
              "      background-color: #E8F0FE;\n",
              "      border: none;\n",
              "      border-radius: 50%;\n",
              "      cursor: pointer;\n",
              "      display: none;\n",
              "      fill: #1967D2;\n",
              "      height: 32px;\n",
              "      padding: 0 0 0 0;\n",
              "      width: 32px;\n",
              "    }\n",
              "\n",
              "    .colab-df-convert:hover {\n",
              "      background-color: #E2EBFA;\n",
              "      box-shadow: 0px 1px 2px rgba(60, 64, 67, 0.3), 0px 1px 3px 1px rgba(60, 64, 67, 0.15);\n",
              "      fill: #174EA6;\n",
              "    }\n",
              "\n",
              "    [theme=dark] .colab-df-convert {\n",
              "      background-color: #3B4455;\n",
              "      fill: #D2E3FC;\n",
              "    }\n",
              "\n",
              "    [theme=dark] .colab-df-convert:hover {\n",
              "      background-color: #434B5C;\n",
              "      box-shadow: 0px 1px 3px 1px rgba(0, 0, 0, 0.15);\n",
              "      filter: drop-shadow(0px 1px 2px rgba(0, 0, 0, 0.3));\n",
              "      fill: #FFFFFF;\n",
              "    }\n",
              "  </style>\n",
              "\n",
              "      <script>\n",
              "        const buttonEl =\n",
              "          document.querySelector('#df-8a5a9762-4b39-4230-9605-401643e0f760 button.colab-df-convert');\n",
              "        buttonEl.style.display =\n",
              "          google.colab.kernel.accessAllowed ? 'block' : 'none';\n",
              "\n",
              "        async function convertToInteractive(key) {\n",
              "          const element = document.querySelector('#df-8a5a9762-4b39-4230-9605-401643e0f760');\n",
              "          const dataTable =\n",
              "            await google.colab.kernel.invokeFunction('convertToInteractive',\n",
              "                                                     [key], {});\n",
              "          if (!dataTable) return;\n",
              "\n",
              "          const docLinkHtml = 'Like what you see? Visit the ' +\n",
              "            '<a target=\"_blank\" href=https://colab.research.google.com/notebooks/data_table.ipynb>data table notebook</a>'\n",
              "            + ' to learn more about interactive tables.';\n",
              "          element.innerHTML = '';\n",
              "          dataTable['output_type'] = 'display_data';\n",
              "          await google.colab.output.renderOutput(dataTable, element);\n",
              "          const docLink = document.createElement('div');\n",
              "          docLink.innerHTML = docLinkHtml;\n",
              "          element.appendChild(docLink);\n",
              "        }\n",
              "      </script>\n",
              "    </div>\n",
              "  </div>\n",
              "  "
            ]
          },
          "metadata": {},
          "execution_count": 17
        }
      ],
      "source": [
        "# original data load\n",
        "df = df_ktextaug\n",
        "\n",
        "# 가로로 concat 해주기 \n",
        "df = df[['영한_재번역','new_label']]\n",
        "\n",
        "# 최종적으로 선택된 증강데이터 합쳐주기 \n",
        "df['번역_jp'] = BT_jp['번역_jp']\n",
        "\n",
        "#converting datatype\n",
        "df['new_label']=df['new_label']-1\n",
        "df"
      ]
    },
    {
      "cell_type": "code",
      "source": [
        "df"
      ],
      "metadata": {
        "id": "ZF6_kmt1dYEb",
        "colab": {
          "base_uri": "https://localhost:8080/",
          "height": 424
        },
        "outputId": "0952acb5-e42a-49b7-d06d-7ea586785147"
      },
      "execution_count": null,
      "outputs": [
        {
          "output_type": "execute_result",
          "data": {
            "text/plain": [
              "                                                 영한_재번역  new_label  \\\n",
              "0     Vostanis의 연구 (심리학) 교수는 특히 저소득 국가에 중점을 둔 아동 정신 ...          0   \n",
              "1     Leicester University Royal Botanic Gardens Kew...          0   \n",
              "2     Sally Singh 교수는 저소득 및 중간 소득 국가에서 적절한 폐 재활 프로그램...          0   \n",
              "3     런던에서 레스터 파트너십 제도는 학생 Polar 우편 번호를 기반으로 한 Great...          0   \n",
              "4     레스터 로스쿨 (Leicester Law School)의 Eugenia Caracc...          0   \n",
              "...                                                 ...        ...   \n",
              "7065  Aurora Students Organization UEA는 오로라 학생회의 현재 ...          4   \n",
              "7066  SU 파트너십 우리의 SU는 여러 NGO 및 모든 사람들을위한 건강 포용성 및 번영...          4   \n",
              "7067  운영 SDG Accord UEA는 2019 년부터 SDG Accord의 서명자였습니...          4   \n",
              "7068  Aurora Sustainability Working Group Aurora Net...          4   \n",
              "7069  파트너십 파트너십은 UEA의 중심에 있습니다우리의 파트너십의 예로는 노리치 시의회와...          4   \n",
              "\n",
              "                                                  번역_jp  \n",
              "0     보스타니스 교수의 연구 (심리학)는 특히 저소득 국가에서 아동 정신 건강에 대한 외...  \n",
              "1     지속 가능한 작물 개발을 개선하기위한 이니셔티브는 레스터 대학교, 왕립 식물원, Q...  \n",
              "2     Sally Singh 교수는 Richarging에게 저소득 및 중간 소득 국가에서 ...  \n",
              "3     런던에서 레스터까지의 파트너십 제도는 학생 Polar3의 우편 규범을 기반으로 런던...  \n",
              "4     Leicester Law School 박사 Dr. Karakchoro di Trel...  \n",
              "...                                                 ...  \n",
              "7065  오로라의 학생 조직 UEA는 오로라 학생회의 현재 사법 기관입니다.이 그룹은 Aur...  \n",
              "7066  SU 파트너십 우리의 SU는 모든 NGO 및 영향력있는 조직과의 파트너십을 통해 모...  \n",
              "7067  운영 SDG Accord UEA는 2019 년부터 SDG Accord 서명자였습니다...  \n",
              "7068  Aurora Network Aurora Sustainability Working G...  \n",
              "7069  파트너십 파트너십은 UEA의 중심에 있으며 SDG를 향해 노력하고 있습니다.우리의 ...  \n",
              "\n",
              "[7070 rows x 3 columns]"
            ],
            "text/html": [
              "\n",
              "  <div id=\"df-c5b588d5-3110-4ac9-9e02-80522a7a2d55\">\n",
              "    <div class=\"colab-df-container\">\n",
              "      <div>\n",
              "<style scoped>\n",
              "    .dataframe tbody tr th:only-of-type {\n",
              "        vertical-align: middle;\n",
              "    }\n",
              "\n",
              "    .dataframe tbody tr th {\n",
              "        vertical-align: top;\n",
              "    }\n",
              "\n",
              "    .dataframe thead th {\n",
              "        text-align: right;\n",
              "    }\n",
              "</style>\n",
              "<table border=\"1\" class=\"dataframe\">\n",
              "  <thead>\n",
              "    <tr style=\"text-align: right;\">\n",
              "      <th></th>\n",
              "      <th>영한_재번역</th>\n",
              "      <th>new_label</th>\n",
              "      <th>번역_jp</th>\n",
              "    </tr>\n",
              "  </thead>\n",
              "  <tbody>\n",
              "    <tr>\n",
              "      <th>0</th>\n",
              "      <td>Vostanis의 연구 (심리학) 교수는 특히 저소득 국가에 중점을 둔 아동 정신 ...</td>\n",
              "      <td>0</td>\n",
              "      <td>보스타니스 교수의 연구 (심리학)는 특히 저소득 국가에서 아동 정신 건강에 대한 외...</td>\n",
              "    </tr>\n",
              "    <tr>\n",
              "      <th>1</th>\n",
              "      <td>Leicester University Royal Botanic Gardens Kew...</td>\n",
              "      <td>0</td>\n",
              "      <td>지속 가능한 작물 개발을 개선하기위한 이니셔티브는 레스터 대학교, 왕립 식물원, Q...</td>\n",
              "    </tr>\n",
              "    <tr>\n",
              "      <th>2</th>\n",
              "      <td>Sally Singh 교수는 저소득 및 중간 소득 국가에서 적절한 폐 재활 프로그램...</td>\n",
              "      <td>0</td>\n",
              "      <td>Sally Singh 교수는 Richarging에게 저소득 및 중간 소득 국가에서 ...</td>\n",
              "    </tr>\n",
              "    <tr>\n",
              "      <th>3</th>\n",
              "      <td>런던에서 레스터 파트너십 제도는 학생 Polar 우편 번호를 기반으로 한 Great...</td>\n",
              "      <td>0</td>\n",
              "      <td>런던에서 레스터까지의 파트너십 제도는 학생 Polar3의 우편 규범을 기반으로 런던...</td>\n",
              "    </tr>\n",
              "    <tr>\n",
              "      <th>4</th>\n",
              "      <td>레스터 로스쿨 (Leicester Law School)의 Eugenia Caracc...</td>\n",
              "      <td>0</td>\n",
              "      <td>Leicester Law School 박사 Dr. Karakchoro di Trel...</td>\n",
              "    </tr>\n",
              "    <tr>\n",
              "      <th>...</th>\n",
              "      <td>...</td>\n",
              "      <td>...</td>\n",
              "      <td>...</td>\n",
              "    </tr>\n",
              "    <tr>\n",
              "      <th>7065</th>\n",
              "      <td>Aurora Students Organization UEA는 오로라 학생회의 현재 ...</td>\n",
              "      <td>4</td>\n",
              "      <td>오로라의 학생 조직 UEA는 오로라 학생회의 현재 사법 기관입니다.이 그룹은 Aur...</td>\n",
              "    </tr>\n",
              "    <tr>\n",
              "      <th>7066</th>\n",
              "      <td>SU 파트너십 우리의 SU는 여러 NGO 및 모든 사람들을위한 건강 포용성 및 번영...</td>\n",
              "      <td>4</td>\n",
              "      <td>SU 파트너십 우리의 SU는 모든 NGO 및 영향력있는 조직과의 파트너십을 통해 모...</td>\n",
              "    </tr>\n",
              "    <tr>\n",
              "      <th>7067</th>\n",
              "      <td>운영 SDG Accord UEA는 2019 년부터 SDG Accord의 서명자였습니...</td>\n",
              "      <td>4</td>\n",
              "      <td>운영 SDG Accord UEA는 2019 년부터 SDG Accord 서명자였습니다...</td>\n",
              "    </tr>\n",
              "    <tr>\n",
              "      <th>7068</th>\n",
              "      <td>Aurora Sustainability Working Group Aurora Net...</td>\n",
              "      <td>4</td>\n",
              "      <td>Aurora Network Aurora Sustainability Working G...</td>\n",
              "    </tr>\n",
              "    <tr>\n",
              "      <th>7069</th>\n",
              "      <td>파트너십 파트너십은 UEA의 중심에 있습니다우리의 파트너십의 예로는 노리치 시의회와...</td>\n",
              "      <td>4</td>\n",
              "      <td>파트너십 파트너십은 UEA의 중심에 있으며 SDG를 향해 노력하고 있습니다.우리의 ...</td>\n",
              "    </tr>\n",
              "  </tbody>\n",
              "</table>\n",
              "<p>7070 rows × 3 columns</p>\n",
              "</div>\n",
              "      <button class=\"colab-df-convert\" onclick=\"convertToInteractive('df-c5b588d5-3110-4ac9-9e02-80522a7a2d55')\"\n",
              "              title=\"Convert this dataframe to an interactive table.\"\n",
              "              style=\"display:none;\">\n",
              "        \n",
              "  <svg xmlns=\"http://www.w3.org/2000/svg\" height=\"24px\"viewBox=\"0 0 24 24\"\n",
              "       width=\"24px\">\n",
              "    <path d=\"M0 0h24v24H0V0z\" fill=\"none\"/>\n",
              "    <path d=\"M18.56 5.44l.94 2.06.94-2.06 2.06-.94-2.06-.94-.94-2.06-.94 2.06-2.06.94zm-11 1L8.5 8.5l.94-2.06 2.06-.94-2.06-.94L8.5 2.5l-.94 2.06-2.06.94zm10 10l.94 2.06.94-2.06 2.06-.94-2.06-.94-.94-2.06-.94 2.06-2.06.94z\"/><path d=\"M17.41 7.96l-1.37-1.37c-.4-.4-.92-.59-1.43-.59-.52 0-1.04.2-1.43.59L10.3 9.45l-7.72 7.72c-.78.78-.78 2.05 0 2.83L4 21.41c.39.39.9.59 1.41.59.51 0 1.02-.2 1.41-.59l7.78-7.78 2.81-2.81c.8-.78.8-2.07 0-2.86zM5.41 20L4 18.59l7.72-7.72 1.47 1.35L5.41 20z\"/>\n",
              "  </svg>\n",
              "      </button>\n",
              "      \n",
              "  <style>\n",
              "    .colab-df-container {\n",
              "      display:flex;\n",
              "      flex-wrap:wrap;\n",
              "      gap: 12px;\n",
              "    }\n",
              "\n",
              "    .colab-df-convert {\n",
              "      background-color: #E8F0FE;\n",
              "      border: none;\n",
              "      border-radius: 50%;\n",
              "      cursor: pointer;\n",
              "      display: none;\n",
              "      fill: #1967D2;\n",
              "      height: 32px;\n",
              "      padding: 0 0 0 0;\n",
              "      width: 32px;\n",
              "    }\n",
              "\n",
              "    .colab-df-convert:hover {\n",
              "      background-color: #E2EBFA;\n",
              "      box-shadow: 0px 1px 2px rgba(60, 64, 67, 0.3), 0px 1px 3px 1px rgba(60, 64, 67, 0.15);\n",
              "      fill: #174EA6;\n",
              "    }\n",
              "\n",
              "    [theme=dark] .colab-df-convert {\n",
              "      background-color: #3B4455;\n",
              "      fill: #D2E3FC;\n",
              "    }\n",
              "\n",
              "    [theme=dark] .colab-df-convert:hover {\n",
              "      background-color: #434B5C;\n",
              "      box-shadow: 0px 1px 3px 1px rgba(0, 0, 0, 0.15);\n",
              "      filter: drop-shadow(0px 1px 2px rgba(0, 0, 0, 0.3));\n",
              "      fill: #FFFFFF;\n",
              "    }\n",
              "  </style>\n",
              "\n",
              "      <script>\n",
              "        const buttonEl =\n",
              "          document.querySelector('#df-c5b588d5-3110-4ac9-9e02-80522a7a2d55 button.colab-df-convert');\n",
              "        buttonEl.style.display =\n",
              "          google.colab.kernel.accessAllowed ? 'block' : 'none';\n",
              "\n",
              "        async function convertToInteractive(key) {\n",
              "          const element = document.querySelector('#df-c5b588d5-3110-4ac9-9e02-80522a7a2d55');\n",
              "          const dataTable =\n",
              "            await google.colab.kernel.invokeFunction('convertToInteractive',\n",
              "                                                     [key], {});\n",
              "          if (!dataTable) return;\n",
              "\n",
              "          const docLinkHtml = 'Like what you see? Visit the ' +\n",
              "            '<a target=\"_blank\" href=https://colab.research.google.com/notebooks/data_table.ipynb>data table notebook</a>'\n",
              "            + ' to learn more about interactive tables.';\n",
              "          element.innerHTML = '';\n",
              "          dataTable['output_type'] = 'display_data';\n",
              "          await google.colab.output.renderOutput(dataTable, element);\n",
              "          const docLink = document.createElement('div');\n",
              "          docLink.innerHTML = docLinkHtml;\n",
              "          element.appendChild(docLink);\n",
              "        }\n",
              "      </script>\n",
              "    </div>\n",
              "  </div>\n",
              "  "
            ]
          },
          "metadata": {},
          "execution_count": 18
        }
      ]
    },
    {
      "cell_type": "code",
      "execution_count": null,
      "metadata": {
        "id": "OkpnXM_a5U3u",
        "colab": {
          "base_uri": "https://localhost:8080/"
        },
        "outputId": "b2ac778e-5380-460f-c12c-dde22f0e39c3"
      },
      "outputs": [
        {
          "output_type": "stream",
          "name": "stdout",
          "text": [
            "<class 'pandas.core.frame.DataFrame'>\n",
            "RangeIndex: 7070 entries, 0 to 7069\n",
            "Data columns (total 3 columns):\n",
            " #   Column     Non-Null Count  Dtype \n",
            "---  ------     --------------  ----- \n",
            " 0   영한_재번역     7070 non-null   object\n",
            " 1   new_label  7070 non-null   int64 \n",
            " 2   번역_jp      7070 non-null   object\n",
            "dtypes: int64(1), object(2)\n",
            "memory usage: 165.8+ KB\n"
          ]
        }
      ],
      "source": [
        "#check datatype of each column\n",
        "df.info()"
      ]
    },
    {
      "cell_type": "markdown",
      "source": [
        "### split training - test set\n",
        "method 1 = conveying the ratio of original dataset\n"
      ],
      "metadata": {
        "id": "NaqY03UQy7f-"
      }
    },
    {
      "cell_type": "markdown",
      "source": [
        "\n",
        "분포 확인"
      ],
      "metadata": {
        "id": "uk5dtb65hW9a"
      }
    },
    {
      "cell_type": "code",
      "source": [
        "#ratio of each columns\n",
        "import seaborn as sns\n",
        "sns.countplot(x = df['new_label'])"
      ],
      "metadata": {
        "id": "FdesugnwzW-U",
        "colab": {
          "base_uri": "https://localhost:8080/",
          "height": 298
        },
        "outputId": "81e17474-1d42-4cd6-8269-07df953af54f"
      },
      "execution_count": null,
      "outputs": [
        {
          "output_type": "execute_result",
          "data": {
            "text/plain": [
              "<matplotlib.axes._subplots.AxesSubplot at 0x7f92e2b5bc90>"
            ]
          },
          "metadata": {},
          "execution_count": 20
        },
        {
          "output_type": "display_data",
          "data": {
            "text/plain": [
              "<Figure size 432x288 with 1 Axes>"
            ],
            "image/png": "[encoded data removed]"
          },
          "metadata": {
            "needs_background": "light"
          }
        }
      ]
    },
    {
      "cell_type": "markdown",
      "source": [
        "- 데이터 스플릿 (랜덤으로 뽑아놓고 나머지 섞어서 트레인데이터 만들기)\n",
        "\n",
        "- 기존 라벨분포와 동일하게 랜덤으로 750개 데이터를 추출해서 test셋으로 제작 "
      ],
      "metadata": {
        "id": "1BaPDES9hZ99"
      }
    },
    {
      "cell_type": "code",
      "source": [
        "#ratio of each label\n",
        "ratio = (df.groupby(\"new_label\").size()/df.groupby(\"new_label\").size().sum()).to_frame('ratio')\n",
        "\n",
        "#number of data we need to sample for each label\n",
        "ratio['number'] = round(ratio['ratio']*750).astype(int)\n",
        "\n",
        "ratio"
      ],
      "metadata": {
        "id": "X-_EkBC1zwLv",
        "colab": {
          "base_uri": "https://localhost:8080/",
          "height": 237
        },
        "outputId": "2318a210-69e4-4e3f-fcaf-8e2a730d9e94"
      },
      "execution_count": null,
      "outputs": [
        {
          "output_type": "execute_result",
          "data": {
            "text/plain": [
              "              ratio  number\n",
              "new_label                  \n",
              "0          0.354455     266\n",
              "1          0.290806     218\n",
              "2          0.235361     177\n",
              "3          0.049788      37\n",
              "4          0.069590      52"
            ],
            "text/html": [
              "\n",
              "  <div id=\"df-37032c19-e7ae-4c88-a254-ed4ed53d3fef\">\n",
              "    <div class=\"colab-df-container\">\n",
              "      <div>\n",
              "<style scoped>\n",
              "    .dataframe tbody tr th:only-of-type {\n",
              "        vertical-align: middle;\n",
              "    }\n",
              "\n",
              "    .dataframe tbody tr th {\n",
              "        vertical-align: top;\n",
              "    }\n",
              "\n",
              "    .dataframe thead th {\n",
              "        text-align: right;\n",
              "    }\n",
              "</style>\n",
              "<table border=\"1\" class=\"dataframe\">\n",
              "  <thead>\n",
              "    <tr style=\"text-align: right;\">\n",
              "      <th></th>\n",
              "      <th>ratio</th>\n",
              "      <th>number</th>\n",
              "    </tr>\n",
              "    <tr>\n",
              "      <th>new_label</th>\n",
              "      <th></th>\n",
              "      <th></th>\n",
              "    </tr>\n",
              "  </thead>\n",
              "  <tbody>\n",
              "    <tr>\n",
              "      <th>0</th>\n",
              "      <td>0.354455</td>\n",
              "      <td>266</td>\n",
              "    </tr>\n",
              "    <tr>\n",
              "      <th>1</th>\n",
              "      <td>0.290806</td>\n",
              "      <td>218</td>\n",
              "    </tr>\n",
              "    <tr>\n",
              "      <th>2</th>\n",
              "      <td>0.235361</td>\n",
              "      <td>177</td>\n",
              "    </tr>\n",
              "    <tr>\n",
              "      <th>3</th>\n",
              "      <td>0.049788</td>\n",
              "      <td>37</td>\n",
              "    </tr>\n",
              "    <tr>\n",
              "      <th>4</th>\n",
              "      <td>0.069590</td>\n",
              "      <td>52</td>\n",
              "    </tr>\n",
              "  </tbody>\n",
              "</table>\n",
              "</div>\n",
              "      <button class=\"colab-df-convert\" onclick=\"convertToInteractive('df-37032c19-e7ae-4c88-a254-ed4ed53d3fef')\"\n",
              "              title=\"Convert this dataframe to an interactive table.\"\n",
              "              style=\"display:none;\">\n",
              "        \n",
              "  <svg xmlns=\"http://www.w3.org/2000/svg\" height=\"24px\"viewBox=\"0 0 24 24\"\n",
              "       width=\"24px\">\n",
              "    <path d=\"M0 0h24v24H0V0z\" fill=\"none\"/>\n",
              "    <path d=\"M18.56 5.44l.94 2.06.94-2.06 2.06-.94-2.06-.94-.94-2.06-.94 2.06-2.06.94zm-11 1L8.5 8.5l.94-2.06 2.06-.94-2.06-.94L8.5 2.5l-.94 2.06-2.06.94zm10 10l.94 2.06.94-2.06 2.06-.94-2.06-.94-.94-2.06-.94 2.06-2.06.94z\"/><path d=\"M17.41 7.96l-1.37-1.37c-.4-.4-.92-.59-1.43-.59-.52 0-1.04.2-1.43.59L10.3 9.45l-7.72 7.72c-.78.78-.78 2.05 0 2.83L4 21.41c.39.39.9.59 1.41.59.51 0 1.02-.2 1.41-.59l7.78-7.78 2.81-2.81c.8-.78.8-2.07 0-2.86zM5.41 20L4 18.59l7.72-7.72 1.47 1.35L5.41 20z\"/>\n",
              "  </svg>\n",
              "      </button>\n",
              "      \n",
              "  <style>\n",
              "    .colab-df-container {\n",
              "      display:flex;\n",
              "      flex-wrap:wrap;\n",
              "      gap: 12px;\n",
              "    }\n",
              "\n",
              "    .colab-df-convert {\n",
              "      background-color: #E8F0FE;\n",
              "      border: none;\n",
              "      border-radius: 50%;\n",
              "      cursor: pointer;\n",
              "      display: none;\n",
              "      fill: #1967D2;\n",
              "      height: 32px;\n",
              "      padding: 0 0 0 0;\n",
              "      width: 32px;\n",
              "    }\n",
              "\n",
              "    .colab-df-convert:hover {\n",
              "      background-color: #E2EBFA;\n",
              "      box-shadow: 0px 1px 2px rgba(60, 64, 67, 0.3), 0px 1px 3px 1px rgba(60, 64, 67, 0.15);\n",
              "      fill: #174EA6;\n",
              "    }\n",
              "\n",
              "    [theme=dark] .colab-df-convert {\n",
              "      background-color: #3B4455;\n",
              "      fill: #D2E3FC;\n",
              "    }\n",
              "\n",
              "    [theme=dark] .colab-df-convert:hover {\n",
              "      background-color: #434B5C;\n",
              "      box-shadow: 0px 1px 3px 1px rgba(0, 0, 0, 0.15);\n",
              "      filter: drop-shadow(0px 1px 2px rgba(0, 0, 0, 0.3));\n",
              "      fill: #FFFFFF;\n",
              "    }\n",
              "  </style>\n",
              "\n",
              "      <script>\n",
              "        const buttonEl =\n",
              "          document.querySelector('#df-37032c19-e7ae-4c88-a254-ed4ed53d3fef button.colab-df-convert');\n",
              "        buttonEl.style.display =\n",
              "          google.colab.kernel.accessAllowed ? 'block' : 'none';\n",
              "\n",
              "        async function convertToInteractive(key) {\n",
              "          const element = document.querySelector('#df-37032c19-e7ae-4c88-a254-ed4ed53d3fef');\n",
              "          const dataTable =\n",
              "            await google.colab.kernel.invokeFunction('convertToInteractive',\n",
              "                                                     [key], {});\n",
              "          if (!dataTable) return;\n",
              "\n",
              "          const docLinkHtml = 'Like what you see? Visit the ' +\n",
              "            '<a target=\"_blank\" href=https://colab.research.google.com/notebooks/data_table.ipynb>data table notebook</a>'\n",
              "            + ' to learn more about interactive tables.';\n",
              "          element.innerHTML = '';\n",
              "          dataTable['output_type'] = 'display_data';\n",
              "          await google.colab.output.renderOutput(dataTable, element);\n",
              "          const docLink = document.createElement('div');\n",
              "          docLink.innerHTML = docLinkHtml;\n",
              "          element.appendChild(docLink);\n",
              "        }\n",
              "      </script>\n",
              "    </div>\n",
              "  </div>\n",
              "  "
            ]
          },
          "metadata": {},
          "execution_count": 21
        }
      ]
    },
    {
      "cell_type": "code",
      "source": [
        "#creating test dataset\n",
        "test = pd.DataFrame()\n",
        "\n",
        "for i in range(5):\n",
        "  sample = df.loc[df['new_label'] == i].sample(n=ratio['number'][i]) # random_state = 11로 시드설정 가능 \n",
        "  test = pd.concat([test,sample])\n",
        "\n",
        "# test = test[['영한_재번역','new_label']]\n",
        "test"
      ],
      "metadata": {
        "id": "_EK3B2va_MfK",
        "colab": {
          "base_uri": "https://localhost:8080/",
          "height": 424
        },
        "outputId": "102b1564-3a98-45d1-b9df-db5cb361282d"
      },
      "execution_count": null,
      "outputs": [
        {
          "output_type": "execute_result",
          "data": {
            "text/plain": [
              "                                                 영한_재번역  new_label  \\\n",
              "5129  홍콩의 도시 고형 폐기물의 약 40  는 음식물 쓰레기이며 일부 주민들은 여전히  ...          0   \n",
              "5236  LSE Garrick과 Shaw Caf 는 Bronze Award를 수상한 반면 4...          0   \n",
              "1455  건축 환경의 학교   산업 설계 재 설계 - 원형 경제“새로운 산업 디자인 제품은 ...          0   \n",
              "4903  Australian Rivers Institute Australian Rivers ...          0   \n",
              "1041  자선 영향 RMIT는 모든 배경의 모든 학생들을위한 삶을 변화시키는 교육 경험을 창...          0   \n",
              "...                                                 ...        ...   \n",
              "6521  케임브리지 파트너십 케임브리지 대학교와 아 쇼카 대학교 (Ashoka Univers...          4   \n",
              "5507  2017/18 년에 스턴 경은 모든 수준에서 정책 입안자들과 기후 변화에 대한 긴급...          4   \n",
              "490   원주민 음악 Execs Global Music Company BMG는 교육 및 예술...          4   \n",
              "4944  Caitline Byrne 교수가 이끄는 Griffith 's Asia Instit...          4   \n",
              "3555  CES (Center for Environment and Science)는 지속 가...          4   \n",
              "\n",
              "                                                  번역_jp  \n",
              "5129  홍콩 고형 폐기물의 약 40 %는 음식물 쓰레기이지만 일부 주민들은 여전히 ​​기본...  \n",
              "5236  LSE Garrick과 Shawcafé가 Bronze Award를 수상한 반면 Re...  \n",
              "1455  건축 환경 : 산업 설계의 규정 -경제 경제 경제 경제 경제는 유엔의 지속 가능한 ...  \n",
              "4903  Australia Rivers Institute Australia Rivers In...  \n",
              "1041  자선 영향 RMIT는 모든 배경의 모든 학생들에게 삶을 변화시키고 삶, 일 및 학습...  \n",
              "...                                                 ...  \n",
              "6521  케임브리지의 파트너십 Cambridge University와 Ashoka Unive...  \n",
              "5507  2017/18 년에 Stern Lord는 모든 수준의 정책 계획가와 함께 기후 변화...  \n",
              "490   원주민 음악 Execs Global Music Company BMG는 Newcast...  \n",
              "4944  2021 년, SDGS의 IIInternationAtrnerships는 아시아 그리...  \n",
              "3555  CES (Central for Environment and Science)는 지속 ...  \n",
              "\n",
              "[750 rows x 3 columns]"
            ],
            "text/html": [
              "\n",
              "  <div id=\"df-245d5766-8fff-40f7-8910-6181c47cef90\">\n",
              "    <div class=\"colab-df-container\">\n",
              "      <div>\n",
              "<style scoped>\n",
              "    .dataframe tbody tr th:only-of-type {\n",
              "        vertical-align: middle;\n",
              "    }\n",
              "\n",
              "    .dataframe tbody tr th {\n",
              "        vertical-align: top;\n",
              "    }\n",
              "\n",
              "    .dataframe thead th {\n",
              "        text-align: right;\n",
              "    }\n",
              "</style>\n",
              "<table border=\"1\" class=\"dataframe\">\n",
              "  <thead>\n",
              "    <tr style=\"text-align: right;\">\n",
              "      <th></th>\n",
              "      <th>영한_재번역</th>\n",
              "      <th>new_label</th>\n",
              "      <th>번역_jp</th>\n",
              "    </tr>\n",
              "  </thead>\n",
              "  <tbody>\n",
              "    <tr>\n",
              "      <th>5129</th>\n",
              "      <td>홍콩의 도시 고형 폐기물의 약 40  는 음식물 쓰레기이며 일부 주민들은 여전히  ...</td>\n",
              "      <td>0</td>\n",
              "      <td>홍콩 고형 폐기물의 약 40 %는 음식물 쓰레기이지만 일부 주민들은 여전히 ​​기본...</td>\n",
              "    </tr>\n",
              "    <tr>\n",
              "      <th>5236</th>\n",
              "      <td>LSE Garrick과 Shaw Caf 는 Bronze Award를 수상한 반면 4...</td>\n",
              "      <td>0</td>\n",
              "      <td>LSE Garrick과 Shawcafé가 Bronze Award를 수상한 반면 Re...</td>\n",
              "    </tr>\n",
              "    <tr>\n",
              "      <th>1455</th>\n",
              "      <td>건축 환경의 학교   산업 설계 재 설계 - 원형 경제“새로운 산업 디자인 제품은 ...</td>\n",
              "      <td>0</td>\n",
              "      <td>건축 환경 : 산업 설계의 규정 -경제 경제 경제 경제 경제는 유엔의 지속 가능한 ...</td>\n",
              "    </tr>\n",
              "    <tr>\n",
              "      <th>4903</th>\n",
              "      <td>Australian Rivers Institute Australian Rivers ...</td>\n",
              "      <td>0</td>\n",
              "      <td>Australia Rivers Institute Australia Rivers In...</td>\n",
              "    </tr>\n",
              "    <tr>\n",
              "      <th>1041</th>\n",
              "      <td>자선 영향 RMIT는 모든 배경의 모든 학생들을위한 삶을 변화시키는 교육 경험을 창...</td>\n",
              "      <td>0</td>\n",
              "      <td>자선 영향 RMIT는 모든 배경의 모든 학생들에게 삶을 변화시키고 삶, 일 및 학습...</td>\n",
              "    </tr>\n",
              "    <tr>\n",
              "      <th>...</th>\n",
              "      <td>...</td>\n",
              "      <td>...</td>\n",
              "      <td>...</td>\n",
              "    </tr>\n",
              "    <tr>\n",
              "      <th>6521</th>\n",
              "      <td>케임브리지 파트너십 케임브리지 대학교와 아 쇼카 대학교 (Ashoka Univers...</td>\n",
              "      <td>4</td>\n",
              "      <td>케임브리지의 파트너십 Cambridge University와 Ashoka Unive...</td>\n",
              "    </tr>\n",
              "    <tr>\n",
              "      <th>5507</th>\n",
              "      <td>2017/18 년에 스턴 경은 모든 수준에서 정책 입안자들과 기후 변화에 대한 긴급...</td>\n",
              "      <td>4</td>\n",
              "      <td>2017/18 년에 Stern Lord는 모든 수준의 정책 계획가와 함께 기후 변화...</td>\n",
              "    </tr>\n",
              "    <tr>\n",
              "      <th>490</th>\n",
              "      <td>원주민 음악 Execs Global Music Company BMG는 교육 및 예술...</td>\n",
              "      <td>4</td>\n",
              "      <td>원주민 음악 Execs Global Music Company BMG는 Newcast...</td>\n",
              "    </tr>\n",
              "    <tr>\n",
              "      <th>4944</th>\n",
              "      <td>Caitline Byrne 교수가 이끄는 Griffith 's Asia Instit...</td>\n",
              "      <td>4</td>\n",
              "      <td>2021 년, SDGS의 IIInternationAtrnerships는 아시아 그리...</td>\n",
              "    </tr>\n",
              "    <tr>\n",
              "      <th>3555</th>\n",
              "      <td>CES (Center for Environment and Science)는 지속 가...</td>\n",
              "      <td>4</td>\n",
              "      <td>CES (Central for Environment and Science)는 지속 ...</td>\n",
              "    </tr>\n",
              "  </tbody>\n",
              "</table>\n",
              "<p>750 rows × 3 columns</p>\n",
              "</div>\n",
              "      <button class=\"colab-df-convert\" onclick=\"convertToInteractive('df-245d5766-8fff-40f7-8910-6181c47cef90')\"\n",
              "              title=\"Convert this dataframe to an interactive table.\"\n",
              "              style=\"display:none;\">\n",
              "        \n",
              "  <svg xmlns=\"http://www.w3.org/2000/svg\" height=\"24px\"viewBox=\"0 0 24 24\"\n",
              "       width=\"24px\">\n",
              "    <path d=\"M0 0h24v24H0V0z\" fill=\"none\"/>\n",
              "    <path d=\"M18.56 5.44l.94 2.06.94-2.06 2.06-.94-2.06-.94-.94-2.06-.94 2.06-2.06.94zm-11 1L8.5 8.5l.94-2.06 2.06-.94-2.06-.94L8.5 2.5l-.94 2.06-2.06.94zm10 10l.94 2.06.94-2.06 2.06-.94-2.06-.94-.94-2.06-.94 2.06-2.06.94z\"/><path d=\"M17.41 7.96l-1.37-1.37c-.4-.4-.92-.59-1.43-.59-.52 0-1.04.2-1.43.59L10.3 9.45l-7.72 7.72c-.78.78-.78 2.05 0 2.83L4 21.41c.39.39.9.59 1.41.59.51 0 1.02-.2 1.41-.59l7.78-7.78 2.81-2.81c.8-.78.8-2.07 0-2.86zM5.41 20L4 18.59l7.72-7.72 1.47 1.35L5.41 20z\"/>\n",
              "  </svg>\n",
              "      </button>\n",
              "      \n",
              "  <style>\n",
              "    .colab-df-container {\n",
              "      display:flex;\n",
              "      flex-wrap:wrap;\n",
              "      gap: 12px;\n",
              "    }\n",
              "\n",
              "    .colab-df-convert {\n",
              "      background-color: #E8F0FE;\n",
              "      border: none;\n",
              "      border-radius: 50%;\n",
              "      cursor: pointer;\n",
              "      display: none;\n",
              "      fill: #1967D2;\n",
              "      height: 32px;\n",
              "      padding: 0 0 0 0;\n",
              "      width: 32px;\n",
              "    }\n",
              "\n",
              "    .colab-df-convert:hover {\n",
              "      background-color: #E2EBFA;\n",
              "      box-shadow: 0px 1px 2px rgba(60, 64, 67, 0.3), 0px 1px 3px 1px rgba(60, 64, 67, 0.15);\n",
              "      fill: #174EA6;\n",
              "    }\n",
              "\n",
              "    [theme=dark] .colab-df-convert {\n",
              "      background-color: #3B4455;\n",
              "      fill: #D2E3FC;\n",
              "    }\n",
              "\n",
              "    [theme=dark] .colab-df-convert:hover {\n",
              "      background-color: #434B5C;\n",
              "      box-shadow: 0px 1px 3px 1px rgba(0, 0, 0, 0.15);\n",
              "      filter: drop-shadow(0px 1px 2px rgba(0, 0, 0, 0.3));\n",
              "      fill: #FFFFFF;\n",
              "    }\n",
              "  </style>\n",
              "\n",
              "      <script>\n",
              "        const buttonEl =\n",
              "          document.querySelector('#df-245d5766-8fff-40f7-8910-6181c47cef90 button.colab-df-convert');\n",
              "        buttonEl.style.display =\n",
              "          google.colab.kernel.accessAllowed ? 'block' : 'none';\n",
              "\n",
              "        async function convertToInteractive(key) {\n",
              "          const element = document.querySelector('#df-245d5766-8fff-40f7-8910-6181c47cef90');\n",
              "          const dataTable =\n",
              "            await google.colab.kernel.invokeFunction('convertToInteractive',\n",
              "                                                     [key], {});\n",
              "          if (!dataTable) return;\n",
              "\n",
              "          const docLinkHtml = 'Like what you see? Visit the ' +\n",
              "            '<a target=\"_blank\" href=https://colab.research.google.com/notebooks/data_table.ipynb>data table notebook</a>'\n",
              "            + ' to learn more about interactive tables.';\n",
              "          element.innerHTML = '';\n",
              "          dataTable['output_type'] = 'display_data';\n",
              "          await google.colab.output.renderOutput(dataTable, element);\n",
              "          const docLink = document.createElement('div');\n",
              "          docLink.innerHTML = docLinkHtml;\n",
              "          element.appendChild(docLink);\n",
              "        }\n",
              "      </script>\n",
              "    </div>\n",
              "  </div>\n",
              "  "
            ]
          },
          "metadata": {},
          "execution_count": 22
        }
      ]
    },
    {
      "cell_type": "code",
      "source": [
        "# test셋 분포 확인\n",
        "sns.countplot(x = test['new_label'])\n",
        "\n",
        "# 기존 전체데이터의 라벨과 동일한 분포대로 test셋 "
      ],
      "metadata": {
        "colab": {
          "base_uri": "https://localhost:8080/",
          "height": 298
        },
        "id": "VA-zltfYtruk",
        "outputId": "a9ec6faa-49f9-410b-927b-b1ba892feaf0"
      },
      "execution_count": null,
      "outputs": [
        {
          "output_type": "execute_result",
          "data": {
            "text/plain": [
              "<matplotlib.axes._subplots.AxesSubplot at 0x7f92e25f60d0>"
            ]
          },
          "metadata": {},
          "execution_count": 23
        },
        {
          "output_type": "display_data",
          "data": {
            "text/plain": [
              "<Figure size 432x288 with 1 Axes>"
            ],
            "image/png": "[encoded data removed]"
          },
          "metadata": {
            "needs_background": "light"
          }
        }
      ]
    },
    {
      "cell_type": "code",
      "source": [
        "# test셋에 사용한 데이터를 제외하고 나머지를 train_set으로 사용 \n",
        "\n",
        "#creating train dataset\n",
        "df = df.drop(test.index)\n",
        "#shuffle the dataset\n",
        "df = df.sample(frac=1)\n",
        "df"
      ],
      "metadata": {
        "id": "etCN2VyrG3Kb",
        "colab": {
          "base_uri": "https://localhost:8080/",
          "height": 424
        },
        "outputId": "7788a3b0-8174-424a-ca9e-317866e95654"
      },
      "execution_count": null,
      "outputs": [
        {
          "output_type": "execute_result",
          "data": {
            "text/plain": [
              "                                                 영한_재번역  new_label  \\\n",
              "6567  목표 4는“포용적이고 공평한 품질 교육을 보장하고 평생 학습 기회를 홍보하는 것”을...          0   \n",
              "6804  Cuhk는 연구 혁신 및 기업을 역동적이고 생산적인 연속체에 통합하려고합니다2021...          2   \n",
              "7056  Council for AT Risk Academics -Cara UEA는 Cara의...          3   \n",
              "4882  Healthy Primary Care (HPC)는 2021 년 퀸즐랜드 젊은 키 큰...          0   \n",
              "1485  주택 경제성은 주요 도시와 지역 센터에서 계속 문제가되고 있습니다 지역 사회 주택 ...          2   \n",
              "...                                                 ...        ...   \n",
              "3370  - 109 개 이상의 연구 단위의 연구에 중점을 둡니다 '성별'및 기타 연구 단위가...          0   \n",
              "5029  NTUSA (National Taiwan University Student Asso...          1   \n",
              "1086  지속 가능한 조달 RMIT RMIT는 공급망 및 파트너십이 인권 노동 환경 및 부패...          2   \n",
              "2333  Alma Mater는 Coimbra Group의 일부이며 특히 개발 협력의 실무 그...          4   \n",
              "2910  에너지 절약은 부분적으로 사용자의 에너지 소비 패턴의 세심한 모니터링에 달려 있습니...          1   \n",
              "\n",
              "                                                  번역_jp  \n",
              "6567  목표 4는 \"포괄적이고 공정한 품질의 교육을 안전하게하고 모든 사람을위한 평생 학습...  \n",
              "6804  CUHK는 연구, 혁신 및 회사를 역동적이고 생산적인 연속체로 통합하려고 노력하고 ...  \n",
              "7056  Risk Academics의 협의회 -Cara UEA는 Cara의 회원이며 폭력의 ...  \n",
              "4882  Healthy Primary Care (HPC)는 Laurenball 부교수가 이끄...  \n",
              "1485  저렴한 주택 가격은 주요 도시와 지역 센터에서 계속 문제가되고 있습니다. 지역 사회...  \n",
              "...                                                 ...  \n",
              "3370  -109 개 이상의 유닛에 대한 연구는 \"성별\"에 중점을두고 다른 연구 유닛은 주제...  \n",
              "5029  NTUSA (National Taiwan University Student Asso...  \n",
              "1086  지속 가능한 조달 RMIT는 우리의 공급망과 파트너십이 인권, 노동, 환경 및 부패...  \n",
              "2333  Alma Mater는 Coin Bra Group, 특히 개발 협력 그룹의 일부입니다...  \n",
              "2910  에너지 절약은 사용자 에너지 소비 패턴의 상세한 환경에 부분적으로 의존합니다. 엔지...  \n",
              "\n",
              "[6320 rows x 3 columns]"
            ],
            "text/html": [
              "\n",
              "  <div id=\"df-5b15c8fe-e21c-47f1-854b-ebd8cea1f9ad\">\n",
              "    <div class=\"colab-df-container\">\n",
              "      <div>\n",
              "<style scoped>\n",
              "    .dataframe tbody tr th:only-of-type {\n",
              "        vertical-align: middle;\n",
              "    }\n",
              "\n",
              "    .dataframe tbody tr th {\n",
              "        vertical-align: top;\n",
              "    }\n",
              "\n",
              "    .dataframe thead th {\n",
              "        text-align: right;\n",
              "    }\n",
              "</style>\n",
              "<table border=\"1\" class=\"dataframe\">\n",
              "  <thead>\n",
              "    <tr style=\"text-align: right;\">\n",
              "      <th></th>\n",
              "      <th>영한_재번역</th>\n",
              "      <th>new_label</th>\n",
              "      <th>번역_jp</th>\n",
              "    </tr>\n",
              "  </thead>\n",
              "  <tbody>\n",
              "    <tr>\n",
              "      <th>6567</th>\n",
              "      <td>목표 4는“포용적이고 공평한 품질 교육을 보장하고 평생 학습 기회를 홍보하는 것”을...</td>\n",
              "      <td>0</td>\n",
              "      <td>목표 4는 \"포괄적이고 공정한 품질의 교육을 안전하게하고 모든 사람을위한 평생 학습...</td>\n",
              "    </tr>\n",
              "    <tr>\n",
              "      <th>6804</th>\n",
              "      <td>Cuhk는 연구 혁신 및 기업을 역동적이고 생산적인 연속체에 통합하려고합니다2021...</td>\n",
              "      <td>2</td>\n",
              "      <td>CUHK는 연구, 혁신 및 회사를 역동적이고 생산적인 연속체로 통합하려고 노력하고 ...</td>\n",
              "    </tr>\n",
              "    <tr>\n",
              "      <th>7056</th>\n",
              "      <td>Council for AT Risk Academics -Cara UEA는 Cara의...</td>\n",
              "      <td>3</td>\n",
              "      <td>Risk Academics의 협의회 -Cara UEA는 Cara의 회원이며 폭력의 ...</td>\n",
              "    </tr>\n",
              "    <tr>\n",
              "      <th>4882</th>\n",
              "      <td>Healthy Primary Care (HPC)는 2021 년 퀸즐랜드 젊은 키 큰...</td>\n",
              "      <td>0</td>\n",
              "      <td>Healthy Primary Care (HPC)는 Laurenball 부교수가 이끄...</td>\n",
              "    </tr>\n",
              "    <tr>\n",
              "      <th>1485</th>\n",
              "      <td>주택 경제성은 주요 도시와 지역 센터에서 계속 문제가되고 있습니다 지역 사회 주택 ...</td>\n",
              "      <td>2</td>\n",
              "      <td>저렴한 주택 가격은 주요 도시와 지역 센터에서 계속 문제가되고 있습니다. 지역 사회...</td>\n",
              "    </tr>\n",
              "    <tr>\n",
              "      <th>...</th>\n",
              "      <td>...</td>\n",
              "      <td>...</td>\n",
              "      <td>...</td>\n",
              "    </tr>\n",
              "    <tr>\n",
              "      <th>3370</th>\n",
              "      <td>- 109 개 이상의 연구 단위의 연구에 중점을 둡니다 '성별'및 기타 연구 단위가...</td>\n",
              "      <td>0</td>\n",
              "      <td>-109 개 이상의 유닛에 대한 연구는 \"성별\"에 중점을두고 다른 연구 유닛은 주제...</td>\n",
              "    </tr>\n",
              "    <tr>\n",
              "      <th>5029</th>\n",
              "      <td>NTUSA (National Taiwan University Student Asso...</td>\n",
              "      <td>1</td>\n",
              "      <td>NTUSA (National Taiwan University Student Asso...</td>\n",
              "    </tr>\n",
              "    <tr>\n",
              "      <th>1086</th>\n",
              "      <td>지속 가능한 조달 RMIT RMIT는 공급망 및 파트너십이 인권 노동 환경 및 부패...</td>\n",
              "      <td>2</td>\n",
              "      <td>지속 가능한 조달 RMIT는 우리의 공급망과 파트너십이 인권, 노동, 환경 및 부패...</td>\n",
              "    </tr>\n",
              "    <tr>\n",
              "      <th>2333</th>\n",
              "      <td>Alma Mater는 Coimbra Group의 일부이며 특히 개발 협력의 실무 그...</td>\n",
              "      <td>4</td>\n",
              "      <td>Alma Mater는 Coin Bra Group, 특히 개발 협력 그룹의 일부입니다...</td>\n",
              "    </tr>\n",
              "    <tr>\n",
              "      <th>2910</th>\n",
              "      <td>에너지 절약은 부분적으로 사용자의 에너지 소비 패턴의 세심한 모니터링에 달려 있습니...</td>\n",
              "      <td>1</td>\n",
              "      <td>에너지 절약은 사용자 에너지 소비 패턴의 상세한 환경에 부분적으로 의존합니다. 엔지...</td>\n",
              "    </tr>\n",
              "  </tbody>\n",
              "</table>\n",
              "<p>6320 rows × 3 columns</p>\n",
              "</div>\n",
              "      <button class=\"colab-df-convert\" onclick=\"convertToInteractive('df-5b15c8fe-e21c-47f1-854b-ebd8cea1f9ad')\"\n",
              "              title=\"Convert this dataframe to an interactive table.\"\n",
              "              style=\"display:none;\">\n",
              "        \n",
              "  <svg xmlns=\"http://www.w3.org/2000/svg\" height=\"24px\"viewBox=\"0 0 24 24\"\n",
              "       width=\"24px\">\n",
              "    <path d=\"M0 0h24v24H0V0z\" fill=\"none\"/>\n",
              "    <path d=\"M18.56 5.44l.94 2.06.94-2.06 2.06-.94-2.06-.94-.94-2.06-.94 2.06-2.06.94zm-11 1L8.5 8.5l.94-2.06 2.06-.94-2.06-.94L8.5 2.5l-.94 2.06-2.06.94zm10 10l.94 2.06.94-2.06 2.06-.94-2.06-.94-.94-2.06-.94 2.06-2.06.94z\"/><path d=\"M17.41 7.96l-1.37-1.37c-.4-.4-.92-.59-1.43-.59-.52 0-1.04.2-1.43.59L10.3 9.45l-7.72 7.72c-.78.78-.78 2.05 0 2.83L4 21.41c.39.39.9.59 1.41.59.51 0 1.02-.2 1.41-.59l7.78-7.78 2.81-2.81c.8-.78.8-2.07 0-2.86zM5.41 20L4 18.59l7.72-7.72 1.47 1.35L5.41 20z\"/>\n",
              "  </svg>\n",
              "      </button>\n",
              "      \n",
              "  <style>\n",
              "    .colab-df-container {\n",
              "      display:flex;\n",
              "      flex-wrap:wrap;\n",
              "      gap: 12px;\n",
              "    }\n",
              "\n",
              "    .colab-df-convert {\n",
              "      background-color: #E8F0FE;\n",
              "      border: none;\n",
              "      border-radius: 50%;\n",
              "      cursor: pointer;\n",
              "      display: none;\n",
              "      fill: #1967D2;\n",
              "      height: 32px;\n",
              "      padding: 0 0 0 0;\n",
              "      width: 32px;\n",
              "    }\n",
              "\n",
              "    .colab-df-convert:hover {\n",
              "      background-color: #E2EBFA;\n",
              "      box-shadow: 0px 1px 2px rgba(60, 64, 67, 0.3), 0px 1px 3px 1px rgba(60, 64, 67, 0.15);\n",
              "      fill: #174EA6;\n",
              "    }\n",
              "\n",
              "    [theme=dark] .colab-df-convert {\n",
              "      background-color: #3B4455;\n",
              "      fill: #D2E3FC;\n",
              "    }\n",
              "\n",
              "    [theme=dark] .colab-df-convert:hover {\n",
              "      background-color: #434B5C;\n",
              "      box-shadow: 0px 1px 3px 1px rgba(0, 0, 0, 0.15);\n",
              "      filter: drop-shadow(0px 1px 2px rgba(0, 0, 0, 0.3));\n",
              "      fill: #FFFFFF;\n",
              "    }\n",
              "  </style>\n",
              "\n",
              "      <script>\n",
              "        const buttonEl =\n",
              "          document.querySelector('#df-5b15c8fe-e21c-47f1-854b-ebd8cea1f9ad button.colab-df-convert');\n",
              "        buttonEl.style.display =\n",
              "          google.colab.kernel.accessAllowed ? 'block' : 'none';\n",
              "\n",
              "        async function convertToInteractive(key) {\n",
              "          const element = document.querySelector('#df-5b15c8fe-e21c-47f1-854b-ebd8cea1f9ad');\n",
              "          const dataTable =\n",
              "            await google.colab.kernel.invokeFunction('convertToInteractive',\n",
              "                                                     [key], {});\n",
              "          if (!dataTable) return;\n",
              "\n",
              "          const docLinkHtml = 'Like what you see? Visit the ' +\n",
              "            '<a target=\"_blank\" href=https://colab.research.google.com/notebooks/data_table.ipynb>data table notebook</a>'\n",
              "            + ' to learn more about interactive tables.';\n",
              "          element.innerHTML = '';\n",
              "          dataTable['output_type'] = 'display_data';\n",
              "          await google.colab.output.renderOutput(dataTable, element);\n",
              "          const docLink = document.createElement('div');\n",
              "          docLink.innerHTML = docLinkHtml;\n",
              "          element.appendChild(docLink);\n",
              "        }\n",
              "      </script>\n",
              "    </div>\n",
              "  </div>\n",
              "  "
            ]
          },
          "metadata": {},
          "execution_count": 24
        }
      ]
    },
    {
      "cell_type": "code",
      "source": [
        "# shuffle 된 train data  분포 확인 \n",
        "sns.countplot(x = df['new_label'])\n"
      ],
      "metadata": {
        "id": "s91qJnKqhzdU",
        "colab": {
          "base_uri": "https://localhost:8080/",
          "height": 298
        },
        "outputId": "c8e680b7-fad4-4d61-8a06-4b81b2ebc690"
      },
      "execution_count": null,
      "outputs": [
        {
          "output_type": "execute_result",
          "data": {
            "text/plain": [
              "<matplotlib.axes._subplots.AxesSubplot at 0x7f92e257c250>"
            ]
          },
          "metadata": {},
          "execution_count": 25
        },
        {
          "output_type": "display_data",
          "data": {
            "text/plain": [
              "<Figure size 432x288 with 1 Axes>"
            ],
            "image/png": "[encoded data removed]"
          },
          "metadata": {
            "needs_background": "light"
          }
        }
      ]
    },
    {
      "cell_type": "markdown",
      "source": [
        "#### test set / train set check"
      ],
      "metadata": {
        "id": "HXQTKmUgiMU1"
      }
    },
    {
      "cell_type": "markdown",
      "source": [
        "- 모델에 입력으로 넣어주기 위해 리스트 형태로 각각 추출 \n",
        "- split 비율 확인 "
      ],
      "metadata": {
        "id": "jQ4iaW91uiQz"
      }
    },
    {
      "cell_type": "code",
      "execution_count": null,
      "metadata": {
        "id": "rlfw2fnw-lyj"
      },
      "outputs": [],
      "source": [
        "#creating trainset manually\n",
        "trainset = []\n",
        "\n",
        "for sentence, label in zip(df['영한_재번역'], df['new_label']):\n",
        "    data = []\n",
        "    data.append(sentence)\n",
        "    data.append(str(label))\n",
        "    trainset.append(data)\n",
        "\n",
        "\n",
        "for sentence, label in zip(df['번역_jp'], df['new_label']):\n",
        "    data = []\n",
        "    data.append(sentence)\n",
        "    data.append(str(label))\n",
        "    trainset.append(data)\n"
      ]
    },
    {
      "cell_type": "code",
      "source": [
        "#creating testset manually\n",
        "testset = []\n",
        "\n",
        "for sentence, label in zip(test['영한_재번역'], test['new_label']):\n",
        "    data = []\n",
        "    data.append(sentence)\n",
        "    data.append(str(label))\n",
        "    testset.append(data)"
      ],
      "metadata": {
        "id": "B9gQdJ8ZOpJ9"
      },
      "execution_count": null,
      "outputs": []
    },
    {
      "cell_type": "code",
      "source": [
        "print(len(trainset))\n",
        "print(len(testset))"
      ],
      "metadata": {
        "colab": {
          "base_uri": "https://localhost:8080/"
        },
        "id": "82cfUpmQgHtI",
        "outputId": "90ab0b28-b8ee-44b6-81df-4ac50339e83a"
      },
      "execution_count": null,
      "outputs": [
        {
          "output_type": "stream",
          "name": "stdout",
          "text": [
            "12640\n",
            "750\n"
          ]
        }
      ]
    },
    {
      "cell_type": "markdown",
      "source": [
        "### model load"
      ],
      "metadata": {
        "id": "weyS8HMmgEoI"
      }
    },
    {
      "cell_type": "code",
      "execution_count": null,
      "metadata": {
        "id": "aw3eavuK-luV"
      },
      "outputs": [],
      "source": [
        "#creating dataset suitable for BERT\n",
        "class BERTDataset(Dataset):\n",
        "    def __init__(self, dataset, sent_idx, label_idx, bert_tokenizer, max_len,\n",
        "                 pad, pair):\n",
        "        transform = nlp.data.BERTSentenceTransform(\n",
        "            bert_tokenizer, max_seq_length=max_len, pad=pad, pair=pair)\n",
        "\n",
        "        self.sentences = [transform([i[sent_idx]]) for i in dataset]\n",
        "        self.labels = [np.int32(i[label_idx]) for i in dataset]\n",
        "\n",
        "    def __getitem__(self, i):\n",
        "        return (self.sentences[i] + (self.labels[i], ))\n",
        "\n",
        "    def __len__(self):\n",
        "        return (len(self.labels))"
      ]
    },
    {
      "cell_type": "code",
      "execution_count": null,
      "metadata": {
        "id": "WfR0VLSf-lsW"
      },
      "outputs": [],
      "source": [
        "# Setting hyperparameters\n",
        "max_len = 256\n",
        "batch_size = 16\n",
        "warmup_ratio = 0.1\n",
        "num_epochs = 5\n",
        "max_grad_norm = 1\n",
        "log_interval = 200\n",
        "learning_rate =  5e-5"
      ]
    },
    {
      "cell_type": "code",
      "execution_count": null,
      "metadata": {
        "id": "fnQXAXSW-lqB",
        "colab": {
          "base_uri": "https://localhost:8080/"
        },
        "outputId": "7e2ae12c-12f1-43c8-8d9e-4bdc363ce034"
      },
      "outputs": [
        {
          "output_type": "stream",
          "name": "stdout",
          "text": [
            "using cached model. /content/.cache/kobert_news_wiki_ko_cased-1087f8699e.spiece\n"
          ]
        }
      ],
      "source": [
        "#tokenize / padding\n",
        "tokenizer = get_tokenizer()\n",
        "tok = nlp.data.BERTSPTokenizer(tokenizer, vocab, lower=False)\n",
        "\n",
        "data_train = BERTDataset(trainset, 0, 1, tok, max_len, True, False)\n",
        "data_test = BERTDataset(testset, 0, 1, tok, max_len, True, False)"
      ]
    },
    {
      "cell_type": "code",
      "source": [
        "data_train[1000], data_test[0]"
      ],
      "metadata": {
        "colab": {
          "base_uri": "https://localhost:8080/"
        },
        "id": "-6CG6394sGvl",
        "outputId": "66ae1899-7b38-4e2c-ab4e-6e706bbc5950"
      },
      "execution_count": null,
      "outputs": [
        {
          "output_type": "execute_result",
          "data": {
            "text/plain": [
              "((array([   2,  637,  367,  401,  436,  409,  695,  425,  405,  454,  440,\n",
              "          413,  458,  707,  637,  367,  401,  436,  409,  687,  389,  455,\n",
              "          394,  367,  399,  389, 4465, 7178,  522,  517,  350,  333,  517,\n",
              "           40,  695,  329,  270, 7095, 4924, 6629, 4465, 7186,  548,  244,\n",
              "          517, 5717,  687,  367,  415,  401,  389,  394,  517, 7508, 6983,\n",
              "         3762, 1916, 6903, 1138, 4852, 6633, 4619, 7789, 3567, 4845,  612,\n",
              "          157,  423,  525, 3803, 7095, 4845, 5197, 7078, 2770, 2184,  885,\n",
              "         5895, 6701, 6493, 7003, 1770, 4465, 1065, 7086, 2704, 6241, 7821,\n",
              "         7202, 5133, 1770, 4743, 5561, 5144, 2948, 6037, 7318, 2982, 7100,\n",
              "         7418, 1770, 4538, 4852, 6631, 4162, 5424, 2184, 1073, 5361, 3567,\n",
              "         3969, 6493, 7003, 7789, 3567, 3990, 6641, 6903, 5100, 7842, 5906,\n",
              "            3,    1,    1,    1,    1,    1,    1,    1,    1,    1,    1,\n",
              "            1,    1,    1,    1,    1,    1,    1,    1,    1,    1,    1,\n",
              "            1,    1,    1,    1,    1,    1,    1,    1,    1,    1,    1,\n",
              "            1,    1,    1,    1,    1,    1,    1,    1,    1,    1,    1,\n",
              "            1,    1,    1,    1,    1,    1,    1,    1,    1,    1,    1,\n",
              "            1,    1,    1,    1,    1,    1,    1,    1,    1,    1,    1,\n",
              "            1,    1,    1,    1,    1,    1,    1,    1,    1,    1,    1,\n",
              "            1,    1,    1,    1,    1,    1,    1,    1,    1,    1,    1,\n",
              "            1,    1,    1,    1,    1,    1,    1,    1,    1,    1,    1,\n",
              "            1,    1,    1,    1,    1,    1,    1,    1,    1,    1,    1,\n",
              "            1,    1,    1,    1,    1,    1,    1,    1,    1,    1,    1,\n",
              "            1,    1,    1,    1,    1,    1,    1,    1,    1,    1,    1,\n",
              "            1,    1,    1], dtype=int32),\n",
              "  array(122, dtype=int32),\n",
              "  array([0, 0, 0, 0, 0, 0, 0, 0, 0, 0, 0, 0, 0, 0, 0, 0, 0, 0, 0, 0, 0, 0,\n",
              "         0, 0, 0, 0, 0, 0, 0, 0, 0, 0, 0, 0, 0, 0, 0, 0, 0, 0, 0, 0, 0, 0,\n",
              "         0, 0, 0, 0, 0, 0, 0, 0, 0, 0, 0, 0, 0, 0, 0, 0, 0, 0, 0, 0, 0, 0,\n",
              "         0, 0, 0, 0, 0, 0, 0, 0, 0, 0, 0, 0, 0, 0, 0, 0, 0, 0, 0, 0, 0, 0,\n",
              "         0, 0, 0, 0, 0, 0, 0, 0, 0, 0, 0, 0, 0, 0, 0, 0, 0, 0, 0, 0, 0, 0,\n",
              "         0, 0, 0, 0, 0, 0, 0, 0, 0, 0, 0, 0, 0, 0, 0, 0, 0, 0, 0, 0, 0, 0,\n",
              "         0, 0, 0, 0, 0, 0, 0, 0, 0, 0, 0, 0, 0, 0, 0, 0, 0, 0, 0, 0, 0, 0,\n",
              "         0, 0, 0, 0, 0, 0, 0, 0, 0, 0, 0, 0, 0, 0, 0, 0, 0, 0, 0, 0, 0, 0,\n",
              "         0, 0, 0, 0, 0, 0, 0, 0, 0, 0, 0, 0, 0, 0, 0, 0, 0, 0, 0, 0, 0, 0,\n",
              "         0, 0, 0, 0, 0, 0, 0, 0, 0, 0, 0, 0, 0, 0, 0, 0, 0, 0, 0, 0, 0, 0,\n",
              "         0, 0, 0, 0, 0, 0, 0, 0, 0, 0, 0, 0, 0, 0, 0, 0, 0, 0, 0, 0, 0, 0,\n",
              "         0, 0, 0, 0, 0, 0, 0, 0, 0, 0, 0, 0, 0, 0], dtype=int32),\n",
              "  1),\n",
              " (array([   2, 5111, 7095, 1713,  993, 7921, 4853, 6241, 7095, 3211,  606,\n",
              "          517, 5760, 3609, 6241, 3085, 7108, 3811, 4228, 5937, 3320, 1280,\n",
              "         7206, 3376, 6853, 3481, 6116, 4596, 6724, 3567,  993, 5512, 6416,\n",
              "         7641, 7788, 3867,  652,  307,  356, 6903, 1575, 1065, 5468, 3336,\n",
              "         3647, 5770, 6601, 7674, 5760, 4953, 6897, 3009, 3376, 6853, 2184,\n",
              "         2802, 3009, 3553, 6983, 1084, 2129, 4999, 7789, 3567, 4923, 4327,\n",
              "         5468,  979, 7088, 4130, 7843, 3009, 2184, 3376, 6853, 1071, 4898,\n",
              "         4948, 6497, 4953, 6897, 3009, 1071, 1289, 2184, 3376, 6853, 6896,\n",
              "         1682, 4327, 5468, 3759,  882, 5468, 7095, 1076, 6116, 4130, 7843,\n",
              "         1864, 3009, 3139, 5468, 2633, 2323, 1289, 2184, 5137, 3996, 3488,\n",
              "         2618, 7095, 1076, 6896, 1682, 2542, 7202, 3752, 6116, 4130, 7843,\n",
              "         2704, 6241, 7821, 1071, 4949, 7095, 3759, 3376, 6853,  517, 6930,\n",
              "         5760, 3006, 6036, 3758, 7436, 6983, 3225, 2687, 3938, 7794, 7318,\n",
              "         5051, 2633, 6903, 3609, 2767, 7095, 3628, 6116, 3336, 7843,  650,\n",
              "          389,  430,  399,  389,  655,  425,  441,  413,  452,  389,  707,\n",
              "          650,  422,  380,  371,  652,  389,  371,  444, 6983, 5073, 7815,\n",
              "          652,  307,  356, 5760, 4233, 2928, 6147, 6903, 4809, 5889,  873,\n",
              "          537,  835, 7095, 4158, 7095, 3376, 6853, 5330, 6116, 4130, 7840,\n",
              "         2833, 5330, 1698,  882, 7828, 3609, 2767, 7088, 4977, 2872, 3866,\n",
              "         2053, 3205, 7088,  839, 7848,  517, 6989, 6701, 1023, 7636, 5016,\n",
              "         1065, 3758,  714,  648,  389,  390,  410,  708,  699,  430,  420,\n",
              "          388,  517,  502,  517, 5760, 1864, 4953, 7096, 1233, 3009, 1034,\n",
              "         3553, 6983, 3948, 7202, 2868, 6896, 1682, 4054, 7206, 3752, 6116,\n",
              "          517, 6869,    3], dtype=int32),\n",
              "  array(256, dtype=int32),\n",
              "  array([0, 0, 0, 0, 0, 0, 0, 0, 0, 0, 0, 0, 0, 0, 0, 0, 0, 0, 0, 0, 0, 0,\n",
              "         0, 0, 0, 0, 0, 0, 0, 0, 0, 0, 0, 0, 0, 0, 0, 0, 0, 0, 0, 0, 0, 0,\n",
              "         0, 0, 0, 0, 0, 0, 0, 0, 0, 0, 0, 0, 0, 0, 0, 0, 0, 0, 0, 0, 0, 0,\n",
              "         0, 0, 0, 0, 0, 0, 0, 0, 0, 0, 0, 0, 0, 0, 0, 0, 0, 0, 0, 0, 0, 0,\n",
              "         0, 0, 0, 0, 0, 0, 0, 0, 0, 0, 0, 0, 0, 0, 0, 0, 0, 0, 0, 0, 0, 0,\n",
              "         0, 0, 0, 0, 0, 0, 0, 0, 0, 0, 0, 0, 0, 0, 0, 0, 0, 0, 0, 0, 0, 0,\n",
              "         0, 0, 0, 0, 0, 0, 0, 0, 0, 0, 0, 0, 0, 0, 0, 0, 0, 0, 0, 0, 0, 0,\n",
              "         0, 0, 0, 0, 0, 0, 0, 0, 0, 0, 0, 0, 0, 0, 0, 0, 0, 0, 0, 0, 0, 0,\n",
              "         0, 0, 0, 0, 0, 0, 0, 0, 0, 0, 0, 0, 0, 0, 0, 0, 0, 0, 0, 0, 0, 0,\n",
              "         0, 0, 0, 0, 0, 0, 0, 0, 0, 0, 0, 0, 0, 0, 0, 0, 0, 0, 0, 0, 0, 0,\n",
              "         0, 0, 0, 0, 0, 0, 0, 0, 0, 0, 0, 0, 0, 0, 0, 0, 0, 0, 0, 0, 0, 0,\n",
              "         0, 0, 0, 0, 0, 0, 0, 0, 0, 0, 0, 0, 0, 0], dtype=int32),\n",
              "  0))"
            ]
          },
          "metadata": {},
          "execution_count": 32
        }
      ]
    },
    {
      "cell_type": "code",
      "execution_count": null,
      "metadata": {
        "id": "39qbejn_-llS",
        "colab": {
          "base_uri": "https://localhost:8080/"
        },
        "outputId": "a29b17e7-e269-4edc-854a-a55ce061a450"
      },
      "outputs": [
        {
          "output_type": "stream",
          "name": "stderr",
          "text": [
            "/usr/local/lib/python3.7/dist-packages/torch/utils/data/dataloader.py:481: UserWarning: This DataLoader will create 4 worker processes in total. Our suggested max number of worker in current system is 2, which is smaller than what this DataLoader is going to create. Please be aware that excessive worker creation might get DataLoader running slow or even freeze, lower the worker number to avoid potential slowness/freeze if necessary.\n",
            "  cpuset_checked))\n"
          ]
        }
      ],
      "source": [
        "#dataset for torch , DataLoader사용해 모델에 input할 수 있는 형태로 \n",
        "train_dataloader = torch.utils.data.DataLoader(data_train, batch_size=batch_size, num_workers=4)\n",
        "test_dataloader = torch.utils.data.DataLoader(data_test, batch_size=batch_size, num_workers=4)"
      ]
    },
    {
      "cell_type": "markdown",
      "source": [
        "### padding 개수 확인해서 적절한 maxlen 설정하기"
      ],
      "metadata": {
        "id": "itlDEMdC_E1X"
      }
    },
    {
      "cell_type": "markdown",
      "source": [
        "문장별 패딩 토큰의 개수를 고려하여 적절한 max_length를 설정해주기 "
      ],
      "metadata": {
        "id": "krJCgVunvEyI"
      }
    },
    {
      "cell_type": "code",
      "source": [
        "print(\"max_len:\",max_len)\n",
        "\n",
        "b=[]\n",
        "for i in range(len(trainset)):\n",
        "  b.append(np.count_nonzero(data_train[i][0] == 1))\n",
        "\n",
        "print(len(b))\n",
        "\n",
        "# 평균 패딩 개수\n",
        "\n",
        "\n",
        "num_zero = b.count(0)\n",
        "\n",
        "for item in b:\n",
        "    if item == 0:\n",
        "        b.remove(0)\n",
        "without_zero = len(b)\n",
        "\n",
        "print(\"패딩 없는 요소 비율(max_len초과):\",num_zero / (num_zero+without_zero) * 100, \"%\")\n",
        "\n",
        "#평균 패딩\n",
        "\n",
        "print(\"패딩있는 요소 비율:\",len(b)/ (num_zero+len(b)) * 100, \"%\" )\n",
        "\n",
        "print(\"평균 패딩 개수(max_len초과하지 않은 요소들에 대해서만):\",sum(b)/len(b))"
      ],
      "metadata": {
        "colab": {
          "base_uri": "https://localhost:8080/"
        },
        "id": "i1Ha-H2_5Z0S",
        "outputId": "70c235f6-8b99-4fc4-ab21-f0eec2d5cbc2"
      },
      "execution_count": null,
      "outputs": [
        {
          "output_type": "stream",
          "name": "stdout",
          "text": [
            "max_len: 256\n",
            "12640\n",
            "패딩 없는 요소 비율(max_len초과): 12.834890965732088 %\n",
            "패딩있는 요소 비율: 87.16510903426791 %\n",
            "평균 패딩 개수(max_len초과하지 않은 요소들에 대해서만): 129.4386168691923\n"
          ]
        }
      ]
    },
    {
      "cell_type": "markdown",
      "source": [
        "### Model Training"
      ],
      "metadata": {
        "id": "0RDaFgycYrTU"
      }
    },
    {
      "cell_type": "code",
      "execution_count": null,
      "metadata": {
        "id": "29UhLgSh-ljU"
      },
      "outputs": [],
      "source": [
        "#BERT classifier\n",
        "class BERTClassifier(nn.Module):\n",
        "    def __init__(self,\n",
        "                 bert,\n",
        "                 hidden_size = 768,\n",
        "                 num_classes=5,   ##클래스 수 조정##\n",
        "                 dr_rate=None,\n",
        "                 params=None):\n",
        "        super(BERTClassifier, self).__init__()\n",
        "        self.bert = bert\n",
        "        self.dr_rate = dr_rate\n",
        "                 \n",
        "        self.classifier = nn.Linear(hidden_size , num_classes)\n",
        "        if dr_rate:\n",
        "            self.dropout = nn.Dropout(p=dr_rate)\n",
        "    \n",
        "    def gen_attention_mask(self, token_ids, valid_length):\n",
        "        attention_mask = torch.zeros_like(token_ids)\n",
        "        for i, v in enumerate(valid_length):\n",
        "            attention_mask[i][:v] = 1\n",
        "        return attention_mask.float()\n",
        "\n",
        "    def forward(self, token_ids, valid_length, segment_ids):\n",
        "        attention_mask = self.gen_attention_mask(token_ids, valid_length)\n",
        "        \n",
        "        _, pooler = self.bert(input_ids = token_ids, token_type_ids = segment_ids.long(), attention_mask = attention_mask.float().to(token_ids.device))\n",
        "        if self.dr_rate:\n",
        "            out = self.dropout(pooler)\n",
        "        return self.classifier(out)"
      ]
    },
    {
      "cell_type": "code",
      "execution_count": null,
      "metadata": {
        "id": "YAoPXqUF-lg1",
        "colab": {
          "base_uri": "https://localhost:8080/"
        },
        "outputId": "62c0aa2c-19f9-4cef-86fd-3eb4a1bdfe8d"
      },
      "outputs": [
        {
          "output_type": "execute_result",
          "data": {
            "text/plain": [
              "<torch.utils.data.dataloader.DataLoader at 0x7eff55935910>"
            ]
          },
          "metadata": {},
          "execution_count": 31
        }
      ],
      "source": [
        "#loading BERT model\n",
        "model = BERTClassifier(bertmodel,  dr_rate=0.5).to(device)\n",
        "\n",
        "\n",
        "\n",
        "#optimizer / schedule\n",
        "no_decay = ['bias', 'LayerNorm.weight']\n",
        "optimizer_grouped_parameters = [\n",
        "    {'params': [p for n, p in model.named_parameters() if not any(nd in n for nd in no_decay)], 'weight_decay': 0.01},\n",
        "    {'params': [p for n, p in model.named_parameters() if any(nd in n for nd in no_decay)], 'weight_decay': 0.0}\n",
        "]\n",
        "\n",
        "optimizer = AdamW(optimizer_grouped_parameters, lr=learning_rate)\n",
        "loss_fn = nn.CrossEntropyLoss()\n",
        "\n",
        "#multi-label 분류일경우\n",
        "#loss_fn = nn.MultiLabelSoftMarginLoss()\n",
        "\n",
        "t_total = len(train_dataloader) * num_epochs\n",
        "warmup_step = int(t_total * warmup_ratio)\n",
        "\n",
        "scheduler = get_cosine_schedule_with_warmup(optimizer, num_warmup_steps=warmup_step, num_training_steps=t_total)\n",
        "\n",
        "#calculate accuracy\n",
        "def calc_accuracy(X,Y):\n",
        "    max_vals, max_indices = torch.max(X, 1)\n",
        "    train_acc = (max_indices == Y).sum().data.cpu().numpy()/max_indices.size()[0]\n",
        "    return train_acc\n",
        "    \n",
        "train_dataloader"
      ]
    },
    {
      "cell_type": "code",
      "source": [
        "#for plotting\n",
        "train_accuracy = []\n",
        "loss_ = []\n",
        "test_accuracy = []"
      ],
      "metadata": {
        "id": "HmP1skUeVt98"
      },
      "execution_count": null,
      "outputs": []
    },
    {
      "cell_type": "code",
      "source": [
        "import torch, gc\n",
        "gc.collect()\n",
        "torch.cuda.empty_cache()"
      ],
      "metadata": {
        "id": "fSE1BPtfer6I"
      },
      "execution_count": null,
      "outputs": []
    },
    {
      "cell_type": "code",
      "execution_count": null,
      "metadata": {
        "id": "YTmdAdaK-lfW",
        "colab": {
          "base_uri": "https://localhost:8080/"
        },
        "outputId": "b8018f3d-edce-4620-917d-5d41d4adc139"
      },
      "outputs": [
        {
          "output_type": "stream",
          "name": "stderr",
          "text": [
            "  0%|          | 1/790 [00:00<07:44,  1.70it/s]"
          ]
        },
        {
          "output_type": "stream",
          "name": "stdout",
          "text": [
            "epoch 1 batch id 1 loss 0.006320289336144924 train acc 1.0\n"
          ]
        },
        {
          "output_type": "stream",
          "name": "stderr",
          "text": [
            " 25%|██▌       | 201/790 [01:22<04:01,  2.44it/s]"
          ]
        },
        {
          "output_type": "stream",
          "name": "stdout",
          "text": [
            "epoch 1 batch id 201 loss 0.0059454236179590225 train acc 0.9732587064676617\n"
          ]
        },
        {
          "output_type": "stream",
          "name": "stderr",
          "text": [
            " 51%|█████     | 401/790 [02:44<02:39,  2.43it/s]"
          ]
        },
        {
          "output_type": "stream",
          "name": "stdout",
          "text": [
            "epoch 1 batch id 401 loss 0.009018506854772568 train acc 0.9728802992518704\n"
          ]
        },
        {
          "output_type": "stream",
          "name": "stderr",
          "text": [
            " 76%|███████▌  | 601/790 [04:07<01:17,  2.43it/s]"
          ]
        },
        {
          "output_type": "stream",
          "name": "stdout",
          "text": [
            "epoch 1 batch id 601 loss 0.015293962322175503 train acc 0.9716098169717138\n"
          ]
        },
        {
          "output_type": "stream",
          "name": "stderr",
          "text": [
            "100%|██████████| 790/790 [05:24<00:00,  2.43it/s]\n"
          ]
        },
        {
          "output_type": "stream",
          "name": "stdout",
          "text": [
            "epoch 1 train acc 0.9719936708860759\n"
          ]
        },
        {
          "output_type": "stream",
          "name": "stderr",
          "text": [
            "100%|██████████| 47/47 [00:06<00:00,  7.02it/s]\n"
          ]
        },
        {
          "output_type": "stream",
          "name": "stdout",
          "text": [
            "epoch 1 test acc 0.7752659574468085\n"
          ]
        },
        {
          "output_type": "stream",
          "name": "stderr",
          "text": [
            "  0%|          | 1/790 [00:00<07:23,  1.78it/s]"
          ]
        },
        {
          "output_type": "stream",
          "name": "stdout",
          "text": [
            "epoch 2 batch id 1 loss 0.007155444473028183 train acc 1.0\n"
          ]
        },
        {
          "output_type": "stream",
          "name": "stderr",
          "text": [
            " 25%|██▌       | 201/790 [01:22<04:02,  2.43it/s]"
          ]
        },
        {
          "output_type": "stream",
          "name": "stdout",
          "text": [
            "epoch 2 batch id 201 loss 0.0037798660341650248 train acc 0.9704601990049752\n"
          ]
        },
        {
          "output_type": "stream",
          "name": "stderr",
          "text": [
            " 51%|█████     | 401/790 [02:44<02:39,  2.44it/s]"
          ]
        },
        {
          "output_type": "stream",
          "name": "stdout",
          "text": [
            "epoch 2 batch id 401 loss 0.021239900961518288 train acc 0.9716334164588528\n"
          ]
        },
        {
          "output_type": "stream",
          "name": "stderr",
          "text": [
            " 76%|███████▌  | 601/790 [04:06<01:17,  2.43it/s]"
          ]
        },
        {
          "output_type": "stream",
          "name": "stdout",
          "text": [
            "epoch 2 batch id 601 loss 0.007300614379346371 train acc 0.9708818635607321\n"
          ]
        },
        {
          "output_type": "stream",
          "name": "stderr",
          "text": [
            "100%|██████████| 790/790 [05:24<00:00,  2.43it/s]\n"
          ]
        },
        {
          "output_type": "stream",
          "name": "stdout",
          "text": [
            "epoch 2 train acc 0.971123417721519\n"
          ]
        },
        {
          "output_type": "stream",
          "name": "stderr",
          "text": [
            "100%|██████████| 47/47 [00:06<00:00,  7.01it/s]"
          ]
        },
        {
          "output_type": "stream",
          "name": "stdout",
          "text": [
            "epoch 2 test acc 0.7741261398176291\n"
          ]
        },
        {
          "output_type": "stream",
          "name": "stderr",
          "text": [
            "\n"
          ]
        }
      ],
      "source": [
        "#train KoBERT\n",
        "for e in range(num_epochs):\n",
        "    train_acc = 0.0\n",
        "    test_acc = 0.0\n",
        "    model.train()\n",
        "    for batch_id, (token_ids, valid_length, segment_ids, label) in enumerate(tqdm(train_dataloader)):\n",
        "        optimizer.zero_grad()\n",
        "        token_ids = token_ids.long().to(device)\n",
        "        segment_ids = segment_ids.long().to(device)\n",
        "        valid_length= valid_length\n",
        "        label = label.long().to(device) \n",
        "        out = model(token_ids, valid_length, segment_ids)\n",
        "        loss = loss_fn(out, label)\n",
        "        loss.backward()\n",
        "        torch.nn.utils.clip_grad_norm_(model.parameters(), max_grad_norm)\n",
        "        optimizer.step()\n",
        "        scheduler.step()  # Update learning rate schedule\n",
        "        train_acc += calc_accuracy(out, label)\n",
        "        if batch_id % log_interval == 0:\n",
        "            print(\"epoch {} batch id {} loss {} train acc {}\".format(e+1, batch_id+1, loss.data.cpu().numpy(), train_acc / (batch_id+1)))\n",
        "    train_accuracy.append(train_acc / (batch_id+1))\n",
        "    loss_.append(loss.data.cpu().numpy().item())\n",
        "    print(\"epoch {} train acc {}\".format(e+1, train_acc / (batch_id+1)))\n",
        "    \n",
        "    model.eval()\n",
        "    for batch_id, (token_ids, valid_length, segment_ids, label) in enumerate(tqdm(test_dataloader)):\n",
        "        token_ids = token_ids.long().to(device)\n",
        "        segment_ids = segment_ids.long().to(device)\n",
        "        valid_length= valid_length\n",
        "        label = label.long().to(device)\n",
        "\n",
        "        out = model(token_ids, valid_length, segment_ids)\n",
        "        test_acc += calc_accuracy(out, label)\n",
        "    test_accuracy.append(test_acc / (batch_id+1))\n",
        "    print(\"epoch {} test acc {}\".format(e+1, test_acc / (batch_id+1)))\n"
      ]
    },
    {
      "cell_type": "markdown",
      "source": [
        "### 모델저장 / 저장된 모델 불러오기 "
      ],
      "metadata": {
        "id": "M8KMR80yYcGF"
      }
    },
    {
      "cell_type": "code",
      "execution_count": null,
      "metadata": {
        "id": "X-RlPaHsWI8p"
      },
      "outputs": [],
      "source": [
        "#모델 저장하기 \n",
        "# torch.save(model,'/content/drive/MyDrive/ESGBERT/new_label_77.pt')"
      ]
    },
    {
      "cell_type": "code",
      "source": [
        "#저장된 모델 가져오기\n",
        "# model = torch.load('/content/drive/MyDrive/ESGBERT/모델 저장/model_77_maxlen256_batch32.pt')"
      ],
      "metadata": {
        "id": "kwzOkZgEEkQf"
      },
      "execution_count": null,
      "outputs": []
    },
    {
      "cell_type": "markdown",
      "source": [
        "### Plotting accuracy & loss"
      ],
      "metadata": {
        "id": "STrT6yIvYXYS"
      }
    },
    {
      "cell_type": "code",
      "source": [
        "import matplotlib.pyplot as plt\n",
        "\n",
        "plt.plot(train_accuracy,'-o')\n",
        "plt.plot(test_accuracy,'-o')\n",
        "plt.xlabel('epoch')\n",
        "plt.ylabel('accuracy')\n",
        "plt.legend(['Train','Test'])\n",
        "plt.title('Train vs Test')\n",
        " \n",
        "plt.show()"
      ],
      "metadata": {
        "id": "0febDVtDV1V-",
        "colab": {
          "base_uri": "https://localhost:8080/",
          "height": 295
        },
        "outputId": "708226cf-2611-4dff-ee69-156a1ac454f3"
      },
      "execution_count": null,
      "outputs": [
        {
          "output_type": "display_data",
          "data": {
            "text/plain": [
              "<Figure size 432x288 with 1 Axes>"
            ],
            "image/png": "[encoded data removed]"
          },
          "metadata": {
            "needs_background": "light"
          }
        }
      ]
    },
    {
      "cell_type": "code",
      "source": [
        "plt.plot(loss_,'-o')\n",
        "plt.xlabel('epoch')\n",
        "plt.ylabel('losses')\n",
        "plt.title('Train Losses')\n",
        " \n",
        "plt.show()"
      ],
      "metadata": {
        "id": "FN2Z-tBfV4SV",
        "colab": {
          "base_uri": "https://localhost:8080/",
          "height": 295
        },
        "outputId": "b327c715-8da0-4f0d-b209-61d757f9655a"
      },
      "execution_count": null,
      "outputs": [
        {
          "output_type": "display_data",
          "data": {
            "text/plain": [
              "<Figure size 432x288 with 1 Axes>"
            ],
            "image/png": "[encoded data removed]"
          },
          "metadata": {
            "needs_background": "light"
          }
        }
      ]
    },
    {
      "cell_type": "markdown",
      "source": [
        "### 새로운 인풋 예측 함수 "
      ],
      "metadata": {
        "id": "MTEcJJ124nyu"
      }
    },
    {
      "cell_type": "markdown",
      "source": [
        "predict 함수 정의해서 학습된 모델의 새로운 인풋에 대한 예측값을 나타내기 "
      ],
      "metadata": {
        "id": "ulRM8R_oviGd"
      }
    },
    {
      "cell_type": "code",
      "execution_count": null,
      "metadata": {
        "id": "VL6mHBza-lYP",
        "colab": {
          "base_uri": "https://localhost:8080/"
        },
        "outputId": "9789ac4f-3649-4a3b-b6e0-d2531085f97b"
      },
      "outputs": [
        {
          "output_type": "stream",
          "name": "stdout",
          "text": [
            "using cached model. /content/.cache/kobert_news_wiki_ko_cased-1087f8699e.spiece\n"
          ]
        }
      ],
      "source": [
        "# 새로운 인풋 테스트\n",
        "tokenizer = get_tokenizer()\n",
        "tok = nlp.data.BERTSPTokenizer(tokenizer, vocab, lower=False)\n",
        "\n",
        "def predict(predict_sentence):\n",
        "\n",
        "    data = [predict_sentence, '0']\n",
        "    dataset_another = [data]\n",
        "\n",
        "    another_test = BERTDataset(dataset_another, 0, 1, tok, max_len, True, False)\n",
        "    test_dataloader = torch.utils.data.DataLoader(another_test, batch_size=batch_size, num_workers=5)\n",
        "    \n",
        "    model.eval()\n",
        "\n",
        "    for batch_id, (token_ids, valid_length, segment_ids, label) in enumerate(test_dataloader):\n",
        "        token_ids = token_ids.long().to(device)\n",
        "        segment_ids = segment_ids.long().to(device)\n",
        "\n",
        "        valid_length= valid_length\n",
        "        label = label.long().to(device)\n",
        "\n",
        "        out = model(token_ids, valid_length, segment_ids)\n",
        "\n",
        "\n",
        "        test_eval=[]\n",
        "        for i in out:\n",
        "            logits=i\n",
        "            logits = logits.detach().cpu().numpy()\n",
        "\n",
        "            if np.argmax(logits) == 0:\n",
        "                test_eval.append(\"1\")\n",
        "            elif np.argmax(logits) == 1:\n",
        "                test_eval.append(\"2\")\n",
        "            elif np.argmax(logits) == 2:\n",
        "                test_eval.append(\"3\")\n",
        "            elif np.argmax(logits) == 3:\n",
        "                test_eval.append(\"4\")\n",
        "            elif np.argmax(logits) == 4:\n",
        "                test_eval.append(\"5\")\n",
        "\n",
        "\n",
        "\n",
        "\n",
        "\n",
        "\n",
        "        return test_eval[0]"
      ]
    },
    {
      "cell_type": "code",
      "source": [
        "# logit값 뱉는 함수 설정 \n",
        "\n",
        "tokenizer = get_tokenizer()\n",
        "tok = nlp.data.BERTSPTokenizer(tokenizer, vocab, lower=False)\n",
        "\n",
        "def logits(predict_sentence):\n",
        "\n",
        "    data = [predict_sentence, '0']\n",
        "    dataset_another = [data]\n",
        "\n",
        "    another_test = BERTDataset(dataset_another, 0, 1, tok, max_len, True, False)\n",
        "    test_dataloader = torch.utils.data.DataLoader(another_test, batch_size=batch_size, num_workers=5)\n",
        "    \n",
        "    model.eval()\n",
        "\n",
        "    for batch_id, (token_ids, valid_length, segment_ids, label) in enumerate(test_dataloader):\n",
        "        token_ids = token_ids.long().to(device)\n",
        "        segment_ids = segment_ids.long().to(device)\n",
        "\n",
        "        valid_length= valid_length\n",
        "        label = label.long().to(device)\n",
        "\n",
        "        out = model(token_ids, valid_length, segment_ids)\n",
        "\n",
        "        test_eval=[]\n",
        "        for i in out:\n",
        "            logits=i\n",
        "            logits = logits.detach().cpu().numpy()\n",
        "        \n",
        "        return logits"
      ],
      "metadata": {
        "colab": {
          "base_uri": "https://localhost:8080/"
        },
        "id": "pTwv1lGGnaul",
        "outputId": "b5561618-10de-41d6-9f0b-02ce61601640"
      },
      "execution_count": null,
      "outputs": [
        {
          "output_type": "stream",
          "name": "stdout",
          "text": [
            "using cached model. /content/.cache/kobert_news_wiki_ko_cased-1087f8699e.spiece\n"
          ]
        }
      ]
    },
    {
      "cell_type": "code",
      "source": [
        "# sigmoid값 뱉는 함수 설정 \n",
        "import math\n",
        "\n",
        "def sigmoid(x):\n",
        "    sig = 1 / (1 + math.exp(-x))\n",
        "    return sig\n",
        "\n",
        "tokenizer = get_tokenizer()\n",
        "tok = nlp.data.BERTSPTokenizer(tokenizer, vocab, lower=False)\n",
        "\n",
        "def logits(predict_sentence):\n",
        "\n",
        "    data = [predict_sentence, '0']\n",
        "    dataset_another = [data]\n",
        "\n",
        "    another_test = BERTDataset(dataset_another, 0, 1, tok, max_len, True, False)\n",
        "    test_dataloader = torch.utils.data.DataLoader(another_test, batch_size=batch_size, num_workers=5)\n",
        "    \n",
        "    model.eval()\n",
        "\n",
        "    for batch_id, (token_ids, valid_length, segment_ids, label) in enumerate(test_dataloader):\n",
        "        token_ids = token_ids.long().to(device)\n",
        "        segment_ids = segment_ids.long().to(device)\n",
        "\n",
        "        valid_length= valid_length\n",
        "        label = label.long().to(device)\n",
        "\n",
        "        out = model(token_ids, valid_length, segment_ids)\n",
        "\n",
        "        test_eval=[]\n",
        "        for i in out:\n",
        "            logits=i\n",
        "            logits = logits.detach().cpu().numpy()\n",
        "        s = []\n",
        "        for i in logits:\n",
        "            sig = sigmoid(i)\n",
        "            s.append(sig)\n",
        "        return s"
      ],
      "metadata": {
        "colab": {
          "base_uri": "https://localhost:8080/"
        },
        "id": "4lLo3mlP_4ZW",
        "outputId": "20eec64e-a771-4eac-c34f-bb1cff660294"
      },
      "execution_count": null,
      "outputs": [
        {
          "output_type": "stream",
          "name": "stdout",
          "text": [
            "using cached model. /content/.cache/kobert_news_wiki_ko_cased-1087f8699e.spiece\n"
          ]
        }
      ]
    },
    {
      "cell_type": "markdown",
      "source": [
        "### 기존 학습데이터 우리가 학습시킨 모델로 멀티라벨 해주기"
      ],
      "metadata": {
        "id": "Glig0fxdxvxY"
      }
    },
    {
      "cell_type": "code",
      "source": [
        "#저장된 모델 가져오기\n",
        "# model = torch.load('/content/drive/MyDrive/ESGBERT/model_79.pt')\n",
        "\n",
        "# 테스트데이터 리스트로 바꿔주기\n",
        "original = df['영한_재번역'].to_list()\n",
        "print(original[0])\n",
        "\n",
        "# 테스트데이터 정답\n",
        "answer = df['new_label'].to_list()\n",
        "print(answer[0])"
      ],
      "metadata": {
        "colab": {
          "base_uri": "https://localhost:8080/"
        },
        "id": "lLuoWBd9x2nA",
        "outputId": "3769c6f2-03d5-4824-e450-4125ceb5ee43"
      },
      "execution_count": null,
      "outputs": [
        {
          "output_type": "stream",
          "name": "stdout",
          "text": [
            "Vostanis의 연구 (심리학) 교수는 특히 저소득 국가에 중점을 둔 아동 정신 건강에 대한 외상의 영향에 중점을 둡니다\n",
            "0\n"
          ]
        }
      ]
    },
    {
      "cell_type": "code",
      "source": [
        "# 학습데이터 예측과 로짓값 출력 \n",
        "pred_og=[]\n",
        "sig=[]\n",
        "for i in tqdm(original[3500:4500]):\n",
        "  pred_og.append(predict(i))\n",
        "  sig.append(logits(i))\n"
      ],
      "metadata": {
        "colab": {
          "base_uri": "https://localhost:8080/"
        },
        "id": "A8WTQzLdyYut",
        "outputId": "d19a79cc-360f-49f5-ec48-78eff51a3489"
      },
      "execution_count": null,
      "outputs": [
        {
          "output_type": "stream",
          "name": "stderr",
          "text": [
            "\r  0%|          | 0/1000 [00:00<?, ?it/s]/usr/local/lib/python3.7/dist-packages/torch/utils/data/dataloader.py:481: UserWarning: This DataLoader will create 5 worker processes in total. Our suggested max number of worker in current system is 4, which is smaller than what this DataLoader is going to create. Please be aware that excessive worker creation might get DataLoader running slow or even freeze, lower the worker number to avoid potential slowness/freeze if necessary.\n",
            "  cpuset_checked))\n",
            "100%|██████████| 1000/1000 [12:41<00:00,  1.31it/s]\n"
          ]
        }
      ]
    },
    {
      "cell_type": "code",
      "source": [
        "print(sig[0])"
      ],
      "metadata": {
        "colab": {
          "base_uri": "https://localhost:8080/"
        },
        "id": "byRYDCK8DRyi",
        "outputId": "73ab8895-9f82-4e69-f905-4dc1c35c9521"
      },
      "execution_count": null,
      "outputs": [
        {
          "output_type": "stream",
          "name": "stdout",
          "text": [
            "[0.4452904653209439, 0.1935938236179643, 0.9928299576702263, 0.2077267010328128, 0.12206395079777368]\n"
          ]
        }
      ]
    },
    {
      "cell_type": "code",
      "source": [
        "pred_og=[]\n",
        "sig2=[]\n",
        "for i in tqdm(original[4500:5500]):\n",
        "  pred_og.append(predict(i))\n",
        "  sig2.append(logits(i))"
      ],
      "metadata": {
        "colab": {
          "base_uri": "https://localhost:8080/"
        },
        "id": "sT577NOqLT2v",
        "outputId": "410f7766-bf01-49b3-9ee8-9a74bceef5dc"
      },
      "execution_count": null,
      "outputs": [
        {
          "output_type": "stream",
          "name": "stderr",
          "text": [
            "100%|██████████| 1000/1000 [13:48<00:00,  1.21it/s]\n"
          ]
        }
      ]
    },
    {
      "cell_type": "code",
      "source": [
        "pred_og=[]\n",
        "sig3=[]\n",
        "for i in tqdm(original[5500:]):\n",
        "  pred_og.append(predict(i))\n",
        "  sig3.append(logits(i))"
      ],
      "metadata": {
        "colab": {
          "base_uri": "https://localhost:8080/"
        },
        "id": "O1ljrHc8LzSh",
        "outputId": "8334d795-e0c0-4d81-e68e-0ba00e3e407b"
      },
      "execution_count": null,
      "outputs": [
        {
          "output_type": "stream",
          "name": "stderr",
          "text": [
            "\r  0%|          | 0/1329 [00:00<?, ?it/s]/usr/local/lib/python3.7/dist-packages/torch/utils/data/dataloader.py:481: UserWarning: This DataLoader will create 5 worker processes in total. Our suggested max number of worker in current system is 4, which is smaller than what this DataLoader is going to create. Please be aware that excessive worker creation might get DataLoader running slow or even freeze, lower the worker number to avoid potential slowness/freeze if necessary.\n",
            "  cpuset_checked))\n",
            "100%|██████████| 1329/1329 [21:29<00:00,  1.03it/s]\n"
          ]
        }
      ]
    },
    {
      "cell_type": "code",
      "source": [
        "sig = sig + sig2 + sig3"
      ],
      "metadata": {
        "id": "1kXAXnghKWqe"
      },
      "execution_count": null,
      "outputs": []
    },
    {
      "cell_type": "code",
      "source": [
        "# 정답을 알고있는 문제임에도 sigmoid값이 90이상인게 존재한다면 그건 중복라벨로 볼 수 있다는 가정\n",
        "\n",
        "# 리스트내에 두번째 큰값 찾기 함수 정의 \n",
        "def kth_largest_number(arr, K):\n",
        "    unique_nums = set(arr)\n",
        "    sorted_nums = sorted(unique_nums, reverse=True)\n",
        "    return sorted_nums[K-1]\n",
        "\n",
        "\n",
        "# 두번째 큰값의 라벨번호 찾기 함수\n",
        "# def label_number\n",
        "\n",
        "\n",
        "kth_largest_number(sig[2],2)"
      ],
      "metadata": {
        "colab": {
          "base_uri": "https://localhost:8080/"
        },
        "id": "KhcqKa5XFYay",
        "outputId": "5c904b4d-f78d-463a-9a42-58dc34c8b431"
      },
      "execution_count": null,
      "outputs": [
        {
          "output_type": "execute_result",
          "data": {
            "text/plain": [
              "0.2768279724382876"
            ]
          },
          "metadata": {},
          "execution_count": 38
        }
      ]
    },
    {
      "cell_type": "code",
      "source": [
        "# 라벨정보를 가진 쌍리스트 생성\n",
        "import tqdm\n",
        "\n",
        "\n",
        "index_id = []\n",
        "over_09 = []\n",
        "for i in range(len(sig)):\n",
        "  for j in range(5):\n",
        "    if sig[i][j] >= 0.7: # 0.9가 넘는다면, \n",
        "      if sig[i][j] == kth_largest_number(sig[i],2): # 만약 0.9넘는값이 sig[i]중 두번째로 큰 값이라면 \n",
        "        index_id.append(i) #인덱스 번호 들ㅇ어있는 리스트 \n",
        "        over_09.append(j) # 라벨번호 들어있는 리스트 \n",
        "\n"
      ],
      "metadata": {
        "id": "y6IxN_3w7iv6"
      },
      "execution_count": null,
      "outputs": []
    },
    {
      "cell_type": "code",
      "source": [
        "# print(\"인덱스번호:\",index_id)\n",
        "# print(\"중복라벨번호:\",over_09)\n",
        "\n",
        "\n",
        "\n",
        "# 0번인덱스에 가능한 중복라벨 0번 / 1번인덱스 로우에 가능한 중복라벨 4번 \n",
        "\n",
        "# 길이확인\n",
        "print(len(index_id))\n",
        "print(len(over_09))"
      ],
      "metadata": {
        "colab": {
          "base_uri": "https://localhost:8080/"
        },
        "id": "peIS9xFx9OxN",
        "outputId": "e1662584-b0b2-4711-f31f-7c5f35697895"
      },
      "execution_count": null,
      "outputs": [
        {
          "output_type": "stream",
          "name": "stdout",
          "text": [
            "325\n",
            "325\n"
          ]
        }
      ]
    },
    {
      "cell_type": "code",
      "source": [
        "#인덱스 번호에 해당하는 orginal data 불러오기\n",
        "\n",
        "multi_data = []\n",
        "for i in index_id:\n",
        "  multi_data.append(original[i])\n",
        "\n",
        "# multi data = index에 해당하는 로우의 텍스트 데이터 "
      ],
      "metadata": {
        "id": "Dnqi4eia_02c"
      },
      "execution_count": null,
      "outputs": []
    },
    {
      "cell_type": "code",
      "source": [
        "# 해당 텍스트와 중복라벨을 매핑한 데이터프레임 만들기 \n",
        "df_multi_label = pd.DataFrame((zip(multi_data, over_09)), columns = ['멀티데이터', '멀티라벨'])\n",
        "df_multi_label = df_multi_label.drop_duplicates()\n",
        "df_multi_label"
      ],
      "metadata": {
        "colab": {
          "base_uri": "https://localhost:8080/",
          "height": 424
        },
        "id": "umDexab-_sa1",
        "outputId": "86825895-e60b-4655-9d52-e8708afde3c4"
      },
      "execution_count": null,
      "outputs": [
        {
          "output_type": "execute_result",
          "data": {
            "text/plain": [
              "                                                 멀티데이터  멀티라벨\n",
              "0    Harjinder Sembhi 박사와 Darren Ghent 박사는 Earthlin...     0\n",
              "1    연구 내에서‘탄력성 목회주의   랭 랜드의 지속 가능한 미래를 향해’이 대학은 케냐...     0\n",
              "2    우리는 Stonewall의 Workplace Equality Index에서 100 ...     2\n",
              "3    폐기물 관리에 대한 폐기물 접근 방식은 순환 경제 전망에 의해 뒷받침됩니다 이는 폐...     2\n",
              "4    Nastro Verde의 첫 번째 판은 2019 년에 개최되었으며 전체 대학 공동체...     1\n",
              "..                                                 ...   ...\n",
              "320  미래의 소비자 중심 에너지 세계에서 소비자는 더 이상 전력선의 끝에 있지 않을 것입...     1\n",
              "321  Carrillo-Tudela 교수와 Essex와 Edinburgh Universit...     1\n",
              "322  이를 통해 그들은 실업 및 불평등 계산기를 개발하여 공무원과 다른 사람들이 제안 된...     2\n",
              "323  2016 년과 2019 년 1 월 사이 에이 프로그램은 2 백만 개가 넘는 저소득 ...     2\n",
              "324  전세계 농업 시스템은 생물 다양성과 생태계에 주요 피해를 입은 주요 원천이되었으며 ...     2\n",
              "\n",
              "[325 rows x 2 columns]"
            ],
            "text/html": [
              "\n",
              "  <div id=\"df-8dc4b057-ebfe-41c8-a98d-74954d5c3d42\">\n",
              "    <div class=\"colab-df-container\">\n",
              "      <div>\n",
              "<style scoped>\n",
              "    .dataframe tbody tr th:only-of-type {\n",
              "        vertical-align: middle;\n",
              "    }\n",
              "\n",
              "    .dataframe tbody tr th {\n",
              "        vertical-align: top;\n",
              "    }\n",
              "\n",
              "    .dataframe thead th {\n",
              "        text-align: right;\n",
              "    }\n",
              "</style>\n",
              "<table border=\"1\" class=\"dataframe\">\n",
              "  <thead>\n",
              "    <tr style=\"text-align: right;\">\n",
              "      <th></th>\n",
              "      <th>멀티데이터</th>\n",
              "      <th>멀티라벨</th>\n",
              "    </tr>\n",
              "  </thead>\n",
              "  <tbody>\n",
              "    <tr>\n",
              "      <th>0</th>\n",
              "      <td>Harjinder Sembhi 박사와 Darren Ghent 박사는 Earthlin...</td>\n",
              "      <td>0</td>\n",
              "    </tr>\n",
              "    <tr>\n",
              "      <th>1</th>\n",
              "      <td>연구 내에서‘탄력성 목회주의   랭 랜드의 지속 가능한 미래를 향해’이 대학은 케냐...</td>\n",
              "      <td>0</td>\n",
              "    </tr>\n",
              "    <tr>\n",
              "      <th>2</th>\n",
              "      <td>우리는 Stonewall의 Workplace Equality Index에서 100 ...</td>\n",
              "      <td>2</td>\n",
              "    </tr>\n",
              "    <tr>\n",
              "      <th>3</th>\n",
              "      <td>폐기물 관리에 대한 폐기물 접근 방식은 순환 경제 전망에 의해 뒷받침됩니다 이는 폐...</td>\n",
              "      <td>2</td>\n",
              "    </tr>\n",
              "    <tr>\n",
              "      <th>4</th>\n",
              "      <td>Nastro Verde의 첫 번째 판은 2019 년에 개최되었으며 전체 대학 공동체...</td>\n",
              "      <td>1</td>\n",
              "    </tr>\n",
              "    <tr>\n",
              "      <th>...</th>\n",
              "      <td>...</td>\n",
              "      <td>...</td>\n",
              "    </tr>\n",
              "    <tr>\n",
              "      <th>320</th>\n",
              "      <td>미래의 소비자 중심 에너지 세계에서 소비자는 더 이상 전력선의 끝에 있지 않을 것입...</td>\n",
              "      <td>1</td>\n",
              "    </tr>\n",
              "    <tr>\n",
              "      <th>321</th>\n",
              "      <td>Carrillo-Tudela 교수와 Essex와 Edinburgh Universit...</td>\n",
              "      <td>1</td>\n",
              "    </tr>\n",
              "    <tr>\n",
              "      <th>322</th>\n",
              "      <td>이를 통해 그들은 실업 및 불평등 계산기를 개발하여 공무원과 다른 사람들이 제안 된...</td>\n",
              "      <td>2</td>\n",
              "    </tr>\n",
              "    <tr>\n",
              "      <th>323</th>\n",
              "      <td>2016 년과 2019 년 1 월 사이 에이 프로그램은 2 백만 개가 넘는 저소득 ...</td>\n",
              "      <td>2</td>\n",
              "    </tr>\n",
              "    <tr>\n",
              "      <th>324</th>\n",
              "      <td>전세계 농업 시스템은 생물 다양성과 생태계에 주요 피해를 입은 주요 원천이되었으며 ...</td>\n",
              "      <td>2</td>\n",
              "    </tr>\n",
              "  </tbody>\n",
              "</table>\n",
              "<p>325 rows × 2 columns</p>\n",
              "</div>\n",
              "      <button class=\"colab-df-convert\" onclick=\"convertToInteractive('df-8dc4b057-ebfe-41c8-a98d-74954d5c3d42')\"\n",
              "              title=\"Convert this dataframe to an interactive table.\"\n",
              "              style=\"display:none;\">\n",
              "        \n",
              "  <svg xmlns=\"http://www.w3.org/2000/svg\" height=\"24px\"viewBox=\"0 0 24 24\"\n",
              "       width=\"24px\">\n",
              "    <path d=\"M0 0h24v24H0V0z\" fill=\"none\"/>\n",
              "    <path d=\"M18.56 5.44l.94 2.06.94-2.06 2.06-.94-2.06-.94-.94-2.06-.94 2.06-2.06.94zm-11 1L8.5 8.5l.94-2.06 2.06-.94-2.06-.94L8.5 2.5l-.94 2.06-2.06.94zm10 10l.94 2.06.94-2.06 2.06-.94-2.06-.94-.94-2.06-.94 2.06-2.06.94z\"/><path d=\"M17.41 7.96l-1.37-1.37c-.4-.4-.92-.59-1.43-.59-.52 0-1.04.2-1.43.59L10.3 9.45l-7.72 7.72c-.78.78-.78 2.05 0 2.83L4 21.41c.39.39.9.59 1.41.59.51 0 1.02-.2 1.41-.59l7.78-7.78 2.81-2.81c.8-.78.8-2.07 0-2.86zM5.41 20L4 18.59l7.72-7.72 1.47 1.35L5.41 20z\"/>\n",
              "  </svg>\n",
              "      </button>\n",
              "      \n",
              "  <style>\n",
              "    .colab-df-container {\n",
              "      display:flex;\n",
              "      flex-wrap:wrap;\n",
              "      gap: 12px;\n",
              "    }\n",
              "\n",
              "    .colab-df-convert {\n",
              "      background-color: #E8F0FE;\n",
              "      border: none;\n",
              "      border-radius: 50%;\n",
              "      cursor: pointer;\n",
              "      display: none;\n",
              "      fill: #1967D2;\n",
              "      height: 32px;\n",
              "      padding: 0 0 0 0;\n",
              "      width: 32px;\n",
              "    }\n",
              "\n",
              "    .colab-df-convert:hover {\n",
              "      background-color: #E2EBFA;\n",
              "      box-shadow: 0px 1px 2px rgba(60, 64, 67, 0.3), 0px 1px 3px 1px rgba(60, 64, 67, 0.15);\n",
              "      fill: #174EA6;\n",
              "    }\n",
              "\n",
              "    [theme=dark] .colab-df-convert {\n",
              "      background-color: #3B4455;\n",
              "      fill: #D2E3FC;\n",
              "    }\n",
              "\n",
              "    [theme=dark] .colab-df-convert:hover {\n",
              "      background-color: #434B5C;\n",
              "      box-shadow: 0px 1px 3px 1px rgba(0, 0, 0, 0.15);\n",
              "      filter: drop-shadow(0px 1px 2px rgba(0, 0, 0, 0.3));\n",
              "      fill: #FFFFFF;\n",
              "    }\n",
              "  </style>\n",
              "\n",
              "      <script>\n",
              "        const buttonEl =\n",
              "          document.querySelector('#df-8dc4b057-ebfe-41c8-a98d-74954d5c3d42 button.colab-df-convert');\n",
              "        buttonEl.style.display =\n",
              "          google.colab.kernel.accessAllowed ? 'block' : 'none';\n",
              "\n",
              "        async function convertToInteractive(key) {\n",
              "          const element = document.querySelector('#df-8dc4b057-ebfe-41c8-a98d-74954d5c3d42');\n",
              "          const dataTable =\n",
              "            await google.colab.kernel.invokeFunction('convertToInteractive',\n",
              "                                                     [key], {});\n",
              "          if (!dataTable) return;\n",
              "\n",
              "          const docLinkHtml = 'Like what you see? Visit the ' +\n",
              "            '<a target=\"_blank\" href=https://colab.research.google.com/notebooks/data_table.ipynb>data table notebook</a>'\n",
              "            + ' to learn more about interactive tables.';\n",
              "          element.innerHTML = '';\n",
              "          dataTable['output_type'] = 'display_data';\n",
              "          await google.colab.output.renderOutput(dataTable, element);\n",
              "          const docLink = document.createElement('div');\n",
              "          docLink.innerHTML = docLinkHtml;\n",
              "          element.appendChild(docLink);\n",
              "        }\n",
              "      </script>\n",
              "    </div>\n",
              "  </div>\n",
              "  "
            ]
          },
          "metadata": {},
          "execution_count": 46
        }
      ]
    },
    {
      "cell_type": "code",
      "source": [
        "answer = answer[:100]\n",
        "\n",
        "wrong_list_test=[]\n",
        "wrong2 = 0\n",
        "for i in range(len(answer)):\n",
        "  if answer[i] != pred_og[i]:\n",
        "    wrong += 1\n",
        "    wrong_list.append(str(answer[i]) + str(pred_og[i]))"
      ],
      "metadata": {
        "id": "Bs81hS6C3SVU"
      },
      "execution_count": null,
      "outputs": []
    },
    {
      "cell_type": "code",
      "source": [
        "print(\"문제수:\",len(pred_og))\n",
        "print(\"틀린개수:\",wrong2)\n",
        "\n",
        "print(\"정답율:\", (len(answer)-wrong2) / len(pred_og) )"
      ],
      "metadata": {
        "colab": {
          "base_uri": "https://localhost:8080/"
        },
        "id": "F8C_FjqW3g-b",
        "outputId": "a210dff2-f34e-4a68-bada-c4c37f2d8dd1"
      },
      "execution_count": null,
      "outputs": [
        {
          "output_type": "stream",
          "name": "stdout",
          "text": [
            "문제수: 100\n",
            "틀린개수: 0\n",
            "정답율: 1.0\n"
          ]
        }
      ]
    },
    {
      "cell_type": "code",
      "source": [
        "# df_multi_label.to_csv('325중복라벨추가.csv')"
      ],
      "metadata": {
        "id": "MjZrxG9u-1Pk"
      },
      "execution_count": null,
      "outputs": []
    },
    {
      "cell_type": "markdown",
      "source": [
        "### 국내대학 보고서로 model test 해보기 "
      ],
      "metadata": {
        "id": "7I_xkR9BkjhJ"
      }
    },
    {
      "cell_type": "code",
      "source": [
        "KOR_test = pd.read_csv('KOR_test.csv',index_col=0)\n",
        "KOR_test = KOR_test.reset_index()"
      ],
      "metadata": {
        "id": "T0P5-JfHkjQp"
      },
      "execution_count": null,
      "outputs": []
    },
    {
      "cell_type": "code",
      "source": [
        "SDGS_kor = KOR_test['분류'].values\n",
        "p5_kor = SDGS_kor.tolist()\n",
        "len(p5_kor)"
      ],
      "metadata": {
        "colab": {
          "base_uri": "https://localhost:8080/"
        },
        "id": "xL88CfC1nqln",
        "outputId": "20be1cd9-f637-4648-866d-0ee551369ee0"
      },
      "execution_count": null,
      "outputs": [
        {
          "output_type": "execute_result",
          "data": {
            "text/plain": [
              "315"
            ]
          },
          "metadata": {},
          "execution_count": 36
        }
      ]
    },
    {
      "cell_type": "code",
      "source": [
        "new_label_kor=[]\n",
        "for i in p5_kor:\n",
        "  if i in [1,2,3,4,5,6]:\n",
        "    new_label_kor.append(1)\n",
        "  elif i in [7,12,13,14,15]:\n",
        "    new_label_kor.append(2)\n",
        "  elif i in [8,9,10,11]:\n",
        "    new_label_kor.append(3)\n",
        "  elif i in [16]:\n",
        "    new_label_kor.append(4)\n",
        "  else:\n",
        "    new_label_kor.append(5)"
      ],
      "metadata": {
        "id": "RToywk9WnczU"
      },
      "execution_count": null,
      "outputs": []
    },
    {
      "cell_type": "code",
      "source": [
        "new_lb_kor = pd.DataFrame(new_label_kor,columns=['new_label'])\n",
        "new_lb_kor"
      ],
      "metadata": {
        "colab": {
          "base_uri": "https://localhost:8080/",
          "height": 424
        },
        "id": "0sanAmF0n-Hh",
        "outputId": "7b71285d-e94d-4902-9656-52bdf5b62ff8"
      },
      "execution_count": null,
      "outputs": [
        {
          "output_type": "execute_result",
          "data": {
            "text/plain": [
              "     new_label\n",
              "0            1\n",
              "1            1\n",
              "2            1\n",
              "3            1\n",
              "4            1\n",
              "..         ...\n",
              "310          5\n",
              "311          5\n",
              "312          5\n",
              "313          5\n",
              "314          5\n",
              "\n",
              "[315 rows x 1 columns]"
            ],
            "text/html": [
              "\n",
              "  <div id=\"df-bb1c6c7e-65f6-4323-be6c-865b6c5a8782\">\n",
              "    <div class=\"colab-df-container\">\n",
              "      <div>\n",
              "<style scoped>\n",
              "    .dataframe tbody tr th:only-of-type {\n",
              "        vertical-align: middle;\n",
              "    }\n",
              "\n",
              "    .dataframe tbody tr th {\n",
              "        vertical-align: top;\n",
              "    }\n",
              "\n",
              "    .dataframe thead th {\n",
              "        text-align: right;\n",
              "    }\n",
              "</style>\n",
              "<table border=\"1\" class=\"dataframe\">\n",
              "  <thead>\n",
              "    <tr style=\"text-align: right;\">\n",
              "      <th></th>\n",
              "      <th>new_label</th>\n",
              "    </tr>\n",
              "  </thead>\n",
              "  <tbody>\n",
              "    <tr>\n",
              "      <th>0</th>\n",
              "      <td>1</td>\n",
              "    </tr>\n",
              "    <tr>\n",
              "      <th>1</th>\n",
              "      <td>1</td>\n",
              "    </tr>\n",
              "    <tr>\n",
              "      <th>2</th>\n",
              "      <td>1</td>\n",
              "    </tr>\n",
              "    <tr>\n",
              "      <th>3</th>\n",
              "      <td>1</td>\n",
              "    </tr>\n",
              "    <tr>\n",
              "      <th>4</th>\n",
              "      <td>1</td>\n",
              "    </tr>\n",
              "    <tr>\n",
              "      <th>...</th>\n",
              "      <td>...</td>\n",
              "    </tr>\n",
              "    <tr>\n",
              "      <th>310</th>\n",
              "      <td>5</td>\n",
              "    </tr>\n",
              "    <tr>\n",
              "      <th>311</th>\n",
              "      <td>5</td>\n",
              "    </tr>\n",
              "    <tr>\n",
              "      <th>312</th>\n",
              "      <td>5</td>\n",
              "    </tr>\n",
              "    <tr>\n",
              "      <th>313</th>\n",
              "      <td>5</td>\n",
              "    </tr>\n",
              "    <tr>\n",
              "      <th>314</th>\n",
              "      <td>5</td>\n",
              "    </tr>\n",
              "  </tbody>\n",
              "</table>\n",
              "<p>315 rows × 1 columns</p>\n",
              "</div>\n",
              "      <button class=\"colab-df-convert\" onclick=\"convertToInteractive('df-bb1c6c7e-65f6-4323-be6c-865b6c5a8782')\"\n",
              "              title=\"Convert this dataframe to an interactive table.\"\n",
              "              style=\"display:none;\">\n",
              "        \n",
              "  <svg xmlns=\"http://www.w3.org/2000/svg\" height=\"24px\"viewBox=\"0 0 24 24\"\n",
              "       width=\"24px\">\n",
              "    <path d=\"M0 0h24v24H0V0z\" fill=\"none\"/>\n",
              "    <path d=\"M18.56 5.44l.94 2.06.94-2.06 2.06-.94-2.06-.94-.94-2.06-.94 2.06-2.06.94zm-11 1L8.5 8.5l.94-2.06 2.06-.94-2.06-.94L8.5 2.5l-.94 2.06-2.06.94zm10 10l.94 2.06.94-2.06 2.06-.94-2.06-.94-.94-2.06-.94 2.06-2.06.94z\"/><path d=\"M17.41 7.96l-1.37-1.37c-.4-.4-.92-.59-1.43-.59-.52 0-1.04.2-1.43.59L10.3 9.45l-7.72 7.72c-.78.78-.78 2.05 0 2.83L4 21.41c.39.39.9.59 1.41.59.51 0 1.02-.2 1.41-.59l7.78-7.78 2.81-2.81c.8-.78.8-2.07 0-2.86zM5.41 20L4 18.59l7.72-7.72 1.47 1.35L5.41 20z\"/>\n",
              "  </svg>\n",
              "      </button>\n",
              "      \n",
              "  <style>\n",
              "    .colab-df-container {\n",
              "      display:flex;\n",
              "      flex-wrap:wrap;\n",
              "      gap: 12px;\n",
              "    }\n",
              "\n",
              "    .colab-df-convert {\n",
              "      background-color: #E8F0FE;\n",
              "      border: none;\n",
              "      border-radius: 50%;\n",
              "      cursor: pointer;\n",
              "      display: none;\n",
              "      fill: #1967D2;\n",
              "      height: 32px;\n",
              "      padding: 0 0 0 0;\n",
              "      width: 32px;\n",
              "    }\n",
              "\n",
              "    .colab-df-convert:hover {\n",
              "      background-color: #E2EBFA;\n",
              "      box-shadow: 0px 1px 2px rgba(60, 64, 67, 0.3), 0px 1px 3px 1px rgba(60, 64, 67, 0.15);\n",
              "      fill: #174EA6;\n",
              "    }\n",
              "\n",
              "    [theme=dark] .colab-df-convert {\n",
              "      background-color: #3B4455;\n",
              "      fill: #D2E3FC;\n",
              "    }\n",
              "\n",
              "    [theme=dark] .colab-df-convert:hover {\n",
              "      background-color: #434B5C;\n",
              "      box-shadow: 0px 1px 3px 1px rgba(0, 0, 0, 0.15);\n",
              "      filter: drop-shadow(0px 1px 2px rgba(0, 0, 0, 0.3));\n",
              "      fill: #FFFFFF;\n",
              "    }\n",
              "  </style>\n",
              "\n",
              "      <script>\n",
              "        const buttonEl =\n",
              "          document.querySelector('#df-bb1c6c7e-65f6-4323-be6c-865b6c5a8782 button.colab-df-convert');\n",
              "        buttonEl.style.display =\n",
              "          google.colab.kernel.accessAllowed ? 'block' : 'none';\n",
              "\n",
              "        async function convertToInteractive(key) {\n",
              "          const element = document.querySelector('#df-bb1c6c7e-65f6-4323-be6c-865b6c5a8782');\n",
              "          const dataTable =\n",
              "            await google.colab.kernel.invokeFunction('convertToInteractive',\n",
              "                                                     [key], {});\n",
              "          if (!dataTable) return;\n",
              "\n",
              "          const docLinkHtml = 'Like what you see? Visit the ' +\n",
              "            '<a target=\"_blank\" href=https://colab.research.google.com/notebooks/data_table.ipynb>data table notebook</a>'\n",
              "            + ' to learn more about interactive tables.';\n",
              "          element.innerHTML = '';\n",
              "          dataTable['output_type'] = 'display_data';\n",
              "          await google.colab.output.renderOutput(dataTable, element);\n",
              "          const docLink = document.createElement('div');\n",
              "          docLink.innerHTML = docLinkHtml;\n",
              "          element.appendChild(docLink);\n",
              "        }\n",
              "      </script>\n",
              "    </div>\n",
              "  </div>\n",
              "  "
            ]
          },
          "metadata": {},
          "execution_count": 77
        }
      ]
    },
    {
      "cell_type": "code",
      "source": [
        "KOR_test['new_label'] = new_lb_kor['new_label']\n",
        "KOR_test"
      ],
      "metadata": {
        "colab": {
          "base_uri": "https://localhost:8080/",
          "height": 424
        },
        "id": "D77qVgvsoEvn",
        "outputId": "aa3aa777-dc5b-46d5-cf51-3f2074f7813c"
      },
      "execution_count": null,
      "outputs": [
        {
          "output_type": "execute_result",
          "data": {
            "text/plain": [
              "     index  분류                                                 번역  new_label\n",
              "0     1259   1  저소득층 학생을 위한 지원 ∙ 서울대학교에서는 저소득층 학생을 대상으로 등록금 장 ...          1\n",
              "1     1260   2  구성원의 식사/기아 문제 해결 - “천원의 식사” ∙서울대학교에서는 재학생 대상으로...          1\n",
              "2     1261   2  지속가능한 농업 지식/기술 제공 ∙농업생명과학대학에서는 지속가능농업 분야 관련 정규...          1\n",
              "3     1262   3  지역사회 건강과 복지 향상에 기여 ∙ 지역사회 공공 보건활동, 의과대학의 지역사회학...          1\n",
              "4     1263   3  세계 보건기관과의 협력 서울대학교 병원 공공보건 의료사업단은 세계보건기구 (WHO)...          1\n",
              "..     ...  ..                                                ...        ...\n",
              "310   1667  17                  특강을 통해 지역주민에게 기후변화의 위험에 대한 경각심 고취          5\n",
              "311   1668  17     학내 구성원 및 지역주민 대상 미술, 음악, 스포츠 등 다양한 분야의 교육과정 제공          5\n",
              "312   1669  17        학내 구성원 및 지역주민 대상 영어, 프랑스어, 중국어 등의 외국어 강좌 제공          5\n",
              "313   1670  17              강원국제개발협력센터 뉴스레터에 SDG를 안내하여 구성원의 인식 제고          5\n",
              "314   1671  17              사회복지시설, 시민단체, 의료기관 등과 연계하여 사회봉사 과목 운영          5\n",
              "\n",
              "[315 rows x 4 columns]"
            ],
            "text/html": [
              "\n",
              "  <div id=\"df-f0746a6f-ff13-4525-9878-9a79557b3523\">\n",
              "    <div class=\"colab-df-container\">\n",
              "      <div>\n",
              "<style scoped>\n",
              "    .dataframe tbody tr th:only-of-type {\n",
              "        vertical-align: middle;\n",
              "    }\n",
              "\n",
              "    .dataframe tbody tr th {\n",
              "        vertical-align: top;\n",
              "    }\n",
              "\n",
              "    .dataframe thead th {\n",
              "        text-align: right;\n",
              "    }\n",
              "</style>\n",
              "<table border=\"1\" class=\"dataframe\">\n",
              "  <thead>\n",
              "    <tr style=\"text-align: right;\">\n",
              "      <th></th>\n",
              "      <th>index</th>\n",
              "      <th>분류</th>\n",
              "      <th>번역</th>\n",
              "      <th>new_label</th>\n",
              "    </tr>\n",
              "  </thead>\n",
              "  <tbody>\n",
              "    <tr>\n",
              "      <th>0</th>\n",
              "      <td>1259</td>\n",
              "      <td>1</td>\n",
              "      <td>저소득층 학생을 위한 지원 ∙ 서울대학교에서는 저소득층 학생을 대상으로 등록금 장 ...</td>\n",
              "      <td>1</td>\n",
              "    </tr>\n",
              "    <tr>\n",
              "      <th>1</th>\n",
              "      <td>1260</td>\n",
              "      <td>2</td>\n",
              "      <td>구성원의 식사/기아 문제 해결 - “천원의 식사” ∙서울대학교에서는 재학생 대상으로...</td>\n",
              "      <td>1</td>\n",
              "    </tr>\n",
              "    <tr>\n",
              "      <th>2</th>\n",
              "      <td>1261</td>\n",
              "      <td>2</td>\n",
              "      <td>지속가능한 농업 지식/기술 제공 ∙농업생명과학대학에서는 지속가능농업 분야 관련 정규...</td>\n",
              "      <td>1</td>\n",
              "    </tr>\n",
              "    <tr>\n",
              "      <th>3</th>\n",
              "      <td>1262</td>\n",
              "      <td>3</td>\n",
              "      <td>지역사회 건강과 복지 향상에 기여 ∙ 지역사회 공공 보건활동, 의과대학의 지역사회학...</td>\n",
              "      <td>1</td>\n",
              "    </tr>\n",
              "    <tr>\n",
              "      <th>4</th>\n",
              "      <td>1263</td>\n",
              "      <td>3</td>\n",
              "      <td>세계 보건기관과의 협력 서울대학교 병원 공공보건 의료사업단은 세계보건기구 (WHO)...</td>\n",
              "      <td>1</td>\n",
              "    </tr>\n",
              "    <tr>\n",
              "      <th>...</th>\n",
              "      <td>...</td>\n",
              "      <td>...</td>\n",
              "      <td>...</td>\n",
              "      <td>...</td>\n",
              "    </tr>\n",
              "    <tr>\n",
              "      <th>310</th>\n",
              "      <td>1667</td>\n",
              "      <td>17</td>\n",
              "      <td>특강을 통해 지역주민에게 기후변화의 위험에 대한 경각심 고취</td>\n",
              "      <td>5</td>\n",
              "    </tr>\n",
              "    <tr>\n",
              "      <th>311</th>\n",
              "      <td>1668</td>\n",
              "      <td>17</td>\n",
              "      <td>학내 구성원 및 지역주민 대상 미술, 음악, 스포츠 등 다양한 분야의 교육과정 제공</td>\n",
              "      <td>5</td>\n",
              "    </tr>\n",
              "    <tr>\n",
              "      <th>312</th>\n",
              "      <td>1669</td>\n",
              "      <td>17</td>\n",
              "      <td>학내 구성원 및 지역주민 대상 영어, 프랑스어, 중국어 등의 외국어 강좌 제공</td>\n",
              "      <td>5</td>\n",
              "    </tr>\n",
              "    <tr>\n",
              "      <th>313</th>\n",
              "      <td>1670</td>\n",
              "      <td>17</td>\n",
              "      <td>강원국제개발협력센터 뉴스레터에 SDG를 안내하여 구성원의 인식 제고</td>\n",
              "      <td>5</td>\n",
              "    </tr>\n",
              "    <tr>\n",
              "      <th>314</th>\n",
              "      <td>1671</td>\n",
              "      <td>17</td>\n",
              "      <td>사회복지시설, 시민단체, 의료기관 등과 연계하여 사회봉사 과목 운영</td>\n",
              "      <td>5</td>\n",
              "    </tr>\n",
              "  </tbody>\n",
              "</table>\n",
              "<p>315 rows × 4 columns</p>\n",
              "</div>\n",
              "      <button class=\"colab-df-convert\" onclick=\"convertToInteractive('df-f0746a6f-ff13-4525-9878-9a79557b3523')\"\n",
              "              title=\"Convert this dataframe to an interactive table.\"\n",
              "              style=\"display:none;\">\n",
              "        \n",
              "  <svg xmlns=\"http://www.w3.org/2000/svg\" height=\"24px\"viewBox=\"0 0 24 24\"\n",
              "       width=\"24px\">\n",
              "    <path d=\"M0 0h24v24H0V0z\" fill=\"none\"/>\n",
              "    <path d=\"M18.56 5.44l.94 2.06.94-2.06 2.06-.94-2.06-.94-.94-2.06-.94 2.06-2.06.94zm-11 1L8.5 8.5l.94-2.06 2.06-.94-2.06-.94L8.5 2.5l-.94 2.06-2.06.94zm10 10l.94 2.06.94-2.06 2.06-.94-2.06-.94-.94-2.06-.94 2.06-2.06.94z\"/><path d=\"M17.41 7.96l-1.37-1.37c-.4-.4-.92-.59-1.43-.59-.52 0-1.04.2-1.43.59L10.3 9.45l-7.72 7.72c-.78.78-.78 2.05 0 2.83L4 21.41c.39.39.9.59 1.41.59.51 0 1.02-.2 1.41-.59l7.78-7.78 2.81-2.81c.8-.78.8-2.07 0-2.86zM5.41 20L4 18.59l7.72-7.72 1.47 1.35L5.41 20z\"/>\n",
              "  </svg>\n",
              "      </button>\n",
              "      \n",
              "  <style>\n",
              "    .colab-df-container {\n",
              "      display:flex;\n",
              "      flex-wrap:wrap;\n",
              "      gap: 12px;\n",
              "    }\n",
              "\n",
              "    .colab-df-convert {\n",
              "      background-color: #E8F0FE;\n",
              "      border: none;\n",
              "      border-radius: 50%;\n",
              "      cursor: pointer;\n",
              "      display: none;\n",
              "      fill: #1967D2;\n",
              "      height: 32px;\n",
              "      padding: 0 0 0 0;\n",
              "      width: 32px;\n",
              "    }\n",
              "\n",
              "    .colab-df-convert:hover {\n",
              "      background-color: #E2EBFA;\n",
              "      box-shadow: 0px 1px 2px rgba(60, 64, 67, 0.3), 0px 1px 3px 1px rgba(60, 64, 67, 0.15);\n",
              "      fill: #174EA6;\n",
              "    }\n",
              "\n",
              "    [theme=dark] .colab-df-convert {\n",
              "      background-color: #3B4455;\n",
              "      fill: #D2E3FC;\n",
              "    }\n",
              "\n",
              "    [theme=dark] .colab-df-convert:hover {\n",
              "      background-color: #434B5C;\n",
              "      box-shadow: 0px 1px 3px 1px rgba(0, 0, 0, 0.15);\n",
              "      filter: drop-shadow(0px 1px 2px rgba(0, 0, 0, 0.3));\n",
              "      fill: #FFFFFF;\n",
              "    }\n",
              "  </style>\n",
              "\n",
              "      <script>\n",
              "        const buttonEl =\n",
              "          document.querySelector('#df-f0746a6f-ff13-4525-9878-9a79557b3523 button.colab-df-convert');\n",
              "        buttonEl.style.display =\n",
              "          google.colab.kernel.accessAllowed ? 'block' : 'none';\n",
              "\n",
              "        async function convertToInteractive(key) {\n",
              "          const element = document.querySelector('#df-f0746a6f-ff13-4525-9878-9a79557b3523');\n",
              "          const dataTable =\n",
              "            await google.colab.kernel.invokeFunction('convertToInteractive',\n",
              "                                                     [key], {});\n",
              "          if (!dataTable) return;\n",
              "\n",
              "          const docLinkHtml = 'Like what you see? Visit the ' +\n",
              "            '<a target=\"_blank\" href=https://colab.research.google.com/notebooks/data_table.ipynb>data table notebook</a>'\n",
              "            + ' to learn more about interactive tables.';\n",
              "          element.innerHTML = '';\n",
              "          dataTable['output_type'] = 'display_data';\n",
              "          await google.colab.output.renderOutput(dataTable, element);\n",
              "          const docLink = document.createElement('div');\n",
              "          docLink.innerHTML = docLinkHtml;\n",
              "          element.appendChild(docLink);\n",
              "        }\n",
              "      </script>\n",
              "    </div>\n",
              "  </div>\n",
              "  "
            ]
          },
          "metadata": {},
          "execution_count": 78
        }
      ]
    },
    {
      "cell_type": "code",
      "source": [
        "# 국내대학 보고서(테스트용) 정답 분포 확인 \n",
        "import seaborn as sns\n",
        "sns.countplot(x = KOR_test['new_label'])"
      ],
      "metadata": {
        "colab": {
          "base_uri": "https://localhost:8080/",
          "height": 297
        },
        "id": "A72gFCOWw-pt",
        "outputId": "71f7c080-5389-4a35-945a-0425541759e0"
      },
      "execution_count": null,
      "outputs": [
        {
          "output_type": "execute_result",
          "data": {
            "text/plain": [
              "<matplotlib.axes._subplots.AxesSubplot at 0x7eff07f8cf50>"
            ]
          },
          "metadata": {},
          "execution_count": 80
        },
        {
          "output_type": "display_data",
          "data": {
            "text/plain": [
              "<Figure size 432x288 with 1 Axes>"
            ],
            "image/png": "[encoded data removed]"
          },
          "metadata": {
            "needs_background": "light"
          }
        }
      ]
    },
    {
      "cell_type": "code",
      "source": [
        "# 번역만 떼서 predict에 집어넣기 \n",
        "\n",
        "\n",
        "\n",
        "data_list2 = []\n",
        "for data in KOR_test['번역']:\n",
        "  data_list2.append(data)\n",
        "\n",
        "data_list2[:2]"
      ],
      "metadata": {
        "colab": {
          "base_uri": "https://localhost:8080/"
        },
        "id": "6Wx8HvdlloDw",
        "outputId": "4fced8c4-7f44-4b2c-dbee-c70c097d80cc"
      },
      "execution_count": null,
      "outputs": [
        {
          "output_type": "execute_result",
          "data": {
            "text/plain": [
              "['저소득층 학생을 위한 지원 ∙ 서울대학교에서는 저소득층 학생을 대상으로 등록금 장 학금, 선한 인재 장학금, 해외 수학 장학금을 운영하 고 있으며, 2019년 1학기에는 13.5%의 재학생들이, 2학 기에는 17.2%의 재학생들이 재정 지원을 받았습니다. ∙ 저소득 가구 학생, 농어촌 학생, 장애인, 북한 이탈 주 민 등 소수자들은 기회균형 선발 특별전형으로 입학할 수 있습니다. 저소득층 학생은 입학 이후에 기숙사 입 주 신청 시 우선 선발 대상이 됩니다.',\n",
              " '구성원의 식사/기아 문제 해결 - “천원의 식사” ∙서울대학교에서는 재학생 대상으로 ‘천원의 식사’ 코너를 운영하여 저소득층 학생들의 식비 부담을 줄이고 건강 향상에 기여하고 있습니다. ‘천원의 식사’는 가격에 비해 양질의 식사를 제공하여 구성원에게 인기가 높습니다. 학교 생협 직영 식당 6개소에서는 건강하고 저렴한 음식을 제공하기 위해 구성원들에게 식비 가격을 기준 가격보다 할인해 주고 있습니다.']"
            ]
          },
          "metadata": {},
          "execution_count": 81
        }
      ]
    },
    {
      "cell_type": "code",
      "source": [
        "# predict 로 적용하기 -> 모델 바꿨을 때 이부분 돌려보면 됨 \n",
        "# data_list2 = 국내대학 보고서 내용\n",
        "\n",
        "univ=[]\n",
        "for i in tqdm(data_list2):\n",
        "  univ.append(predict(i))"
      ],
      "metadata": {
        "colab": {
          "base_uri": "https://localhost:8080/"
        },
        "id": "_Sz2ophcmVr5",
        "outputId": "c20f614b-24db-49fc-89ca-781fc1e3e7e7"
      },
      "execution_count": null,
      "outputs": [
        {
          "output_type": "stream",
          "name": "stderr",
          "text": [
            "\r  0%|          | 0/315 [00:00<?, ?it/s]/usr/local/lib/python3.7/dist-packages/torch/utils/data/dataloader.py:481: UserWarning: This DataLoader will create 5 worker processes in total. Our suggested max number of worker in current system is 4, which is smaller than what this DataLoader is going to create. Please be aware that excessive worker creation might get DataLoader running slow or even freeze, lower the worker number to avoid potential slowness/freeze if necessary.\n",
            "  cpuset_checked))\n",
            "100%|██████████| 315/315 [01:31<00:00,  3.45it/s]\n"
          ]
        }
      ]
    },
    {
      "cell_type": "code",
      "source": [
        "univ2 = list(map(int,univ))\n",
        "\n",
        "print(univ2)\n",
        "b = []\n",
        "for i in range(1,6):\n",
        "  b.append(univ2.count(i))\n",
        "\n",
        "print(b)\n",
        "\n",
        "dic = {str(i+1):b[i] for i in range(len(b))}\n",
        "dic"
      ],
      "metadata": {
        "colab": {
          "base_uri": "https://localhost:8080/"
        },
        "id": "3n_2QunDmXw_",
        "outputId": "10990c72-7c8f-4ef8-cb2b-bb9983b4c43a"
      },
      "execution_count": null,
      "outputs": [
        {
          "output_type": "stream",
          "name": "stdout",
          "text": [
            "[1, 1, 2, 1, 1, 1, 1, 1, 1, 5, 1, 1, 1, 1, 1, 1, 2, 2, 2, 2, 2, 2, 3, 3, 3, 3, 3, 3, 4, 3, 3, 3, 2, 3, 2, 2, 2, 2, 2, 2, 2, 2, 2, 2, 5, 1, 5, 5, 5, 5, 1, 1, 1, 1, 3, 1, 1, 1, 5, 3, 3, 1, 3, 1, 1, 3, 1, 4, 1, 1, 2, 2, 2, 2, 2, 3, 3, 3, 1, 3, 3, 3, 3, 3, 2, 3, 3, 2, 3, 3, 2, 2, 4, 3, 5, 2, 5, 1, 1, 3, 3, 1, 1, 1, 1, 1, 1, 3, 4, 3, 3, 1, 3, 1, 1, 3, 2, 3, 1, 2, 1, 1, 1, 1, 1, 1, 1, 1, 4, 1, 1, 1, 1, 1, 1, 1, 1, 1, 1, 1, 4, 1, 1, 1, 3, 1, 1, 1, 3, 1, 1, 1, 1, 1, 1, 4, 1, 1, 1, 1, 3, 3, 1, 1, 1, 1, 1, 1, 1, 1, 1, 1, 1, 1, 1, 1, 1, 1, 1, 2, 2, 2, 2, 4, 5, 2, 2, 2, 2, 2, 2, 2, 2, 2, 3, 4, 3, 1, 3, 3, 3, 1, 3, 4, 3, 1, 3, 3, 5, 1, 3, 1, 3, 1, 1, 1, 1, 1, 5, 3, 3, 3, 1, 3, 1, 3, 3, 1, 3, 1, 3, 3, 3, 3, 1, 4, 1, 2, 1, 3, 3, 3, 3, 3, 3, 3, 3, 3, 3, 3, 3, 2, 3, 2, 3, 2, 2, 3, 2, 3, 3, 2, 2, 2, 2, 2, 2, 1, 2, 2, 2, 1, 2, 2, 2, 1, 1, 2, 2, 2, 2, 2, 2, 2, 2, 2, 2, 2, 2, 2, 4, 4, 4, 3, 4, 4, 4, 3, 4, 4, 4, 4, 5, 4, 4, 1, 5, 5, 5, 2, 2, 1, 1, 5, 5]\n",
            "[117, 76, 81, 23, 18]\n"
          ]
        },
        {
          "output_type": "execute_result",
          "data": {
            "text/plain": [
              "{'1': 117, '2': 76, '3': 81, '4': 23, '5': 18}"
            ]
          },
          "metadata": {},
          "execution_count": 83
        }
      ]
    },
    {
      "cell_type": "code",
      "source": [
        "# 예측한 데이터 정렬 \n",
        "c = dict(sorted(dic.items(), key=lambda x:x[1]))\n",
        "\n",
        "SDGs_LABEL = pd.DataFrame.from_dict(c, orient = 'index')\n",
        "SDGs_LABEL"
      ],
      "metadata": {
        "colab": {
          "base_uri": "https://localhost:8080/",
          "height": 206
        },
        "id": "xNcBKyKumaon",
        "outputId": "d065fff5-04e0-4cf6-b01e-f7380cb35ad3"
      },
      "execution_count": null,
      "outputs": [
        {
          "output_type": "execute_result",
          "data": {
            "text/plain": [
              "     0\n",
              "5   18\n",
              "4   23\n",
              "2   76\n",
              "3   81\n",
              "1  117"
            ],
            "text/html": [
              "\n",
              "  <div id=\"df-7eddd274-5f4a-414f-b776-8108fab8f11d\">\n",
              "    <div class=\"colab-df-container\">\n",
              "      <div>\n",
              "<style scoped>\n",
              "    .dataframe tbody tr th:only-of-type {\n",
              "        vertical-align: middle;\n",
              "    }\n",
              "\n",
              "    .dataframe tbody tr th {\n",
              "        vertical-align: top;\n",
              "    }\n",
              "\n",
              "    .dataframe thead th {\n",
              "        text-align: right;\n",
              "    }\n",
              "</style>\n",
              "<table border=\"1\" class=\"dataframe\">\n",
              "  <thead>\n",
              "    <tr style=\"text-align: right;\">\n",
              "      <th></th>\n",
              "      <th>0</th>\n",
              "    </tr>\n",
              "  </thead>\n",
              "  <tbody>\n",
              "    <tr>\n",
              "      <th>5</th>\n",
              "      <td>18</td>\n",
              "    </tr>\n",
              "    <tr>\n",
              "      <th>4</th>\n",
              "      <td>23</td>\n",
              "    </tr>\n",
              "    <tr>\n",
              "      <th>2</th>\n",
              "      <td>76</td>\n",
              "    </tr>\n",
              "    <tr>\n",
              "      <th>3</th>\n",
              "      <td>81</td>\n",
              "    </tr>\n",
              "    <tr>\n",
              "      <th>1</th>\n",
              "      <td>117</td>\n",
              "    </tr>\n",
              "  </tbody>\n",
              "</table>\n",
              "</div>\n",
              "      <button class=\"colab-df-convert\" onclick=\"convertToInteractive('df-7eddd274-5f4a-414f-b776-8108fab8f11d')\"\n",
              "              title=\"Convert this dataframe to an interactive table.\"\n",
              "              style=\"display:none;\">\n",
              "        \n",
              "  <svg xmlns=\"http://www.w3.org/2000/svg\" height=\"24px\"viewBox=\"0 0 24 24\"\n",
              "       width=\"24px\">\n",
              "    <path d=\"M0 0h24v24H0V0z\" fill=\"none\"/>\n",
              "    <path d=\"M18.56 5.44l.94 2.06.94-2.06 2.06-.94-2.06-.94-.94-2.06-.94 2.06-2.06.94zm-11 1L8.5 8.5l.94-2.06 2.06-.94-2.06-.94L8.5 2.5l-.94 2.06-2.06.94zm10 10l.94 2.06.94-2.06 2.06-.94-2.06-.94-.94-2.06-.94 2.06-2.06.94z\"/><path d=\"M17.41 7.96l-1.37-1.37c-.4-.4-.92-.59-1.43-.59-.52 0-1.04.2-1.43.59L10.3 9.45l-7.72 7.72c-.78.78-.78 2.05 0 2.83L4 21.41c.39.39.9.59 1.41.59.51 0 1.02-.2 1.41-.59l7.78-7.78 2.81-2.81c.8-.78.8-2.07 0-2.86zM5.41 20L4 18.59l7.72-7.72 1.47 1.35L5.41 20z\"/>\n",
              "  </svg>\n",
              "      </button>\n",
              "      \n",
              "  <style>\n",
              "    .colab-df-container {\n",
              "      display:flex;\n",
              "      flex-wrap:wrap;\n",
              "      gap: 12px;\n",
              "    }\n",
              "\n",
              "    .colab-df-convert {\n",
              "      background-color: #E8F0FE;\n",
              "      border: none;\n",
              "      border-radius: 50%;\n",
              "      cursor: pointer;\n",
              "      display: none;\n",
              "      fill: #1967D2;\n",
              "      height: 32px;\n",
              "      padding: 0 0 0 0;\n",
              "      width: 32px;\n",
              "    }\n",
              "\n",
              "    .colab-df-convert:hover {\n",
              "      background-color: #E2EBFA;\n",
              "      box-shadow: 0px 1px 2px rgba(60, 64, 67, 0.3), 0px 1px 3px 1px rgba(60, 64, 67, 0.15);\n",
              "      fill: #174EA6;\n",
              "    }\n",
              "\n",
              "    [theme=dark] .colab-df-convert {\n",
              "      background-color: #3B4455;\n",
              "      fill: #D2E3FC;\n",
              "    }\n",
              "\n",
              "    [theme=dark] .colab-df-convert:hover {\n",
              "      background-color: #434B5C;\n",
              "      box-shadow: 0px 1px 3px 1px rgba(0, 0, 0, 0.15);\n",
              "      filter: drop-shadow(0px 1px 2px rgba(0, 0, 0, 0.3));\n",
              "      fill: #FFFFFF;\n",
              "    }\n",
              "  </style>\n",
              "\n",
              "      <script>\n",
              "        const buttonEl =\n",
              "          document.querySelector('#df-7eddd274-5f4a-414f-b776-8108fab8f11d button.colab-df-convert');\n",
              "        buttonEl.style.display =\n",
              "          google.colab.kernel.accessAllowed ? 'block' : 'none';\n",
              "\n",
              "        async function convertToInteractive(key) {\n",
              "          const element = document.querySelector('#df-7eddd274-5f4a-414f-b776-8108fab8f11d');\n",
              "          const dataTable =\n",
              "            await google.colab.kernel.invokeFunction('convertToInteractive',\n",
              "                                                     [key], {});\n",
              "          if (!dataTable) return;\n",
              "\n",
              "          const docLinkHtml = 'Like what you see? Visit the ' +\n",
              "            '<a target=\"_blank\" href=https://colab.research.google.com/notebooks/data_table.ipynb>data table notebook</a>'\n",
              "            + ' to learn more about interactive tables.';\n",
              "          element.innerHTML = '';\n",
              "          dataTable['output_type'] = 'display_data';\n",
              "          await google.colab.output.renderOutput(dataTable, element);\n",
              "          const docLink = document.createElement('div');\n",
              "          docLink.innerHTML = docLinkHtml;\n",
              "          element.appendChild(docLink);\n",
              "        }\n",
              "      </script>\n",
              "    </div>\n",
              "  </div>\n",
              "  "
            ]
          },
          "metadata": {},
          "execution_count": 84
        }
      ]
    },
    {
      "cell_type": "code",
      "source": [
        "print(\"정답:\",new_label_kor)\n",
        "print(\"예상:\",univ2)"
      ],
      "metadata": {
        "colab": {
          "base_uri": "https://localhost:8080/"
        },
        "id": "Xcr5pmbToj73",
        "outputId": "a3541ffb-df52-4fcb-a4a8-68eda2fe17de"
      },
      "execution_count": null,
      "outputs": [
        {
          "output_type": "stream",
          "name": "stdout",
          "text": [
            "정답: [1, 1, 1, 1, 1, 1, 1, 1, 1, 1, 1, 1, 1, 1, 1, 1, 2, 2, 2, 2, 2, 2, 3, 3, 3, 3, 3, 3, 3, 3, 3, 3, 3, 3, 2, 2, 2, 2, 2, 2, 2, 2, 2, 2, 4, 4, 5, 5, 5, 5, 1, 1, 1, 1, 1, 1, 1, 1, 1, 1, 1, 1, 1, 1, 1, 1, 1, 1, 1, 1, 2, 2, 2, 2, 2, 3, 3, 3, 3, 3, 3, 3, 3, 2, 2, 2, 2, 2, 2, 2, 2, 2, 4, 4, 5, 5, 5, 1, 1, 1, 1, 1, 1, 1, 1, 1, 1, 1, 1, 1, 1, 1, 1, 1, 1, 1, 1, 1, 1, 1, 1, 1, 1, 1, 1, 1, 1, 1, 1, 1, 1, 1, 1, 1, 1, 1, 1, 1, 1, 1, 1, 1, 1, 1, 1, 1, 1, 1, 1, 1, 1, 1, 1, 1, 1, 1, 1, 1, 1, 1, 1, 1, 1, 1, 1, 1, 1, 1, 1, 1, 1, 1, 1, 1, 1, 1, 1, 1, 1, 2, 2, 2, 2, 2, 2, 2, 2, 2, 2, 2, 2, 2, 2, 2, 3, 3, 3, 3, 3, 3, 3, 3, 3, 3, 3, 3, 3, 3, 3, 3, 3, 3, 3, 3, 3, 3, 3, 3, 3, 3, 3, 3, 3, 3, 3, 3, 3, 3, 3, 3, 3, 3, 3, 3, 3, 3, 3, 3, 3, 3, 3, 3, 3, 3, 3, 3, 3, 3, 3, 3, 3, 2, 2, 2, 2, 2, 2, 2, 2, 2, 2, 2, 2, 2, 2, 2, 2, 2, 2, 2, 2, 2, 2, 2, 2, 2, 2, 2, 2, 2, 2, 2, 2, 2, 2, 2, 2, 2, 2, 2, 4, 4, 4, 4, 4, 4, 4, 4, 4, 4, 4, 4, 4, 4, 4, 5, 5, 5, 5, 5, 5, 5, 5, 5, 5]\n",
            "예상: [1, 1, 2, 1, 1, 1, 1, 1, 1, 5, 1, 1, 1, 1, 1, 1, 2, 2, 2, 2, 2, 2, 3, 3, 3, 3, 3, 3, 4, 3, 3, 3, 2, 3, 2, 2, 2, 2, 2, 2, 2, 2, 2, 2, 5, 1, 5, 5, 5, 5, 1, 1, 1, 1, 3, 1, 1, 1, 5, 3, 3, 1, 3, 1, 1, 3, 1, 4, 1, 1, 2, 2, 2, 2, 2, 3, 3, 3, 1, 3, 3, 3, 3, 3, 2, 3, 3, 2, 3, 3, 2, 2, 4, 3, 5, 2, 5, 1, 1, 3, 3, 1, 1, 1, 1, 1, 1, 3, 4, 3, 3, 1, 3, 1, 1, 3, 2, 3, 1, 2, 1, 1, 1, 1, 1, 1, 1, 1, 4, 1, 1, 1, 1, 1, 1, 1, 1, 1, 1, 1, 4, 1, 1, 1, 3, 1, 1, 1, 3, 1, 1, 1, 1, 1, 1, 4, 1, 1, 1, 1, 3, 3, 1, 1, 1, 1, 1, 1, 1, 1, 1, 1, 1, 1, 1, 1, 1, 1, 1, 2, 2, 2, 2, 4, 5, 2, 2, 2, 2, 2, 2, 2, 2, 2, 3, 4, 3, 1, 3, 3, 3, 1, 3, 4, 3, 1, 3, 3, 5, 1, 3, 1, 3, 1, 1, 1, 1, 1, 5, 3, 3, 3, 1, 3, 1, 3, 3, 1, 3, 1, 3, 3, 3, 3, 1, 4, 1, 2, 1, 3, 3, 3, 3, 3, 3, 3, 3, 3, 3, 3, 3, 2, 3, 2, 3, 2, 2, 3, 2, 3, 3, 2, 2, 2, 2, 2, 2, 1, 2, 2, 2, 1, 2, 2, 2, 1, 1, 2, 2, 2, 2, 2, 2, 2, 2, 2, 2, 2, 2, 2, 4, 4, 4, 3, 4, 4, 4, 3, 4, 4, 4, 4, 5, 4, 4, 1, 5, 5, 5, 2, 2, 1, 1, 5, 5]\n"
          ]
        }
      ]
    },
    {
      "cell_type": "code",
      "source": [
        "# 정답과 예상 리스트에서 몇번째를 틀렸는지만 리스트로 따로 만들어주기 \n",
        "wrong_index = []\n",
        "for i in range(len(univ2)):\n",
        "  if univ2[i] != new_label_kor[i]:\n",
        "    wrong_index.append(i)\n",
        "\n",
        "print(\"틀린문제의 원데이터 인덱스:\",wrong_index)"
      ],
      "metadata": {
        "colab": {
          "base_uri": "https://localhost:8080/"
        },
        "id": "735zlt7-KN06",
        "outputId": "11ccf0b2-b00d-4d47-d14d-df9dfe28ee64"
      },
      "execution_count": null,
      "outputs": [
        {
          "output_type": "stream",
          "name": "stdout",
          "text": [
            "틀린문제의 원데이터 인덱스: [2, 9, 28, 32, 44, 45, 54, 58, 59, 60, 62, 65, 67, 78, 83, 85, 86, 88, 89, 93, 95, 99, 100, 107, 108, 109, 110, 112, 115, 116, 117, 119, 128, 140, 144, 148, 155, 160, 161, 183, 184, 195, 197, 201, 203, 205, 208, 209, 211, 213, 214, 215, 216, 217, 218, 222, 224, 227, 229, 234, 235, 236, 237, 238, 252, 254, 257, 259, 260, 267, 271, 275, 276, 293, 297, 302, 305, 309, 310, 311, 312]\n"
          ]
        }
      ]
    },
    {
      "cell_type": "code",
      "source": [
        "# 인덱스별로 로짓 값 확인하기(모델이 어떤거랑 헷갈렸는지)\n",
        "# for i in wrong_index:\n",
        "#   print(logits(data_list2[i]))\n",
        "#   print(\"모델이 틀린 문제의 정답:\",new_label_kor[i])\n",
        "#   print(\"모델의 예측:\",univ[i])\n",
        "#   print()"
      ],
      "metadata": {
        "id": "ICaeThNxLBMC"
      },
      "execution_count": null,
      "outputs": []
    },
    {
      "cell_type": "code",
      "source": [
        "\n",
        "print(new_label_kor[9], univ2[9])\n",
        "print(data_list2[9])\n"
      ],
      "metadata": {
        "colab": {
          "base_uri": "https://localhost:8080/"
        },
        "id": "g9XBimxmHdPn",
        "outputId": "048bba4d-e784-40ac-f11b-9264ddbe2455"
      },
      "execution_count": null,
      "outputs": [
        {
          "output_type": "stream",
          "name": "stdout",
          "text": [
            "1 3\n",
            "지역사회 교육 봉사 ∙ 서울대학교 글로벌사회공헌단을 중심으로 지역사회와 국제사회에 도움이 되는 사회공헌 활동과 봉사활동을 수행하며, 사회공헌형 교과는 캠퍼스 중심 교육을 탈피 하여 취약계층을 위한 활동에 전공이론을 접목하여 사 회공헌을 실천하고 있습니다. ∙ ‘골뱅이 어울림 학교’는 지역사회 발달장애아동을 대상 으로 요리, 음악, 체육 등 주말학교 프로그램 운영으로 사회적 약자를 이해하고 어울림을 추구합니다. ∙ ‘프로네시스 나눔 실천단’은 교육소외지역의 고등학생들 에게 양질의 교육 프로그램을 무상으로 제공합니다. ∙ ‘샤눔 다문화 공헌단‘은 다양한 국적과 다문화적 배경 을 가진 학생들이 다문화 관련 지역사회 나눔을 실천 합니다.\n"
          ]
        }
      ]
    },
    {
      "cell_type": "code",
      "source": [
        "txt = data_list2[9]\n",
        "\n",
        "print(logits(txt))\n",
        "\n",
        "# 틀린답이 가장 헷갈리던거에서 정답이었음 !!! "
      ],
      "metadata": {
        "colab": {
          "base_uri": "https://localhost:8080/"
        },
        "id": "spCopAYGI343",
        "outputId": "7868600b-a65e-43bf-f20c-f4413c5d03ed"
      },
      "execution_count": null,
      "outputs": [
        {
          "output_type": "stream",
          "name": "stdout",
          "text": [
            "[ 2.750098  -4.000735   3.2505322 -2.126812   0.5688735]\n"
          ]
        }
      ]
    },
    {
      "cell_type": "code",
      "source": [
        "wrong_list=[]\n",
        "wrong = 0\n",
        "for i in range(len(new_label_kor)):\n",
        "  if new_label_kor[i] != univ2[i]:\n",
        "    wrong += 1\n",
        "    wrong_list.append(str(new_label_kor[i]) + str(univ2[i]))\n"
      ],
      "metadata": {
        "id": "TrjPgkXZrF3v"
      },
      "execution_count": null,
      "outputs": []
    },
    {
      "cell_type": "code",
      "source": [
        "print(\"문제수:\",len(univ2))\n",
        "print(\"틀린개수:\",wrong)\n",
        "\n",
        "print(\"정답율:\", (len(univ2)-wrong) / len(univ2) )"
      ],
      "metadata": {
        "colab": {
          "base_uri": "https://localhost:8080/"
        },
        "id": "ThM8fBa0p38d",
        "outputId": "f1174e03-3dd3-4a04-e8db-e91e6edd27dc"
      },
      "execution_count": null,
      "outputs": [
        {
          "output_type": "stream",
          "name": "stdout",
          "text": [
            "문제수: 315\n",
            "틀린개수: 81\n",
            "정답율: 0.7428571428571429\n"
          ]
        }
      ]
    },
    {
      "cell_type": "code",
      "source": [
        "# f1 score\n",
        "from sklearn.metrics import f1_score\n",
        "\n",
        "\n",
        "f1 = f1_score(new_label_kor, univ2, average='micro')\n",
        "  \n",
        "print('f1_score:', f1)"
      ],
      "metadata": {
        "colab": {
          "base_uri": "https://localhost:8080/"
        },
        "id": "a8QCTN5-hwsB",
        "outputId": "9cc6e0a3-152d-401c-b951-debaf4beae06"
      },
      "execution_count": null,
      "outputs": [
        {
          "output_type": "stream",
          "name": "stdout",
          "text": [
            "f1_score: 0.7428571428571429\n"
          ]
        }
      ]
    },
    {
      "cell_type": "code",
      "source": [
        "# 몇번을 가장 많이 틀렸는지\n",
        "print(wrong_list)\n",
        "\n",
        "wrong_num=[]\n",
        "for i in range(len(wrong_list)):\n",
        "  wrong_num.append(wrong_list[i][0])\n",
        "\n",
        "pre=[]\n",
        "for i in range(len(wrong_list)):\n",
        "  pre.append(wrong_list[i][1])\n",
        "\n",
        "# number=[]\n",
        "# for i in range(1,6):\n",
        "#   number.append(num.count(i))\n",
        "\n",
        "\n",
        "wn = list(map(int,wrong_num))\n",
        "\n",
        "print(wn)\n",
        "w = []\n",
        "for i in range(1,6):\n",
        "  w.append(wn.count(i))\n",
        "\n",
        "print()\n",
        "\n",
        "dic_w = {str(i+1):w[i] for i in range(len(w))}\n",
        "print(\"틀린문제 정답 분포:\",dic_w)\n",
        "    "
      ],
      "metadata": {
        "colab": {
          "base_uri": "https://localhost:8080/"
        },
        "id": "gQgXgWfAnTbT",
        "outputId": "2e4d8266-8126-4c60-9c9e-c7090e388a42"
      },
      "execution_count": null,
      "outputs": [
        {
          "output_type": "stream",
          "name": "stdout",
          "text": [
            "['13', '12', '13', '13', '32', '32', '32', '31', '34', '32', '23', '23', '23', '23', '23', '25', '45', '13', '13', '13', '14', '32', '31', '23', '23', '23', '23', '23', '41', '52', '13', '13', '13', '14', '13', '13', '13', '12', '12', '13', '12', '14', '13', '12', '13', '13', '13', '13', '12', '13', '14', '13', '32', '34', '35', '32', '34', '31', '31', '31', '34', '34', '35', '31', '31', '31', '31', '31', '31', '31', '31', '31', '31', '31', '31', '34', '31', '31', '23', '23', '23', '23', '23', '23', '23', '23', '23', '43', '43', '43', '52', '53', '51', '52', '52', '51', '53', '53']\n",
            "[1, 1, 1, 1, 3, 3, 3, 3, 3, 3, 2, 2, 2, 2, 2, 2, 4, 1, 1, 1, 1, 3, 3, 2, 2, 2, 2, 2, 4, 5, 1, 1, 1, 1, 1, 1, 1, 1, 1, 1, 1, 1, 1, 1, 1, 1, 1, 1, 1, 1, 1, 1, 3, 3, 3, 3, 3, 3, 3, 3, 3, 3, 3, 3, 3, 3, 3, 3, 3, 3, 3, 3, 3, 3, 3, 3, 3, 3, 2, 2, 2, 2, 2, 2, 2, 2, 2, 4, 4, 4, 5, 5, 5, 5, 5, 5, 5, 5]\n",
            "\n",
            "틀린문제 정답 분포: {'1': 30, '2': 20, '3': 34, '4': 5, '5': 9}\n"
          ]
        }
      ]
    },
    {
      "cell_type": "code",
      "source": [
        "pr = list(map(int,pre))\n",
        "\n",
        "print(pr)\n",
        "p = []\n",
        "for i in range(1,6):\n",
        "  p.append(pr.count(i))\n",
        "\n",
        "print()\n",
        "\n",
        "dic_p = {str(i+1):p[i] for i in range(len(p))}\n",
        "dic_p\n",
        "\n",
        "print(\"정답으로 잘못고른 예측 분포:\",dic_p)"
      ],
      "metadata": {
        "colab": {
          "base_uri": "https://localhost:8080/"
        },
        "id": "OVYpXe_BR75Z",
        "outputId": "77c2dc55-c864-4dae-b736-10550bc7d6a6"
      },
      "execution_count": null,
      "outputs": [
        {
          "output_type": "stream",
          "name": "stdout",
          "text": [
            "[3, 2, 3, 3, 2, 2, 2, 1, 4, 2, 3, 3, 3, 3, 3, 5, 5, 3, 3, 3, 4, 2, 1, 3, 3, 3, 3, 3, 1, 2, 3, 3, 3, 4, 3, 3, 3, 2, 2, 3, 2, 4, 3, 2, 3, 3, 3, 3, 2, 3, 4, 3, 2, 4, 5, 2, 4, 1, 1, 1, 4, 4, 5, 1, 1, 1, 1, 1, 1, 1, 1, 1, 1, 1, 1, 4, 1, 1, 3, 3, 3, 3, 3, 3, 3, 3, 3, 3, 3, 3, 2, 3, 1, 2, 2, 1, 3, 3]\n",
            "\n",
            "정답으로 잘못고른 예측 분포: {'1': 22, '2': 17, '3': 45, '4': 10, '5': 4}\n"
          ]
        }
      ]
    }
  ],
  "metadata": {
    "accelerator": "GPU",
    "colab": {
      "collapsed_sections": [
        "lp_lqgVfbfKW",
        "sXQXiwPxgQXe",
        "8bFqQq8BWBfF",
        "NaqY03UQy7f-",
        "HXQTKmUgiMU1",
        "weyS8HMmgEoI",
        "itlDEMdC_E1X",
        "0RDaFgycYrTU",
        "M8KMR80yYcGF",
        "STrT6yIvYXYS",
        "MTEcJJ124nyu",
        "Glig0fxdxvxY",
        "7I_xkR9BkjhJ",
        "Q5_of5K1e12S"
      ],
      "provenance": [],
      "machine_shape": "hm"
    },
    "gpuClass": "standard",
    "kernelspec": {
      "display_name": "Python 3",
      "name": "python3"
    },
    "language_info": {
      "name": "python"
    }
  },
  "nbformat": 4,
  "nbformat_minor": 0
}